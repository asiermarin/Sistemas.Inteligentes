{
 "cells": [
  {
   "cell_type": "markdown",
   "metadata": {},
   "source": [
    "# Práctica optativa"
   ]
  },
  {
   "cell_type": "markdown",
   "metadata": {},
   "source": [
    "## Descripción"
   ]
  },
  {
   "cell_type": "markdown",
   "metadata": {},
   "source": [
    "Vamos a intentar solucionar el problema de la mochila por fuerza bruta y utilizando un algoritmo genético.\n",
    "\n",
    "\n",
    "Nuestra mochila va a tener una capacidad de **6404180** kilos. La **lista de objetos, pesos y valores** será:\n",
    "\n",
    "['Hacha', 32252, 68674],\n",
    "\n",
    "['Moneda de bronce', 225790, 471010],\n",
    "\n",
    "['Corona', 468164, 944620],\n",
    "\n",
    "['Estatua de diamante', 489494, 962094],\n",
    "\n",
    "['Cinturón de esmeralda belt', 35384, 78344],\n",
    "\n",
    "['Fósil', 265590, 579152],\n",
    "\n",
    "['Moneda de oro', 497911, 902698],\n",
    "\n",
    "['Casco', 800493, 1686515],\n",
    "\n",
    "['Tinta', 823576, 1688691],\n",
    "\n",
    "['Cofre de joyas', 552202, 1056157],\n",
    "\n",
    "['Cuchillo', 323618, 677562],\n",
    "\n",
    "['Espada', 382846, 833132],\n",
    "\n",
    "['Máscara', 44676, 99192],\n",
    "\n",
    "['Collar', 169738, 376418],\n",
    "\n",
    "['Insignia', 610876, 1253986],\n",
    "\n",
    "['Perlas', 854190, 1853562],\n",
    "\n",
    "['Carcaj', 671123, 1320297],\n",
    "\n",
    "['Anillo de rubí', 698180, 1301637],\n",
    "\n",
    "['Pulsera de plata', 446517, 859835],\n",
    "\n",
    "['Reloj', 909620, 1677534],\n",
    "\n",
    "['Uniforme', 904818, 1910501],\n",
    "\n",
    "['Veneno', 730061, 1528646],\n",
    "\n",
    "['Bufanda de lana', 931932, 1827477],\n",
    "\n",
    "['Arco', 952360, 2068204],\n",
    "\n",
    "['Libro', 926023, 1746556],\n",
    "\n",
    "['Copa de zinc', 978724, 2100851, 0]\n",
    "\n",
    "\n",
    "\n",
    "**La idea es encontrar la combinación que nos permita llevar objetos de más valor.**"
   ]
  },
  {
   "cell_type": "markdown",
   "metadata": {},
   "source": [
    "## Fuerza bruta"
   ]
  },
  {
   "cell_type": "code",
   "execution_count": 12,
   "metadata": {},
   "outputs": [],
   "source": [
    "import time\n",
    "import itertools # https://docs.python.org/3/library/itertools.html\n",
    "from itertools import product "
   ]
  },
  {
   "cell_type": "markdown",
   "metadata": {},
   "source": [
    "1) Calcula la aptitud de cada solución basándote en el valor total y en si viola la restricción del peso máximo de la mochila."
   ]
  },
  {
   "cell_type": "code",
   "execution_count": 18,
   "metadata": {},
   "outputs": [],
   "source": [
    "def calcular_aptitud(solution, maximum_weight):\n",
    "    total_weight = 0\n",
    "    total_value = 0\n",
    "    # Get the values and weight for each item marked with a 1\n",
    "    for item_index in range(0, len(solution)):\n",
    "        item = solution[item_index]\n",
    "        if item == 1:\n",
    "            total_weight += knapsack_items[item_index][KNAPSACK_WEIGHT_INDEX]\n",
    "            total_value += knapsack_items[item_index][KNAPSACK_VALUE_INDEX]\n",
    "    # Zero fitness if the weight constraint is violated\n",
    "    if total_weight > maximum_weight:\n",
    "        return 0\n",
    "    return total_value"
   ]
  },
  {
   "cell_type": "markdown",
   "metadata": {},
   "source": [
    "2) Implementa un algoritmo de fuerza bruta, esto es:\n",
    "\n",
    "- Obtén una solución.\n",
    "- Calcula su aptitud.\n",
    "- Imprime la mejor solución al final del proceso.\n",
    "\n",
    "En lugar de calcular a priori todas las soluciones, lo que resulta computacionalmente complejo, vamos a utilizar la siguiente expresión:\n",
    "\n",
    "    for i in product([0, 1], repeat=bit_size):\n",
    "\n",
    "Que nos iterará sobre todas las posibles soluciones de acuerdo con sus valores binarios.\n",
    "    "
   ]
  },
  {
   "cell_type": "code",
   "execution_count": 14,
   "metadata": {},
   "outputs": [],
   "source": [
    "def ejecutar_fuerza_bruta():\n",
    "    bit_string_size = 8\n",
    "    best_score = 0\n",
    "    best_individual = []\n",
    "    knapsack_max_capacity = 10\n",
    "    print('Number of combinations: ', 2**bit_string_size)\n",
    "    iteration = 0\n",
    "    for i in product([0, 1], repeat=bit_string_size):\n",
    "        current = calculate_individual_fitness(i, knapsack_max_capacity)\n",
    "        if current > best_score:\n",
    "            best_score = current\n",
    "            best_individual = i\n",
    "            print('Iteration: ', iteration)\n",
    "            print('Best score: ', best_score)\n",
    "            print('Best individual: ', best_individual)\n",
    "        iteration += 1\n",
    "    "
   ]
  },
  {
   "cell_type": "markdown",
   "metadata": {},
   "source": [
    "3) Ejecuta la siguiente celda para obtener el resultado del algoritmo."
   ]
  },
  {
   "cell_type": "code",
   "execution_count": 15,
   "metadata": {},
   "outputs": [
    {
     "output_type": "stream",
     "name": "stdout",
     "text": [
      "\nTiempo total:  0.0\n"
     ]
    }
   ],
   "source": [
    "start_time = time.time()\n",
    "ejecutar_fuerza_bruta()\n",
    "end_time = time.time()\n",
    "total_time = end_time - start_time\n",
    "print('Tiempo total: ', total_time)"
   ]
  },
  {
   "cell_type": "markdown",
   "metadata": {},
   "source": [
    "## Algoritmos genéticos"
   ]
  },
  {
   "cell_type": "markdown",
   "metadata": {},
   "source": [
    "Es necesario configurar el algoritmo y seguir el ciclo de vida de los algoritmos genéticos.\n",
    "\n",
    "Parámetros:\n",
    "\n",
    "- Condición de parada = 1200 generaciones\n",
    "- Tamaño de la población = 1000\n",
    "- Selección de padres = Ruleta\n",
    "- Reproducción basada recombinación en dos puntos: 10 y 20\n",
    "- Ratio de mutación: 15\n",
    "- Selección de la población: 80% hijos y 20% más aptos de la anterior generación\n",
    "\n",
    "Ciclo de vida\n",
    "\n",
    "- Crear una población\n",
    "- Seleccionar padres basados en aptitud.\n",
    "- Reproducir individuos usando los padres seleccionados: Reproducir y mutar\n",
    "- Poblar la siguiente generación\n",
    "\n"
   ]
  },
  {
   "cell_type": "code",
   "execution_count": 16,
   "metadata": {},
   "outputs": [],
   "source": [
    "OBJETOS_POSIBLES = [['Hacha', 32252, 68674],\n",
    "\n",
    "['Moneda de bronce', 225790, 471010],\n",
    "\n",
    "['Corona', 468164, 944620],\n",
    "\n",
    "['Estatua de diamante', 489494, 962094],\n",
    "\n",
    "['Cinturón de esmeralda belt', 35384, 78344],\n",
    "\n",
    "['Fósil', 265590, 579152],\n",
    "\n",
    "['Moneda de oro', 497911, 902698],\n",
    "\n",
    "['Casco', 800493, 1686515],\n",
    "\n",
    "['Tinta', 823576, 1688691],\n",
    "\n",
    "['Cofre de joyas', 552202, 1056157],\n",
    "\n",
    "['Cuchillo', 323618, 677562],\n",
    "\n",
    "['Espada', 382846, 833132],\n",
    "\n",
    "['Máscara', 44676, 99192],\n",
    "\n",
    "['Collar', 169738, 376418],\n",
    "\n",
    "['Insignia', 610876, 1253986],\n",
    "\n",
    "['Perlas', 854190, 1853562],\n",
    "\n",
    "['Carcaj', 671123, 1320297],\n",
    "\n",
    "['Anillo de rubí', 698180, 1301637],\n",
    "\n",
    "['Pulsera de plata', 446517, 859835],\n",
    "\n",
    "['Reloj', 909620, 1677534],\n",
    "\n",
    "['Uniforme', 904818, 1910501],\n",
    "\n",
    "['Veneno', 730061, 1528646],\n",
    "\n",
    "['Bufanda de lana', 931932, 1827477],\n",
    "\n",
    "['Arco', 952360, 2068204],\n",
    "\n",
    "['Libro', 926023, 1746556],\n",
    "\n",
    "['Copa de zinc', 978724, 2100851]]\n",
    "\n",
    "PESO_MAXIMO = 6404180"
   ]
  },
  {
   "cell_type": "markdown",
   "metadata": {},
   "source": [
    "### Paso 1: Crear una población"
   ]
  },
  {
   "cell_type": "code",
   "execution_count": null,
   "metadata": {},
   "outputs": [],
   "source": []
  },
  {
   "cell_type": "markdown",
   "metadata": {},
   "source": [
    "### Paso 2: Seleccionar padres"
   ]
  },
  {
   "cell_type": "code",
   "execution_count": null,
   "metadata": {},
   "outputs": [],
   "source": []
  },
  {
   "cell_type": "markdown",
   "metadata": {},
   "source": [
    "### Paso 3: Reproducir individuos"
   ]
  },
  {
   "cell_type": "code",
   "execution_count": null,
   "metadata": {},
   "outputs": [],
   "source": []
  },
  {
   "cell_type": "markdown",
   "metadata": {},
   "source": [
    "### Paso 4: Poblar la siguiente generación"
   ]
  },
  {
   "cell_type": "code",
   "execution_count": null,
   "metadata": {},
   "outputs": [],
   "source": []
  },
  {
   "cell_type": "markdown",
   "metadata": {},
   "source": [
    "### Crea un script y ejecuta los pasos anteriores teniendo en cuenta los parámetros del algoritmo."
   ]
  },
  {
   "cell_type": "code",
   "execution_count": null,
   "metadata": {},
   "outputs": [],
   "source": []
  }
 ],
 "metadata": {
  "kernelspec": {
   "display_name": "Python 3",
   "language": "python",
   "name": "python3"
  },
  "language_info": {
   "codemirror_mode": {
    "name": "ipython",
    "version": 3
   },
   "file_extension": ".py",
   "mimetype": "text/x-python",
   "name": "python",
   "nbconvert_exporter": "python",
   "pygments_lexer": "ipython3",
   "version": "3.8.3-final"
  }
 },
 "nbformat": 4,
 "nbformat_minor": 4
}