{
 "cells": [
  {
   "cell_type": "markdown",
   "metadata": {},
   "source": [
    "# Práctica 1"
   ]
  },
  {
   "cell_type": "markdown",
   "metadata": {},
   "source": [
    "## Descripción"
   ]
  },
  {
   "cell_type": "markdown",
   "metadata": {},
   "source": [
    "**Problema**: Crear un modelo de clasificación que prediga si va a llover o no mañana."
   ]
  },
  {
   "cell_type": "markdown",
   "metadata": {},
   "source": [
    "**Data set**: 145.000 observaciones diarias con 24 atributos. Usaremos 23 de ellas para predecir si llueve o no."
   ]
  },
  {
   "cell_type": "markdown",
   "metadata": {},
   "source": [
    "**Lógica**: Construir un modelo de clasificación que prediga si va a llover o no."
   ]
  },
  {
   "cell_type": "markdown",
   "metadata": {},
   "source": [
    "## Código"
   ]
  },
  {
   "cell_type": "markdown",
   "metadata": {},
   "source": [
    "### I. Cargar librerías"
   ]
  },
  {
   "cell_type": "markdown",
   "metadata": {},
   "source": [
    "1) Cargar librerías *numpy* y *pandas*."
   ]
  },
  {
   "cell_type": "code",
   "execution_count": 1,
   "metadata": {},
   "outputs": [
    {
     "name": "stdout",
     "output_type": "stream",
     "text": [
      "Hola\n"
     ]
    }
   ],
   "source": [
    "import numpy as np"
   ]
  },
  {
   "cell_type": "markdown",
   "metadata": {},
   "source": [
    "### II. Cargar datos"
   ]
  },
  {
   "cell_type": "markdown",
   "metadata": {},
   "source": [
    "2) Cargar el data set weather.csv usando el método *read_csv* de pandas."
   ]
  },
  {
   "cell_type": "code",
   "execution_count": null,
   "metadata": {},
   "outputs": [],
   "source": []
  },
  {
   "cell_type": "markdown",
   "metadata": {},
   "source": [
    "3) Mostrar el tamaño del data set usando el método *shape* de pandas."
   ]
  },
  {
   "cell_type": "code",
   "execution_count": null,
   "metadata": {},
   "outputs": [],
   "source": []
  },
  {
   "cell_type": "markdown",
   "metadata": {},
   "source": [
    "4) Mostrar las 5 primeras líneas del data set usando cualquier método."
   ]
  },
  {
   "cell_type": "code",
   "execution_count": null,
   "metadata": {},
   "outputs": [],
   "source": []
  },
  {
   "cell_type": "markdown",
   "metadata": {},
   "source": [
    "### III. Pre-procesado"
   ]
  },
  {
   "cell_type": "markdown",
   "metadata": {},
   "source": [
    "5) En todos los data sets puede haber atributos sesgados, incorrectos, imprecisos etc. Una forma de comprobar qué atributos son es contar los valores y compararlos con el tamaño obtenido en 3). Para ello utilizaremos el método *count* y el método *sort_values* de pandas."
   ]
  },
  {
   "cell_type": "code",
   "execution_count": null,
   "metadata": {},
   "outputs": [],
   "source": []
  },
  {
   "cell_type": "markdown",
   "metadata": {},
   "source": [
    "6) Es necesario borrar todas las variables que no sean significativas. De acuerdo con el punto anterior, borraremos las siguientes: 'Sunshine','Evaporation','Cloud3pm','Cloud9am','Location','RISK_MM','Date'. Risk_MM denota la cantidad de lluvia prevista al día siguiente y puede dañar nuestro modelo.\n",
    "\n",
    "Para borrar columnas el método *drop* de pandas. Mostraremos a continuación el estado del data set por medio del método *shape*."
   ]
  },
  {
   "cell_type": "code",
   "execution_count": null,
   "metadata": {},
   "outputs": [],
   "source": []
  },
  {
   "cell_type": "markdown",
   "metadata": {},
   "source": [
    "7) Ahora eliminaremos los datos nulos utilizando para ello el método *dropna* con el parámetro *how='any'* [info](https://pandas.pydata.org/pandas-docs/stable/reference/api/pandas.DataFrame.dropna.html)\n",
    "  Después, mostraremos el estado del data set por medio del método *shape*."
   ]
  },
  {
   "cell_type": "code",
   "execution_count": null,
   "metadata": {},
   "outputs": [],
   "source": []
  },
  {
   "cell_type": "markdown",
   "metadata": {},
   "source": [
    "8) Es interesante comprobar si nuestros datos tienen outliers (valores atípicos), esto es datos que difieren significativamente de otros. Los outliers son consecuencia de calculos erróneos cuando se recopilan los datos.\n",
    "\n",
    "Para esto vamos a emplear el módulo *stats* de la librería SciPy (herramientas y algoritmos matemáticos)\n",
    "\n",
    "    from scipy import stats\n",
    "    \n",
    "A continuación obtenemos el valor absoluto de la desviación típica de todos los datos.\n",
    "\n",
    "    z = np.abs(stats.zscore(df._get_numeric_data()))\n",
    "\n",
    "Un valor de z-score mayor que 3 nos dice que el valor es mucho mayor que el promedio, un valor igual a 0 que está en el promedio.\n",
    "\n",
    "[Standard Normal Distribution](http://www.ltcconline.net/greenl/courses/201/probdist/ctsdis8.jpg)\n",
    "\n",
    "\n",
    "Nos quedaremos con aquellos datos que sean menores que 3 en base a las columnas (axis = 1).\n",
    "\n",
    "    df= df[(z < 3).all(axis=1)]\n",
    "    \n",
    "Por último, mostramos el estado del data set con *shape*."
   ]
  },
  {
   "cell_type": "code",
   "execution_count": null,
   "metadata": {},
   "outputs": [],
   "source": []
  },
  {
   "cell_type": "markdown",
   "metadata": {},
   "source": [
    "9) Vamos a emplear labels (etiquetas) en lugar de 0 y 1, en los atributos RainToday y RainTomorrow. Utiliza el método *replace* de pandas."
   ]
  },
  {
   "cell_type": "code",
   "execution_count": null,
   "metadata": {},
   "outputs": [],
   "source": []
  },
  {
   "cell_type": "markdown",
   "metadata": {},
   "source": [
    "10) Normalizaremos los datos para que no haya distorsiones entre las diferencias del rango de los valores. Esto es necesario cuando las variables tienen diferentes rangos. ¿Por qué? Veamos un ejemplo: \n",
    "\n",
    "Tenemos los atributos edad (0-100) y salario (0-100.000), al hacer un análisis como una regresión lineal múltiple, como es nuestro caso,  el atributo salario tendrá más influencia debido a su mayor valor.\n",
    "\n",
    "Para llevar a cabo la normalización vamos a emplear la función *MinMaxScaler* del módulo *preprocessing* de la librería *sklearn*.\n",
    "\n",
    "    from sklearn import preprocessing\n",
    "    scaler = preprocessing.MinMaxScaler()\n",
    "    scaler.fit(df)\n",
    "\n",
    "Mostraremos algunos datos de nuestro data set."
   ]
  },
  {
   "cell_type": "markdown",
   "metadata": {},
   "source": [
    "### IV. Análisis exploratorio de datos (Exploratory Data Analysis - EDA)"
   ]
  },
  {
   "cell_type": "markdown",
   "metadata": {},
   "source": [
    "Vamos a identificar las variables más significativas para predecir nuestra función. Para ello utilizaremos la función *SelectKBest* [info](https://scikit-learn.org/stable/modules/generated/sklearn.feature_selection.SelectKBest.html) de la librería sklearn(scikit-learn). Utilizaremos el método predictivo chi2 para puntuar a cada una de ellas y seleccionaremos por ejemplo 3.\n",
    "\n",
    "    from sklearn.feature_selection import SelectKBest, chi2\n",
    "    X = df.loc[:,df.columns!='RainTomorrow']\n",
    "    y = df[['RainTomorrow']]\n",
    "    selector = SelectKBest(chi2, k=3)\n",
    "    selector.fit(X, y)\n",
    "    \n",
    "Y seleccionamos las variables con *get_support*.\n",
    "\n",
    "    print(X.columns[selector.get_support(indices=True)])"
   ]
  },
  {
   "cell_type": "code",
   "execution_count": null,
   "metadata": {},
   "outputs": [],
   "source": []
  },
  {
   "cell_type": "markdown",
   "metadata": {},
   "source": [
    "Y este es el final de la Práctica 1. En la siguiente práctica construiremos distintos modelos de ML para predecir si llueve o no mañana"
   ]
  },
  {
   "cell_type": "code",
   "execution_count": null,
   "metadata": {},
   "outputs": [],
   "source": []
  }
 ],
 "metadata": {
  "kernelspec": {
   "display_name": "Python 3",
   "language": "python",
   "name": "python3"
  },
  "language_info": {
   "codemirror_mode": {
    "name": "ipython",
    "version": 3
   },
   "file_extension": ".py",
   "mimetype": "text/x-python",
   "name": "python",
   "nbconvert_exporter": "python",
   "pygments_lexer": "ipython3",
   "version": "3.8.3"
  }
 },
 "nbformat": 4,
 "nbformat_minor": 4
}
