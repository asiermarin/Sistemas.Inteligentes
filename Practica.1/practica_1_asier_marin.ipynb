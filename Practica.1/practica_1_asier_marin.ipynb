{
 "cells": [
  {
   "cell_type": "markdown",
   "metadata": {},
   "source": [
    "# Práctica 1"
   ]
  },
  {
   "cell_type": "markdown",
   "metadata": {},
   "source": [
    "## Descripción"
   ]
  },
  {
   "cell_type": "markdown",
   "metadata": {},
   "source": [
    "**Problema**: Crear un modelo de clasificación que prediga si va a llover o no mañana."
   ]
  },
  {
   "cell_type": "markdown",
   "metadata": {},
   "source": [
    "**Data set**: 145.000 observaciones diarias con 24 atributos. Usaremos 23 de ellas para predecir si llueve o no."
   ]
  },
  {
   "cell_type": "markdown",
   "metadata": {},
   "source": [
    "**Lógica**: Construir un modelo de clasificación que prediga si va a llover o no."
   ]
  },
  {
   "cell_type": "markdown",
   "metadata": {},
   "source": [
    "## Código"
   ]
  },
  {
   "cell_type": "markdown",
   "metadata": {},
   "source": [
    "### Cargar librerías"
   ]
  },
  {
   "cell_type": "markdown",
   "metadata": {},
   "source": [
    "1) Cargar librerías *numpy* y *pandas*."
   ]
  },
  {
   "cell_type": "code",
   "execution_count": 1,
   "metadata": {},
   "outputs": [],
   "source": [
    "import numpy as np\n",
    "import pandas as pds"
   ]
  },
  {
   "cell_type": "markdown",
   "metadata": {},
   "source": [
    "### Cargar datos"
   ]
  },
  {
   "cell_type": "markdown",
   "metadata": {},
   "source": [
    "2) Cargar el dataset weatherAUS.csv usando el método *read_csv* de pandas."
   ]
  },
  {
   "cell_type": "code",
   "execution_count": 2,
   "metadata": {},
   "outputs": [
    {
     "output_type": "execute_result",
     "data": {
      "text/plain": [
       "              Date Location  MinTemp  MaxTemp  Rainfall  Evaporation  \\\n",
       "0       2008-12-01   Albury     13.4     22.9       0.6          NaN   \n",
       "1       2008-12-02   Albury      7.4     25.1       0.0          NaN   \n",
       "2       2008-12-03   Albury     12.9     25.7       0.0          NaN   \n",
       "3       2008-12-04   Albury      9.2     28.0       0.0          NaN   \n",
       "4       2008-12-05   Albury     17.5     32.3       1.0          NaN   \n",
       "...            ...      ...      ...      ...       ...          ...   \n",
       "142188  2017-06-20    Uluru      3.5     21.8       0.0          NaN   \n",
       "142189  2017-06-21    Uluru      2.8     23.4       0.0          NaN   \n",
       "142190  2017-06-22    Uluru      3.6     25.3       0.0          NaN   \n",
       "142191  2017-06-23    Uluru      5.4     26.9       0.0          NaN   \n",
       "142192  2017-06-24    Uluru      7.8     27.0       0.0          NaN   \n",
       "\n",
       "        Sunshine WindGustDir  WindGustSpeed WindDir9am  ... Humidity3pm  \\\n",
       "0            NaN           W           44.0          W  ...        22.0   \n",
       "1            NaN         WNW           44.0        NNW  ...        25.0   \n",
       "2            NaN         WSW           46.0          W  ...        30.0   \n",
       "3            NaN          NE           24.0         SE  ...        16.0   \n",
       "4            NaN           W           41.0        ENE  ...        33.0   \n",
       "...          ...         ...            ...        ...  ...         ...   \n",
       "142188       NaN           E           31.0        ESE  ...        27.0   \n",
       "142189       NaN           E           31.0         SE  ...        24.0   \n",
       "142190       NaN         NNW           22.0         SE  ...        21.0   \n",
       "142191       NaN           N           37.0         SE  ...        24.0   \n",
       "142192       NaN          SE           28.0        SSE  ...        24.0   \n",
       "\n",
       "        Pressure9am  Pressure3pm  Cloud9am  Cloud3pm  Temp9am  Temp3pm  \\\n",
       "0            1007.7       1007.1       8.0       NaN     16.9     21.8   \n",
       "1            1010.6       1007.8       NaN       NaN     17.2     24.3   \n",
       "2            1007.6       1008.7       NaN       2.0     21.0     23.2   \n",
       "3            1017.6       1012.8       NaN       NaN     18.1     26.5   \n",
       "4            1010.8       1006.0       7.0       8.0     17.8     29.7   \n",
       "...             ...          ...       ...       ...      ...      ...   \n",
       "142188       1024.7       1021.2       NaN       NaN      9.4     20.9   \n",
       "142189       1024.6       1020.3       NaN       NaN     10.1     22.4   \n",
       "142190       1023.5       1019.1       NaN       NaN     10.9     24.5   \n",
       "142191       1021.0       1016.8       NaN       NaN     12.5     26.1   \n",
       "142192       1019.4       1016.5       3.0       2.0     15.1     26.0   \n",
       "\n",
       "        RainToday  RISK_MM  RainTomorrow  \n",
       "0              No      0.0            No  \n",
       "1              No      0.0            No  \n",
       "2              No      0.0            No  \n",
       "3              No      1.0            No  \n",
       "4              No      0.2            No  \n",
       "...           ...      ...           ...  \n",
       "142188         No      0.0            No  \n",
       "142189         No      0.0            No  \n",
       "142190         No      0.0            No  \n",
       "142191         No      0.0            No  \n",
       "142192         No      0.0            No  \n",
       "\n",
       "[142193 rows x 24 columns]"
      ],
      "text/html": "<div>\n<style scoped>\n    .dataframe tbody tr th:only-of-type {\n        vertical-align: middle;\n    }\n\n    .dataframe tbody tr th {\n        vertical-align: top;\n    }\n\n    .dataframe thead th {\n        text-align: right;\n    }\n</style>\n<table border=\"1\" class=\"dataframe\">\n  <thead>\n    <tr style=\"text-align: right;\">\n      <th></th>\n      <th>Date</th>\n      <th>Location</th>\n      <th>MinTemp</th>\n      <th>MaxTemp</th>\n      <th>Rainfall</th>\n      <th>Evaporation</th>\n      <th>Sunshine</th>\n      <th>WindGustDir</th>\n      <th>WindGustSpeed</th>\n      <th>WindDir9am</th>\n      <th>...</th>\n      <th>Humidity3pm</th>\n      <th>Pressure9am</th>\n      <th>Pressure3pm</th>\n      <th>Cloud9am</th>\n      <th>Cloud3pm</th>\n      <th>Temp9am</th>\n      <th>Temp3pm</th>\n      <th>RainToday</th>\n      <th>RISK_MM</th>\n      <th>RainTomorrow</th>\n    </tr>\n  </thead>\n  <tbody>\n    <tr>\n      <th>0</th>\n      <td>2008-12-01</td>\n      <td>Albury</td>\n      <td>13.4</td>\n      <td>22.9</td>\n      <td>0.6</td>\n      <td>NaN</td>\n      <td>NaN</td>\n      <td>W</td>\n      <td>44.0</td>\n      <td>W</td>\n      <td>...</td>\n      <td>22.0</td>\n      <td>1007.7</td>\n      <td>1007.1</td>\n      <td>8.0</td>\n      <td>NaN</td>\n      <td>16.9</td>\n      <td>21.8</td>\n      <td>No</td>\n      <td>0.0</td>\n      <td>No</td>\n    </tr>\n    <tr>\n      <th>1</th>\n      <td>2008-12-02</td>\n      <td>Albury</td>\n      <td>7.4</td>\n      <td>25.1</td>\n      <td>0.0</td>\n      <td>NaN</td>\n      <td>NaN</td>\n      <td>WNW</td>\n      <td>44.0</td>\n      <td>NNW</td>\n      <td>...</td>\n      <td>25.0</td>\n      <td>1010.6</td>\n      <td>1007.8</td>\n      <td>NaN</td>\n      <td>NaN</td>\n      <td>17.2</td>\n      <td>24.3</td>\n      <td>No</td>\n      <td>0.0</td>\n      <td>No</td>\n    </tr>\n    <tr>\n      <th>2</th>\n      <td>2008-12-03</td>\n      <td>Albury</td>\n      <td>12.9</td>\n      <td>25.7</td>\n      <td>0.0</td>\n      <td>NaN</td>\n      <td>NaN</td>\n      <td>WSW</td>\n      <td>46.0</td>\n      <td>W</td>\n      <td>...</td>\n      <td>30.0</td>\n      <td>1007.6</td>\n      <td>1008.7</td>\n      <td>NaN</td>\n      <td>2.0</td>\n      <td>21.0</td>\n      <td>23.2</td>\n      <td>No</td>\n      <td>0.0</td>\n      <td>No</td>\n    </tr>\n    <tr>\n      <th>3</th>\n      <td>2008-12-04</td>\n      <td>Albury</td>\n      <td>9.2</td>\n      <td>28.0</td>\n      <td>0.0</td>\n      <td>NaN</td>\n      <td>NaN</td>\n      <td>NE</td>\n      <td>24.0</td>\n      <td>SE</td>\n      <td>...</td>\n      <td>16.0</td>\n      <td>1017.6</td>\n      <td>1012.8</td>\n      <td>NaN</td>\n      <td>NaN</td>\n      <td>18.1</td>\n      <td>26.5</td>\n      <td>No</td>\n      <td>1.0</td>\n      <td>No</td>\n    </tr>\n    <tr>\n      <th>4</th>\n      <td>2008-12-05</td>\n      <td>Albury</td>\n      <td>17.5</td>\n      <td>32.3</td>\n      <td>1.0</td>\n      <td>NaN</td>\n      <td>NaN</td>\n      <td>W</td>\n      <td>41.0</td>\n      <td>ENE</td>\n      <td>...</td>\n      <td>33.0</td>\n      <td>1010.8</td>\n      <td>1006.0</td>\n      <td>7.0</td>\n      <td>8.0</td>\n      <td>17.8</td>\n      <td>29.7</td>\n      <td>No</td>\n      <td>0.2</td>\n      <td>No</td>\n    </tr>\n    <tr>\n      <th>...</th>\n      <td>...</td>\n      <td>...</td>\n      <td>...</td>\n      <td>...</td>\n      <td>...</td>\n      <td>...</td>\n      <td>...</td>\n      <td>...</td>\n      <td>...</td>\n      <td>...</td>\n      <td>...</td>\n      <td>...</td>\n      <td>...</td>\n      <td>...</td>\n      <td>...</td>\n      <td>...</td>\n      <td>...</td>\n      <td>...</td>\n      <td>...</td>\n      <td>...</td>\n      <td>...</td>\n    </tr>\n    <tr>\n      <th>142188</th>\n      <td>2017-06-20</td>\n      <td>Uluru</td>\n      <td>3.5</td>\n      <td>21.8</td>\n      <td>0.0</td>\n      <td>NaN</td>\n      <td>NaN</td>\n      <td>E</td>\n      <td>31.0</td>\n      <td>ESE</td>\n      <td>...</td>\n      <td>27.0</td>\n      <td>1024.7</td>\n      <td>1021.2</td>\n      <td>NaN</td>\n      <td>NaN</td>\n      <td>9.4</td>\n      <td>20.9</td>\n      <td>No</td>\n      <td>0.0</td>\n      <td>No</td>\n    </tr>\n    <tr>\n      <th>142189</th>\n      <td>2017-06-21</td>\n      <td>Uluru</td>\n      <td>2.8</td>\n      <td>23.4</td>\n      <td>0.0</td>\n      <td>NaN</td>\n      <td>NaN</td>\n      <td>E</td>\n      <td>31.0</td>\n      <td>SE</td>\n      <td>...</td>\n      <td>24.0</td>\n      <td>1024.6</td>\n      <td>1020.3</td>\n      <td>NaN</td>\n      <td>NaN</td>\n      <td>10.1</td>\n      <td>22.4</td>\n      <td>No</td>\n      <td>0.0</td>\n      <td>No</td>\n    </tr>\n    <tr>\n      <th>142190</th>\n      <td>2017-06-22</td>\n      <td>Uluru</td>\n      <td>3.6</td>\n      <td>25.3</td>\n      <td>0.0</td>\n      <td>NaN</td>\n      <td>NaN</td>\n      <td>NNW</td>\n      <td>22.0</td>\n      <td>SE</td>\n      <td>...</td>\n      <td>21.0</td>\n      <td>1023.5</td>\n      <td>1019.1</td>\n      <td>NaN</td>\n      <td>NaN</td>\n      <td>10.9</td>\n      <td>24.5</td>\n      <td>No</td>\n      <td>0.0</td>\n      <td>No</td>\n    </tr>\n    <tr>\n      <th>142191</th>\n      <td>2017-06-23</td>\n      <td>Uluru</td>\n      <td>5.4</td>\n      <td>26.9</td>\n      <td>0.0</td>\n      <td>NaN</td>\n      <td>NaN</td>\n      <td>N</td>\n      <td>37.0</td>\n      <td>SE</td>\n      <td>...</td>\n      <td>24.0</td>\n      <td>1021.0</td>\n      <td>1016.8</td>\n      <td>NaN</td>\n      <td>NaN</td>\n      <td>12.5</td>\n      <td>26.1</td>\n      <td>No</td>\n      <td>0.0</td>\n      <td>No</td>\n    </tr>\n    <tr>\n      <th>142192</th>\n      <td>2017-06-24</td>\n      <td>Uluru</td>\n      <td>7.8</td>\n      <td>27.0</td>\n      <td>0.0</td>\n      <td>NaN</td>\n      <td>NaN</td>\n      <td>SE</td>\n      <td>28.0</td>\n      <td>SSE</td>\n      <td>...</td>\n      <td>24.0</td>\n      <td>1019.4</td>\n      <td>1016.5</td>\n      <td>3.0</td>\n      <td>2.0</td>\n      <td>15.1</td>\n      <td>26.0</td>\n      <td>No</td>\n      <td>0.0</td>\n      <td>No</td>\n    </tr>\n  </tbody>\n</table>\n<p>142193 rows × 24 columns</p>\n</div>"
     },
     "metadata": {},
     "execution_count": 2
    }
   ],
   "source": [
    "weatherPath = './weatherAUS.csv'\n",
    "pds.read_csv(weatherPath)"
   ]
  },
  {
   "cell_type": "markdown",
   "metadata": {},
   "source": [
    "3) Mostrar el tamaño del data set usando el método *shape* de pandas."
   ]
  },
  {
   "cell_type": "code",
   "execution_count": 3,
   "metadata": {},
   "outputs": [
    {
     "output_type": "execute_result",
     "data": {
      "text/plain": [
       "(142193, 24)"
      ]
     },
     "metadata": {},
     "execution_count": 3
    }
   ],
   "source": [
    "df = pds.read_csv(weatherPath)\n",
    "df.shape"
   ]
  },
  {
   "cell_type": "markdown",
   "metadata": {},
   "source": [
    "4) Mostrar las 5 primeras líneas del data set usando cualquier método."
   ]
  },
  {
   "cell_type": "code",
   "execution_count": 4,
   "metadata": {},
   "outputs": [
    {
     "output_type": "stream",
     "name": "stdout",
     "text": [
      "         Date Location  MinTemp  MaxTemp  Rainfall  Evaporation  Sunshine  \\\n0  2008-12-01   Albury     13.4     22.9       0.6          NaN       NaN   \n1  2008-12-02   Albury      7.4     25.1       0.0          NaN       NaN   \n2  2008-12-03   Albury     12.9     25.7       0.0          NaN       NaN   \n3  2008-12-04   Albury      9.2     28.0       0.0          NaN       NaN   \n4  2008-12-05   Albury     17.5     32.3       1.0          NaN       NaN   \n\n  WindGustDir  WindGustSpeed WindDir9am  ... Humidity3pm  Pressure9am  \\\n0           W           44.0          W  ...        22.0       1007.7   \n1         WNW           44.0        NNW  ...        25.0       1010.6   \n2         WSW           46.0          W  ...        30.0       1007.6   \n3          NE           24.0         SE  ...        16.0       1017.6   \n4           W           41.0        ENE  ...        33.0       1010.8   \n\n   Pressure3pm  Cloud9am  Cloud3pm  Temp9am  Temp3pm  RainToday  RISK_MM  \\\n0       1007.1       8.0       NaN     16.9     21.8         No      0.0   \n1       1007.8       NaN       NaN     17.2     24.3         No      0.0   \n2       1008.7       NaN       2.0     21.0     23.2         No      0.0   \n3       1012.8       NaN       NaN     18.1     26.5         No      1.0   \n4       1006.0       7.0       8.0     17.8     29.7         No      0.2   \n\n   RainTomorrow  \n0            No  \n1            No  \n2            No  \n3            No  \n4            No  \n\n[5 rows x 24 columns]\n"
     ]
    }
   ],
   "source": [
    "print(df[0:5])"
   ]
  },
  {
   "cell_type": "markdown",
   "metadata": {},
   "source": [
    "### Pre-procesado"
   ]
  },
  {
   "cell_type": "markdown",
   "metadata": {},
   "source": [
    "5) En todos los data sets puede haber atributos sesgados, incorrectos, imprecisos etc. Una forma de comprobar qué atributos son es contar los valores y compararlo con el tamaño obtenido en 3). Para ello utilizaremos el método *count* y el método *sort_values* de pandas."
   ]
  },
  {
   "cell_type": "code",
   "execution_count": 5,
   "metadata": {},
   "outputs": [
    {
     "output_type": "stream",
     "name": "stdout",
     "text": [
      "Date             142193\nLocation         142193\nMinTemp          141556\nMaxTemp          141871\nRainfall         140787\nEvaporation       81350\nSunshine          74377\nWindGustDir      132863\nWindGustSpeed    132923\nWindDir9am       132180\nWindDir3pm       138415\nWindSpeed9am     140845\nWindSpeed3pm     139563\nHumidity9am      140419\nHumidity3pm      138583\nPressure9am      128179\nPressure3pm      128212\nCloud9am          88536\nCloud3pm          85099\nTemp9am          141289\nTemp3pm          139467\nRainToday        140787\nRISK_MM          142193\nRainTomorrow     142193\ndtype: int64\n"
     ]
    },
    {
     "output_type": "execute_result",
     "data": {
      "text/plain": [
       "             Date       Location  MinTemp  MaxTemp  Rainfall  Evaporation  \\\n",
       "44351  2007-11-01       Canberra      8.0     24.3       0.0          3.4   \n",
       "44352  2007-11-02       Canberra     14.0     26.9       3.6          4.4   \n",
       "44353  2007-11-03       Canberra     13.7     23.4       3.6          5.8   \n",
       "44354  2007-11-04       Canberra     13.3     15.5      39.8          7.2   \n",
       "44355  2007-11-05       Canberra      7.6     16.1       2.8          5.6   \n",
       "...           ...            ...      ...      ...       ...          ...   \n",
       "38814  2017-06-25     WaggaWagga     -0.1     12.7       0.0          NaN   \n",
       "32833  2017-06-25         Sydney      7.6     19.3       0.0          3.4   \n",
       "29496  2017-06-25       Richmond      2.7     20.0       0.2          NaN   \n",
       "26545  2017-06-25        Penrith      3.1     20.0       0.0          NaN   \n",
       "35838  2017-06-25  SydneyAirport      6.8     19.5       0.0          3.4   \n",
       "\n",
       "       Sunshine WindGustDir  WindGustSpeed WindDir9am  ... Humidity3pm  \\\n",
       "44351       6.3          NW           30.0         SW  ...        29.0   \n",
       "44352       9.7         ENE           39.0          E  ...        36.0   \n",
       "44353       3.3          NW           85.0          N  ...        69.0   \n",
       "44354       9.1          NW           54.0        WNW  ...        56.0   \n",
       "44355      10.6         SSE           50.0        SSE  ...        49.0   \n",
       "...         ...         ...            ...        ...  ...         ...   \n",
       "38814       NaN         SSW           19.0        SSW  ...        54.0   \n",
       "32833       9.4           W           35.0          W  ...        32.0   \n",
       "29496       NaN           W           37.0        NaN  ...        35.0   \n",
       "26545       NaN          SW           28.0         SE  ...        45.0   \n",
       "35838       9.4         WSW           46.0         NW  ...        42.0   \n",
       "\n",
       "       Pressure9am  Pressure3pm  Cloud9am  Cloud3pm  Temp9am  Temp3pm  \\\n",
       "44351       1019.7       1015.0       7.0       7.0     14.4     23.6   \n",
       "44352       1012.4       1008.4       5.0       3.0     17.5     25.7   \n",
       "44353       1009.5       1007.2       8.0       7.0     15.4     20.2   \n",
       "44354       1005.5       1007.0       2.0       7.0     13.5     14.1   \n",
       "44355       1018.3       1018.5       7.0       7.0     11.1     15.4   \n",
       "...            ...          ...       ...       ...      ...      ...   \n",
       "38814       1020.8       1018.5       8.0       8.0      4.0     10.7   \n",
       "32833       1018.6       1015.4       1.0       1.0      9.4     18.8   \n",
       "29496       1018.8       1015.2       NaN       NaN      9.6     19.4   \n",
       "26545          NaN          NaN       NaN       NaN      7.8     17.8   \n",
       "35838       1018.4       1015.2       1.0       1.0     11.9     17.9   \n",
       "\n",
       "       RainToday  RISK_MM  RainTomorrow  \n",
       "44351         No      3.6           Yes  \n",
       "44352        Yes      3.6           Yes  \n",
       "44353        Yes     39.8           Yes  \n",
       "44354        Yes      2.8           Yes  \n",
       "44355        Yes      0.0            No  \n",
       "...          ...      ...           ...  \n",
       "38814         No      0.0            No  \n",
       "32833         No      0.0            No  \n",
       "29496         No      0.0            No  \n",
       "26545         No      0.0            No  \n",
       "35838         No      0.0            No  \n",
       "\n",
       "[142193 rows x 24 columns]"
      ],
      "text/html": "<div>\n<style scoped>\n    .dataframe tbody tr th:only-of-type {\n        vertical-align: middle;\n    }\n\n    .dataframe tbody tr th {\n        vertical-align: top;\n    }\n\n    .dataframe thead th {\n        text-align: right;\n    }\n</style>\n<table border=\"1\" class=\"dataframe\">\n  <thead>\n    <tr style=\"text-align: right;\">\n      <th></th>\n      <th>Date</th>\n      <th>Location</th>\n      <th>MinTemp</th>\n      <th>MaxTemp</th>\n      <th>Rainfall</th>\n      <th>Evaporation</th>\n      <th>Sunshine</th>\n      <th>WindGustDir</th>\n      <th>WindGustSpeed</th>\n      <th>WindDir9am</th>\n      <th>...</th>\n      <th>Humidity3pm</th>\n      <th>Pressure9am</th>\n      <th>Pressure3pm</th>\n      <th>Cloud9am</th>\n      <th>Cloud3pm</th>\n      <th>Temp9am</th>\n      <th>Temp3pm</th>\n      <th>RainToday</th>\n      <th>RISK_MM</th>\n      <th>RainTomorrow</th>\n    </tr>\n  </thead>\n  <tbody>\n    <tr>\n      <th>44351</th>\n      <td>2007-11-01</td>\n      <td>Canberra</td>\n      <td>8.0</td>\n      <td>24.3</td>\n      <td>0.0</td>\n      <td>3.4</td>\n      <td>6.3</td>\n      <td>NW</td>\n      <td>30.0</td>\n      <td>SW</td>\n      <td>...</td>\n      <td>29.0</td>\n      <td>1019.7</td>\n      <td>1015.0</td>\n      <td>7.0</td>\n      <td>7.0</td>\n      <td>14.4</td>\n      <td>23.6</td>\n      <td>No</td>\n      <td>3.6</td>\n      <td>Yes</td>\n    </tr>\n    <tr>\n      <th>44352</th>\n      <td>2007-11-02</td>\n      <td>Canberra</td>\n      <td>14.0</td>\n      <td>26.9</td>\n      <td>3.6</td>\n      <td>4.4</td>\n      <td>9.7</td>\n      <td>ENE</td>\n      <td>39.0</td>\n      <td>E</td>\n      <td>...</td>\n      <td>36.0</td>\n      <td>1012.4</td>\n      <td>1008.4</td>\n      <td>5.0</td>\n      <td>3.0</td>\n      <td>17.5</td>\n      <td>25.7</td>\n      <td>Yes</td>\n      <td>3.6</td>\n      <td>Yes</td>\n    </tr>\n    <tr>\n      <th>44353</th>\n      <td>2007-11-03</td>\n      <td>Canberra</td>\n      <td>13.7</td>\n      <td>23.4</td>\n      <td>3.6</td>\n      <td>5.8</td>\n      <td>3.3</td>\n      <td>NW</td>\n      <td>85.0</td>\n      <td>N</td>\n      <td>...</td>\n      <td>69.0</td>\n      <td>1009.5</td>\n      <td>1007.2</td>\n      <td>8.0</td>\n      <td>7.0</td>\n      <td>15.4</td>\n      <td>20.2</td>\n      <td>Yes</td>\n      <td>39.8</td>\n      <td>Yes</td>\n    </tr>\n    <tr>\n      <th>44354</th>\n      <td>2007-11-04</td>\n      <td>Canberra</td>\n      <td>13.3</td>\n      <td>15.5</td>\n      <td>39.8</td>\n      <td>7.2</td>\n      <td>9.1</td>\n      <td>NW</td>\n      <td>54.0</td>\n      <td>WNW</td>\n      <td>...</td>\n      <td>56.0</td>\n      <td>1005.5</td>\n      <td>1007.0</td>\n      <td>2.0</td>\n      <td>7.0</td>\n      <td>13.5</td>\n      <td>14.1</td>\n      <td>Yes</td>\n      <td>2.8</td>\n      <td>Yes</td>\n    </tr>\n    <tr>\n      <th>44355</th>\n      <td>2007-11-05</td>\n      <td>Canberra</td>\n      <td>7.6</td>\n      <td>16.1</td>\n      <td>2.8</td>\n      <td>5.6</td>\n      <td>10.6</td>\n      <td>SSE</td>\n      <td>50.0</td>\n      <td>SSE</td>\n      <td>...</td>\n      <td>49.0</td>\n      <td>1018.3</td>\n      <td>1018.5</td>\n      <td>7.0</td>\n      <td>7.0</td>\n      <td>11.1</td>\n      <td>15.4</td>\n      <td>Yes</td>\n      <td>0.0</td>\n      <td>No</td>\n    </tr>\n    <tr>\n      <th>...</th>\n      <td>...</td>\n      <td>...</td>\n      <td>...</td>\n      <td>...</td>\n      <td>...</td>\n      <td>...</td>\n      <td>...</td>\n      <td>...</td>\n      <td>...</td>\n      <td>...</td>\n      <td>...</td>\n      <td>...</td>\n      <td>...</td>\n      <td>...</td>\n      <td>...</td>\n      <td>...</td>\n      <td>...</td>\n      <td>...</td>\n      <td>...</td>\n      <td>...</td>\n      <td>...</td>\n    </tr>\n    <tr>\n      <th>38814</th>\n      <td>2017-06-25</td>\n      <td>WaggaWagga</td>\n      <td>-0.1</td>\n      <td>12.7</td>\n      <td>0.0</td>\n      <td>NaN</td>\n      <td>NaN</td>\n      <td>SSW</td>\n      <td>19.0</td>\n      <td>SSW</td>\n      <td>...</td>\n      <td>54.0</td>\n      <td>1020.8</td>\n      <td>1018.5</td>\n      <td>8.0</td>\n      <td>8.0</td>\n      <td>4.0</td>\n      <td>10.7</td>\n      <td>No</td>\n      <td>0.0</td>\n      <td>No</td>\n    </tr>\n    <tr>\n      <th>32833</th>\n      <td>2017-06-25</td>\n      <td>Sydney</td>\n      <td>7.6</td>\n      <td>19.3</td>\n      <td>0.0</td>\n      <td>3.4</td>\n      <td>9.4</td>\n      <td>W</td>\n      <td>35.0</td>\n      <td>W</td>\n      <td>...</td>\n      <td>32.0</td>\n      <td>1018.6</td>\n      <td>1015.4</td>\n      <td>1.0</td>\n      <td>1.0</td>\n      <td>9.4</td>\n      <td>18.8</td>\n      <td>No</td>\n      <td>0.0</td>\n      <td>No</td>\n    </tr>\n    <tr>\n      <th>29496</th>\n      <td>2017-06-25</td>\n      <td>Richmond</td>\n      <td>2.7</td>\n      <td>20.0</td>\n      <td>0.2</td>\n      <td>NaN</td>\n      <td>NaN</td>\n      <td>W</td>\n      <td>37.0</td>\n      <td>NaN</td>\n      <td>...</td>\n      <td>35.0</td>\n      <td>1018.8</td>\n      <td>1015.2</td>\n      <td>NaN</td>\n      <td>NaN</td>\n      <td>9.6</td>\n      <td>19.4</td>\n      <td>No</td>\n      <td>0.0</td>\n      <td>No</td>\n    </tr>\n    <tr>\n      <th>26545</th>\n      <td>2017-06-25</td>\n      <td>Penrith</td>\n      <td>3.1</td>\n      <td>20.0</td>\n      <td>0.0</td>\n      <td>NaN</td>\n      <td>NaN</td>\n      <td>SW</td>\n      <td>28.0</td>\n      <td>SE</td>\n      <td>...</td>\n      <td>45.0</td>\n      <td>NaN</td>\n      <td>NaN</td>\n      <td>NaN</td>\n      <td>NaN</td>\n      <td>7.8</td>\n      <td>17.8</td>\n      <td>No</td>\n      <td>0.0</td>\n      <td>No</td>\n    </tr>\n    <tr>\n      <th>35838</th>\n      <td>2017-06-25</td>\n      <td>SydneyAirport</td>\n      <td>6.8</td>\n      <td>19.5</td>\n      <td>0.0</td>\n      <td>3.4</td>\n      <td>9.4</td>\n      <td>WSW</td>\n      <td>46.0</td>\n      <td>NW</td>\n      <td>...</td>\n      <td>42.0</td>\n      <td>1018.4</td>\n      <td>1015.2</td>\n      <td>1.0</td>\n      <td>1.0</td>\n      <td>11.9</td>\n      <td>17.9</td>\n      <td>No</td>\n      <td>0.0</td>\n      <td>No</td>\n    </tr>\n  </tbody>\n</table>\n<p>142193 rows × 24 columns</p>\n</div>"
     },
     "metadata": {},
     "execution_count": 5
    }
   ],
   "source": [
    "print(df.count())\n",
    "\n",
    "# Voy a probar ordenarlo por Date por ejemplo.\n",
    "df.sort_values(by = ['Date'])"
   ]
  },
  {
   "cell_type": "markdown",
   "metadata": {},
   "source": [
    "6) Es necesario borrar todas las variables que no sean significativas. Para ello borraremos las siguientes: 'Sunshine','Evaporation','Cloud3pm','Cloud9am','Location','RISK_MM','Date'. RISK_MM denota la cantidad de lluvia prevista al día siguiente y puede dañar nuestro modelo.\n",
    "\n",
    "Para borrar columnas el método *drop* de pandas, y mostraremos a continuación el estado del data set por medio del método *shape*."
   ]
  },
  {
   "cell_type": "code",
   "execution_count": 6,
   "metadata": {},
   "outputs": [
    {
     "output_type": "stream",
     "name": "stdout",
     "text": [
      "        MinTemp  MaxTemp  Rainfall WindGustDir  WindGustSpeed WindDir9am  \\\n0          13.4     22.9       0.6           W           44.0          W   \n1           7.4     25.1       0.0         WNW           44.0        NNW   \n2          12.9     25.7       0.0         WSW           46.0          W   \n3           9.2     28.0       0.0          NE           24.0         SE   \n4          17.5     32.3       1.0           W           41.0        ENE   \n...         ...      ...       ...         ...            ...        ...   \n142188      3.5     21.8       0.0           E           31.0        ESE   \n142189      2.8     23.4       0.0           E           31.0         SE   \n142190      3.6     25.3       0.0         NNW           22.0         SE   \n142191      5.4     26.9       0.0           N           37.0         SE   \n142192      7.8     27.0       0.0          SE           28.0        SSE   \n\n       WindDir3pm  WindSpeed9am  WindSpeed3pm  Humidity9am  Humidity3pm  \\\n0             WNW          20.0          24.0         71.0         22.0   \n1             WSW           4.0          22.0         44.0         25.0   \n2             WSW          19.0          26.0         38.0         30.0   \n3               E          11.0           9.0         45.0         16.0   \n4              NW           7.0          20.0         82.0         33.0   \n...           ...           ...           ...          ...          ...   \n142188          E          15.0          13.0         59.0         27.0   \n142189        ENE          13.0          11.0         51.0         24.0   \n142190          N          13.0           9.0         56.0         21.0   \n142191        WNW           9.0           9.0         53.0         24.0   \n142192          N          13.0           7.0         51.0         24.0   \n\n        Pressure9am  Pressure3pm  Temp9am  Temp3pm RainToday RainTomorrow  \n0            1007.7       1007.1     16.9     21.8        No           No  \n1            1010.6       1007.8     17.2     24.3        No           No  \n2            1007.6       1008.7     21.0     23.2        No           No  \n3            1017.6       1012.8     18.1     26.5        No           No  \n4            1010.8       1006.0     17.8     29.7        No           No  \n...             ...          ...      ...      ...       ...          ...  \n142188       1024.7       1021.2      9.4     20.9        No           No  \n142189       1024.6       1020.3     10.1     22.4        No           No  \n142190       1023.5       1019.1     10.9     24.5        No           No  \n142191       1021.0       1016.8     12.5     26.1        No           No  \n142192       1019.4       1016.5     15.1     26.0        No           No  \n\n[142193 rows x 17 columns]\n"
     ]
    }
   ],
   "source": [
    "df = df.drop(columns=['Sunshine', 'Evaporation', 'Cloud3pm', 'Cloud9am', 'Location', 'RISK_MM', 'Date', 'RISK_MM'])\n",
    "print(df)"
   ]
  },
  {
   "cell_type": "markdown",
   "metadata": {},
   "source": [
    "7) Ahora eliminaremos los datos nulos utilizando para ello el método *dropna* con el parámetro *how='any'* [info](https://pandas.pydata.org/pandas-docs/stable/reference/api/pandas.DataFrame.dropna.html).\n",
    "  Después, mostraremos el estado del data set por medio del método *shape*."
   ]
  },
  {
   "cell_type": "code",
   "execution_count": 7,
   "metadata": {},
   "outputs": [
    {
     "output_type": "stream",
     "name": "stdout",
     "text": [
      "        MinTemp  MaxTemp  Rainfall WindGustDir  WindGustSpeed WindDir9am  \\\n0          13.4     22.9       0.6           W           44.0          W   \n1           7.4     25.1       0.0         WNW           44.0        NNW   \n2          12.9     25.7       0.0         WSW           46.0          W   \n3           9.2     28.0       0.0          NE           24.0         SE   \n4          17.5     32.3       1.0           W           41.0        ENE   \n...         ...      ...       ...         ...            ...        ...   \n142188      3.5     21.8       0.0           E           31.0        ESE   \n142189      2.8     23.4       0.0           E           31.0         SE   \n142190      3.6     25.3       0.0         NNW           22.0         SE   \n142191      5.4     26.9       0.0           N           37.0         SE   \n142192      7.8     27.0       0.0          SE           28.0        SSE   \n\n       WindDir3pm  WindSpeed9am  WindSpeed3pm  Humidity9am  Humidity3pm  \\\n0             WNW          20.0          24.0         71.0         22.0   \n1             WSW           4.0          22.0         44.0         25.0   \n2             WSW          19.0          26.0         38.0         30.0   \n3               E          11.0           9.0         45.0         16.0   \n4              NW           7.0          20.0         82.0         33.0   \n...           ...           ...           ...          ...          ...   \n142188          E          15.0          13.0         59.0         27.0   \n142189        ENE          13.0          11.0         51.0         24.0   \n142190          N          13.0           9.0         56.0         21.0   \n142191        WNW           9.0           9.0         53.0         24.0   \n142192          N          13.0           7.0         51.0         24.0   \n\n        Pressure9am  Pressure3pm  Temp9am  Temp3pm RainToday RainTomorrow  \n0            1007.7       1007.1     16.9     21.8        No           No  \n1            1010.6       1007.8     17.2     24.3        No           No  \n2            1007.6       1008.7     21.0     23.2        No           No  \n3            1017.6       1012.8     18.1     26.5        No           No  \n4            1010.8       1006.0     17.8     29.7        No           No  \n...             ...          ...      ...      ...       ...          ...  \n142188       1024.7       1021.2      9.4     20.9        No           No  \n142189       1024.6       1020.3     10.1     22.4        No           No  \n142190       1023.5       1019.1     10.9     24.5        No           No  \n142191       1021.0       1016.8     12.5     26.1        No           No  \n142192       1019.4       1016.5     15.1     26.0        No           No  \n\n[112925 rows x 17 columns]\n"
     ]
    }
   ],
   "source": [
    "df = df.dropna(how='any')\n",
    "print(df)"
   ]
  },
  {
   "cell_type": "markdown",
   "metadata": {},
   "source": [
    "8) Es interesante comprobar si nuestros datos tienen *outliers* (valroes atípicos), estos son datos que difieren significativamente de otros. Los *outliers* son consecuencia de cálculos erróneos cuando se recopilan los datos.\n",
    "\n",
    "Para esto vamos a emplear el módulo *stats* de la librería SciPy (herramientas y algoritmos matemáticos)\n",
    "\n",
    "    from scipy import stats\n",
    "    \n",
    "A continuación obtenemos el valor absoluto de la desviación típica de todos los datos.\n",
    "\n",
    "    z = np.abs(stats.zscore(df._get_numeric_data()))\n",
    "\n",
    "Un valor de z-score mayor que 3 nos dice que el valor es mucho mayor que el promedio, un valor igual a 0 que está en el promedio.\n",
    "\n",
    "[Standard Normal Distribution](http://www.ltcconline.net/greenl/courses/201/probdist/ctsdis8.jpg)\n",
    "\n",
    "\n",
    "Y utilizamos ese valor para mostrar solo aquellos datos que sean menores que 3 en base a las columnas (axis = 1).\n",
    "\n",
    "    df= df[(z < 3).all(axis=1)]\n",
    "    \n",
    "Por último, mostramos el estado del data set con *shape*."
   ]
  },
  {
   "cell_type": "code",
   "execution_count": 8,
   "metadata": {},
   "outputs": [
    {
     "output_type": "execute_result",
     "data": {
      "text/plain": [
       "(107868, 17)"
      ]
     },
     "metadata": {},
     "execution_count": 8
    }
   ],
   "source": [
    "from scipy import stats\n",
    "\n",
    "z = np.abs(stats.zscore(df._get_numeric_data()))\n",
    "df = df[(z < 3).all(axis=1)]\n",
    "df.shape"
   ]
  },
  {
   "cell_type": "markdown",
   "metadata": {},
   "source": [
    "9) Vamos a emplear 0 y 1 en lugar de  *labels* (etiquetas), en los atributos RainToday y RainTomorrow. Utiliza el método *replace* de pandas."
   ]
  },
  {
   "cell_type": "code",
   "execution_count": 9,
   "metadata": {},
   "outputs": [
    {
     "output_type": "stream",
     "name": "stdout",
     "text": [
      "        MinTemp  MaxTemp  Rainfall WindGustDir  WindGustSpeed WindDir9am  \\\n0          13.4     22.9       0.6           W           44.0          W   \n1           7.4     25.1       0.0         WNW           44.0        NNW   \n2          12.9     25.7       0.0         WSW           46.0          W   \n3           9.2     28.0       0.0          NE           24.0         SE   \n4          17.5     32.3       1.0           W           41.0        ENE   \n...         ...      ...       ...         ...            ...        ...   \n142188      3.5     21.8       0.0           E           31.0        ESE   \n142189      2.8     23.4       0.0           E           31.0         SE   \n142190      3.6     25.3       0.0         NNW           22.0         SE   \n142191      5.4     26.9       0.0           N           37.0         SE   \n142192      7.8     27.0       0.0          SE           28.0        SSE   \n\n       WindDir3pm  WindSpeed9am  WindSpeed3pm  Humidity9am  Humidity3pm  \\\n0             WNW          20.0          24.0         71.0         22.0   \n1             WSW           4.0          22.0         44.0         25.0   \n2             WSW          19.0          26.0         38.0         30.0   \n3               E          11.0           9.0         45.0         16.0   \n4              NW           7.0          20.0         82.0         33.0   \n...           ...           ...           ...          ...          ...   \n142188          E          15.0          13.0         59.0         27.0   \n142189        ENE          13.0          11.0         51.0         24.0   \n142190          N          13.0           9.0         56.0         21.0   \n142191        WNW           9.0           9.0         53.0         24.0   \n142192          N          13.0           7.0         51.0         24.0   \n\n        Pressure9am  Pressure3pm  Temp9am  Temp3pm RainToday RainTomorrow  \n0            1007.7       1007.1     16.9     21.8         0            1  \n1            1010.6       1007.8     17.2     24.3         0            1  \n2            1007.6       1008.7     21.0     23.2         0            1  \n3            1017.6       1012.8     18.1     26.5         0            1  \n4            1010.8       1006.0     17.8     29.7         0            1  \n...             ...          ...      ...      ...       ...          ...  \n142188       1024.7       1021.2      9.4     20.9         0            1  \n142189       1024.6       1020.3     10.1     22.4         0            1  \n142190       1023.5       1019.1     10.9     24.5         0            1  \n142191       1021.0       1016.8     12.5     26.1         0            1  \n142192       1019.4       1016.5     15.1     26.0         0            1  \n\n[107868 rows x 17 columns]\n"
     ]
    }
   ],
   "source": [
    "df[\"RainToday\"].replace({'No': \"0\"}, inplace=True)\n",
    "df[\"RainTomorrow\"].replace({'No': \"1\"}, inplace=True)\n",
    "print(df)"
   ]
  },
  {
   "cell_type": "markdown",
   "metadata": {},
   "source": [
    "10) Normalizaremos los datos para que no haya distorsiones entre las diferencias del rango de valores. Esto es necesario cuando las variables tienen diferentes rangos. ¿Por qué? Veamos un ejemplo: \n",
    "\n",
    "Tenemos los atributos edad (0-100) y salario (0-100.000), al hacer una un análisis como una regresión lineal múltiple, el atributo salario tendrá más influencia debido a su mayor valor.\n",
    "\n",
    "Para llevar a cabo la normalización vamos a emplear la función *MinMaxScaler* del módulo *preprocessing* de la librería *sklearn*. (sklearn es como se denota scikit-learn en Python)\n",
    "\n",
    "    from sklearn import preprocessing\n",
    "    scaler = preprocessing.MinMaxScaler()\n",
    "    scaler.fit(df)\n",
    "\n",
    "Mostraremos algunos datos de nuestro data set.\n",
    "(Esta función nos dará error ¿Por qué? ¿Cómo solucionarlo?)"
   ]
  },
  {
   "cell_type": "code",
   "execution_count": 10,
   "metadata": {},
   "outputs": [
    {
     "output_type": "execute_result",
     "data": {
      "text/plain": [
       "    MinTemp   MaxTemp  Rainfall  WindGustDir  WindGustSpeed  WindDir9am  \\\n",
       "4  0.647383  0.682990  0.050251     0.866667       0.461538    0.066667   \n",
       "5  0.567493  0.615979  0.010050     0.933333       0.666667    0.866667   \n",
       "6  0.559229  0.494845  0.000000     0.866667       0.589744    0.800000   \n",
       "7  0.377410  0.538660  0.000000     0.866667       0.384615    0.666667   \n",
       "8  0.432507  0.672680  0.000000     0.400000       1.000000    0.600000   \n",
       "9  0.526171  0.626289  0.070352     0.866667       0.282051    0.533333   \n",
       "\n",
       "   WindDir3pm  WindSpeed9am  WindSpeed3pm  Humidity9am  Humidity3pm  \\\n",
       "4    0.466667          0.15      0.434783     0.797753         0.33   \n",
       "5    0.866667          0.45      0.521739     0.494382         0.23   \n",
       "6    0.866667          0.50      0.521739     0.426966         0.19   \n",
       "7    0.866667          0.10      0.347826     0.415730         0.19   \n",
       "8    0.466667          0.15      0.608696     0.348315         0.09   \n",
       "9    0.666667          0.35      0.217391     0.528090         0.27   \n",
       "\n",
       "   Pressure9am  Pressure3pm   Temp9am   Temp3pm  RainToday  RainTomorrow  \n",
       "4     0.342043     0.282974  0.502674  0.663185        0.0           0.0  \n",
       "5     0.304038     0.268585  0.577540  0.642298        0.0           0.0  \n",
       "6     0.313539     0.335731  0.510695  0.530026        0.0           0.0  \n",
       "7     0.403800     0.381295  0.462567  0.553525        0.0           0.0  \n",
       "8     0.296912     0.225420  0.516043  0.676240        0.0           1.0  \n",
       "9     0.251781     0.275779  0.564171  0.624021        1.0           0.0  "
      ],
      "text/html": "<div>\n<style scoped>\n    .dataframe tbody tr th:only-of-type {\n        vertical-align: middle;\n    }\n\n    .dataframe tbody tr th {\n        vertical-align: top;\n    }\n\n    .dataframe thead th {\n        text-align: right;\n    }\n</style>\n<table border=\"1\" class=\"dataframe\">\n  <thead>\n    <tr style=\"text-align: right;\">\n      <th></th>\n      <th>MinTemp</th>\n      <th>MaxTemp</th>\n      <th>Rainfall</th>\n      <th>WindGustDir</th>\n      <th>WindGustSpeed</th>\n      <th>WindDir9am</th>\n      <th>WindDir3pm</th>\n      <th>WindSpeed9am</th>\n      <th>WindSpeed3pm</th>\n      <th>Humidity9am</th>\n      <th>Humidity3pm</th>\n      <th>Pressure9am</th>\n      <th>Pressure3pm</th>\n      <th>Temp9am</th>\n      <th>Temp3pm</th>\n      <th>RainToday</th>\n      <th>RainTomorrow</th>\n    </tr>\n  </thead>\n  <tbody>\n    <tr>\n      <th>4</th>\n      <td>0.647383</td>\n      <td>0.682990</td>\n      <td>0.050251</td>\n      <td>0.866667</td>\n      <td>0.461538</td>\n      <td>0.066667</td>\n      <td>0.466667</td>\n      <td>0.15</td>\n      <td>0.434783</td>\n      <td>0.797753</td>\n      <td>0.33</td>\n      <td>0.342043</td>\n      <td>0.282974</td>\n      <td>0.502674</td>\n      <td>0.663185</td>\n      <td>0.0</td>\n      <td>0.0</td>\n    </tr>\n    <tr>\n      <th>5</th>\n      <td>0.567493</td>\n      <td>0.615979</td>\n      <td>0.010050</td>\n      <td>0.933333</td>\n      <td>0.666667</td>\n      <td>0.866667</td>\n      <td>0.866667</td>\n      <td>0.45</td>\n      <td>0.521739</td>\n      <td>0.494382</td>\n      <td>0.23</td>\n      <td>0.304038</td>\n      <td>0.268585</td>\n      <td>0.577540</td>\n      <td>0.642298</td>\n      <td>0.0</td>\n      <td>0.0</td>\n    </tr>\n    <tr>\n      <th>6</th>\n      <td>0.559229</td>\n      <td>0.494845</td>\n      <td>0.000000</td>\n      <td>0.866667</td>\n      <td>0.589744</td>\n      <td>0.800000</td>\n      <td>0.866667</td>\n      <td>0.50</td>\n      <td>0.521739</td>\n      <td>0.426966</td>\n      <td>0.19</td>\n      <td>0.313539</td>\n      <td>0.335731</td>\n      <td>0.510695</td>\n      <td>0.530026</td>\n      <td>0.0</td>\n      <td>0.0</td>\n    </tr>\n    <tr>\n      <th>7</th>\n      <td>0.377410</td>\n      <td>0.538660</td>\n      <td>0.000000</td>\n      <td>0.866667</td>\n      <td>0.384615</td>\n      <td>0.666667</td>\n      <td>0.866667</td>\n      <td>0.10</td>\n      <td>0.347826</td>\n      <td>0.415730</td>\n      <td>0.19</td>\n      <td>0.403800</td>\n      <td>0.381295</td>\n      <td>0.462567</td>\n      <td>0.553525</td>\n      <td>0.0</td>\n      <td>0.0</td>\n    </tr>\n    <tr>\n      <th>8</th>\n      <td>0.432507</td>\n      <td>0.672680</td>\n      <td>0.000000</td>\n      <td>0.400000</td>\n      <td>1.000000</td>\n      <td>0.600000</td>\n      <td>0.466667</td>\n      <td>0.15</td>\n      <td>0.608696</td>\n      <td>0.348315</td>\n      <td>0.09</td>\n      <td>0.296912</td>\n      <td>0.225420</td>\n      <td>0.516043</td>\n      <td>0.676240</td>\n      <td>0.0</td>\n      <td>1.0</td>\n    </tr>\n    <tr>\n      <th>9</th>\n      <td>0.526171</td>\n      <td>0.626289</td>\n      <td>0.070352</td>\n      <td>0.866667</td>\n      <td>0.282051</td>\n      <td>0.533333</td>\n      <td>0.666667</td>\n      <td>0.35</td>\n      <td>0.217391</td>\n      <td>0.528090</td>\n      <td>0.27</td>\n      <td>0.251781</td>\n      <td>0.275779</td>\n      <td>0.564171</td>\n      <td>0.624021</td>\n      <td>1.0</td>\n      <td>0.0</td>\n    </tr>\n  </tbody>\n</table>\n</div>"
     },
     "metadata": {},
     "execution_count": 10
    }
   ],
   "source": [
    "from sklearn import preprocessing\n",
    "\n",
    "# Da error por que necesita preparar los datos con el label encoder, para ello: preprocessing.LabelEncoder()\n",
    "arreglo = preprocessing.LabelEncoder()\n",
    "df = df.apply(arreglo.fit_transform)\n",
    "\n",
    "scaler = preprocessing.MinMaxScaler()\n",
    "scaler.fit(df)\n",
    "\n",
    "df = pds.DataFrame(scaler.transform(df), index=df.index, columns=df.columns)\n",
    "df.iloc[4:10]"
   ]
  },
  {
   "cell_type": "markdown",
   "metadata": {},
   "source": [
    "### Análisis exploratorio de datos (Exploratory Data Analysis - EDA)"
   ]
  },
  {
   "cell_type": "markdown",
   "metadata": {},
   "source": [
    "11) Vamos a identificar las variables más significativas para predecir nuestra función. Para ello utilizaremos la función *SelectKBest* [info](https://scikit-learn.org/stable/modules/generated/sklearn.feature_selection.SelectKBest.html) del sklearn. Utilizaremos el método predictivo chi2 para puntuar a cada una de ellas y seleccionaremos solo 3.\n",
    "\n",
    "    from sklearn.feature_selection import SelectKBest, chi2\n",
    "    X = df.loc[:,df.columns!='RainTomorrow']\n",
    "    y = df[['RainTomorrow']]\n",
    "    selector = SelectKBest(chi2, k=3)\n",
    "    selector.fit(X, y)\n",
    "    \n",
    "Y seleccionamos las variables con *get_support*.\n",
    "\n",
    "    print(X.columns[selector.get_support(indices=True)])"
   ]
  },
  {
   "cell_type": "code",
   "execution_count": 11,
   "metadata": {},
   "outputs": [
    {
     "output_type": "stream",
     "name": "stdout",
     "text": [
      "Index(['Rainfall', 'Humidity3pm', 'RainToday'], dtype='object')\n"
     ]
    }
   ],
   "source": [
    "from sklearn.feature_selection import SelectKBest, chi2\n",
    "\n",
    "X = df.loc[:,df.columns!='RainTomorrow']\n",
    "y = df[['RainTomorrow']]\n",
    "selector = SelectKBest(chi2, k=3)\n",
    "selector.fit(X, y)\n",
    "\n",
    "print(X.columns[selector.get_support(indices=True)])"
   ]
  },
  {
   "cell_type": "markdown",
   "metadata": {},
   "source": [
    "'Rainfall', 'Humidity3pm' y 'RainToday' son las variables más significativas."
   ]
  },
  {
   "cell_type": "markdown",
   "metadata": {},
   "source": [
    "### Construyendo un modelo de aprendizaje automático"
   ]
  },
  {
   "cell_type": "markdown",
   "metadata": {},
   "source": [
    "12) En primer lugar, y para simplificar el modelo, vamos a emplear solo 'Humidity3pm' para construirlo. De esta forma tendremos 'Humidity3pm' como entrada y 'RainTomorrow' como salida. \n",
    "Crea una variable 'X' formada únicamente por la columna del *dataframe* 'Humidity3pm' y otra variable 'y' formada por la columna del *dataframe* 'RainTomorrow'."
   ]
  },
  {
   "cell_type": "code",
   "execution_count": 12,
   "metadata": {},
   "outputs": [
    {
     "output_type": "stream",
     "name": "stdout",
     "text": [
      "0         0.22\n1         0.25\n2         0.30\n3         0.16\n4         0.33\n          ... \n142188    0.27\n142189    0.24\n142190    0.21\n142191    0.24\n142192    0.24\nName: Humidity3pm, Length: 107868, dtype: float64\n0         0.0\n1         0.0\n2         0.0\n3         0.0\n4         0.0\n         ... \n142188    0.0\n142189    0.0\n142190    0.0\n142191    0.0\n142192    0.0\nName: RainTomorrow, Length: 107868, dtype: float64\n"
     ]
    }
   ],
   "source": [
    "x = df['Humidity3pm']\n",
    "y = df['RainTomorrow']\n",
    "\n",
    "print(x)\n",
    "print(y)"
   ]
  },
  {
   "cell_type": "markdown",
   "metadata": {},
   "source": [
    "13) Vamos a construir modelos de clasificación utilizando los distintos algoritmos:\n",
    "- *Logistic regression* (Regresión logística) [info](https://en.wikipedia.org/wiki/Logistic_regression) \n",
    "- *Random Forest* (bosques aleatorios) [info](https://en.wikipedia.org/wiki/Random_forest) \n",
    "- *Decission Tree* (Árbol de decisión) [info](https://en.wikipedia.org/wiki/Decision_tree) \n",
    "- *Support Vector Machine* (Máquinas de vectores de soporte) [info](https://en.wikipedia.org/wiki/Support_vector_machine) \n",
    "\n",
    "\n",
    "No te preocupes si todavía no los conoces, profundizaremos sobre ellos a lo largo del curso."
   ]
  },
  {
   "cell_type": "markdown",
   "metadata": {},
   "source": [
    "#### 13.1) Logistic regression\n",
    "    "
   ]
  },
  {
   "cell_type": "markdown",
   "metadata": {},
   "source": [
    "- Cargamos distintos recursos la librería sklearn. Concretamente necesitaremos el modelo de *logistic regression*, un método para obtener automáticamente los datos de entrenamiento y test, y otro método para obtener la precisión del modelo. \n",
    "\n",
    "\n",
    "    from sklearn.linear_model import LogisticRegression\n",
    "    from sklearn.model_selection import train_test_split\n",
    "    from sklearn.metrics import accuracy_score"
   ]
  },
  {
   "cell_type": "code",
   "execution_count": 13,
   "metadata": {},
   "outputs": [],
   "source": [
    "from sklearn.linear_model import LogisticRegression\n",
    "from sklearn.model_selection import train_test_split\n",
    "from sklearn.metrics import accuracy_score"
   ]
  },
  {
   "cell_type": "markdown",
   "metadata": {},
   "source": [
    "- Dividimos los datos que tenemos en datos de entrenamiento o *training set* (conjunto de datos iniciales utilizados por el modelo para entender el problema y aprender sobre él) y datos de prueba o *test set* (conjunto de datos utilizados para comprobar lo que ha aprendido el modelo después de haber sido entrenado). __Nunca uses los datos de prueba para el entrenamiento o tus resultados estarían comprometidos__. Normalmente se utilzia un 80% de los datos para entrenamiento y un 20% para tests.\n",
    "\n",
    "\n",
    "    X_train,X_test,y_train,y_test = train_test_split(X,y,test_size=0.20)"
   ]
  },
  {
   "cell_type": "code",
   "execution_count": 14,
   "metadata": {},
   "outputs": [],
   "source": [
    "X_train,X_test,y_train,y_test = train_test_split(X,y,test_size=0.20)"
   ]
  },
  {
   "cell_type": "markdown",
   "metadata": {},
   "source": [
    "- Construimos el modelo y lo entrenamos con el *training set*\n",
    "\n",
    "\n",
    "    clf_logreg = LogisticRegression(random_state=0)\n",
    "    clf_logreg.fit(X_train,y_train)\n",
    "\n",
    "(Ignora el *warning*)"
   ]
  },
  {
   "cell_type": "code",
   "execution_count": 15,
   "metadata": {},
   "outputs": [
    {
     "output_type": "execute_result",
     "data": {
      "text/plain": [
       "LogisticRegression(random_state=0)"
      ]
     },
     "metadata": {},
     "execution_count": 15
    }
   ],
   "source": [
    "clf_logreg = LogisticRegression(random_state=0)\n",
    "clf_logreg.fit(X_train,y_train)"
   ]
  },
  {
   "cell_type": "markdown",
   "metadata": {},
   "source": [
    "- Evaluamos el modelo usando el *test set*.\n",
    "\n",
    "    y_pred = clf_logreg.predict(X_test)\n",
    "    score = accuracy_score(y_test,y_pred)"
   ]
  },
  {
   "cell_type": "code",
   "execution_count": 16,
   "metadata": {},
   "outputs": [],
   "source": [
    "y_pred = clf_logreg.predict(X_test) \n",
    "score = accuracy_score(y_test,y_pred)"
   ]
  },
  {
   "cell_type": "markdown",
   "metadata": {},
   "source": [
    "- Por último mostramos por pantalla el *score* del modelo en %."
   ]
  },
  {
   "cell_type": "code",
   "execution_count": 17,
   "metadata": {},
   "outputs": [
    {
     "output_type": "stream",
     "name": "stdout",
     "text": [
      "85.20904792806155\n"
     ]
    }
   ],
   "source": [
    "score = score * 100\n",
    "print(score)"
   ]
  },
  {
   "cell_type": "markdown",
   "metadata": {},
   "source": [
    "#### 13.2) Random Forest"
   ]
  },
  {
   "cell_type": "markdown",
   "metadata": {},
   "source": [
    "- Crea un modelo Random Forest [info](https://scikit-learn.org/stable/modules/generated/sklearn.ensemble.RandomForestClassifier.html), entrénalo y evalúa el modelo siguiendo los pasos descritos en el punto 13.1)\n",
    "\n",
    "\n",
    "    from sklearn.ensemble import RandomForestClassifier\n",
    "    \n",
    "\n",
    "- Cuando construyas el modelo, utiliza los siguientes parámetros:\n",
    "\n",
    "\n",
    "    n_estimators=100, max_depth=4,random_state=0\n",
    "\n",
    "(Ignora el *warning*)    "
   ]
  },
  {
   "cell_type": "code",
   "execution_count": 18,
   "metadata": {},
   "outputs": [
    {
     "output_type": "stream",
     "name": "stdout",
     "text": [
      "84.24028923704458\n"
     ]
    }
   ],
   "source": [
    "from sklearn.ensemble import RandomForestClassifier\n",
    "\n",
    "# Sigo con las variables X, e y anteriores\n",
    "forest_clasificador = RandomForestClassifier(n_estimators=100, max_depth=4,random_state=0)\n",
    "forest_clasificador.fit(X_train,y_train)\n",
    "y_pred = forest_clasificador.predict(X_test)\n",
    "score = accuracy_score(y_test,y_pred)\n",
    "score = score * 100\n",
    "print(score)"
   ]
  },
  {
   "cell_type": "markdown",
   "metadata": {},
   "source": [
    "#### 13.3) Decision Tree"
   ]
  },
  {
   "cell_type": "markdown",
   "metadata": {},
   "source": [
    "- Crea un modelo Decision Tree [info](https://scikit-learn.org/stable/modules/generated/sklearn.tree.DecisionTreeClassifier.html), entrénalo y evalúa el modelo siguiendo los pasos descritos en el punto 13.1)\n",
    "\n",
    "\n",
    "    from sklearn.tree import DecisionTreeClassifier\n",
    "    \n",
    "\n",
    "- Cuando construyas el modelo, utiliza los siguientes parámetros:\n",
    "\n",
    "\n",
    "    random_state=0    \n",
    "    \n",
    "(Ignora el *warning*)"
   ]
  },
  {
   "cell_type": "code",
   "execution_count": 19,
   "metadata": {},
   "outputs": [
    {
     "output_type": "stream",
     "name": "stdout",
     "text": [
      "79.21108742004265\n"
     ]
    }
   ],
   "source": [
    "from sklearn.tree import DecisionTreeClassifier\n",
    "\n",
    "clasificador_arbol_decision = DecisionTreeClassifier(random_state=0)\n",
    "\n",
    "clasificador_arbol_decision.fit(X_train,y_train)\n",
    "y_pred = clasificador_arbol_decision.predict(X_test)\n",
    "score = accuracy_score(y_test,y_pred)\n",
    "score = score * 100\n",
    "print(score)\n",
    "\n",
    "# Observo que me sale un resultado más bajo que en los anteriores"
   ]
  },
  {
   "cell_type": "markdown",
   "metadata": {},
   "source": [
    "#### 13.4) Support Vector Machine"
   ]
  },
  {
   "cell_type": "markdown",
   "metadata": {},
   "source": [
    "Crea un modelo SVM, entrénalo y evalúa el modelo siguiendo los pasos descritos en el punto 13.1)\n",
    "    from sklearn import svm\n",
    "- Crea un modelo SVM [info](https://scikit-learn.org/stable/modules/generated/sklearn.svm.SVC.html), entrénalo y evalúa el modelo siguiendo los pasos descritos en el punto 13.1)\n",
    "\n",
    "\n",
    "    from sklearn import svm\n",
    "    \n",
    "\n",
    "- Cuando construyas el modelo, utiliza los siguientes parámetros:\n",
    "\n",
    "\n",
    "    kernel='linear'\n",
    "    \n",
    "(Este modelo tarda en torno a 1 minuto en ejecutarse)\n",
    "(Ignora el *warning*)"
   ]
  },
  {
   "cell_type": "code",
   "execution_count": 20,
   "metadata": {},
   "outputs": [
    {
     "output_type": "stream",
     "name": "stdout",
     "text": [
      "85.10243811995922\n"
     ]
    }
   ],
   "source": [
    "from sklearn import svm\n",
    "\n",
    "modelo_vector_clasificacion = svm.SVC(kernel='linear')\n",
    "\n",
    "modelo_vector_clasificacion.fit(X_train,y_train)\n",
    "y_pred = modelo_vector_clasificacion.predict(X_test)\n",
    "score = accuracy_score(y_test,y_pred)\n",
    "score = score * 100\n",
    "print(score)"
   ]
  },
  {
   "cell_type": "markdown",
   "metadata": {},
   "source": [
    "### Final"
   ]
  },
  {
   "cell_type": "markdown",
   "metadata": {},
   "source": [
    "14) Ordena de mayor a menor precisión los modelos."
   ]
  },
  {
   "cell_type": "markdown",
   "metadata": {},
   "source": [
    "RandomForestClassifier >= svm.SVC  > DecisionTreeClassifier"
   ]
  },
  {
   "cell_type": "markdown",
   "metadata": {},
   "source": [
    "15) ¿Con qué término en inglés se denota el sobreentrenamiento de un modelo de ML y qué características tiene?"
   ]
  },
  {
   "cell_type": "markdown",
   "metadata": {},
   "source": [
    "El término es overfitting, modelo muy alineado con los datos de entramiento y poco flexible con los otros."
   ]
  }
 ],
 "metadata": {
  "kernelspec": {
   "display_name": "Python 3",
   "language": "python",
   "name": "python3"
  },
  "language_info": {
   "codemirror_mode": {
    "name": "ipython",
    "version": 3
   },
   "file_extension": ".py",
   "mimetype": "text/x-python",
   "name": "python",
   "nbconvert_exporter": "python",
   "pygments_lexer": "ipython3",
   "version": "3.8.3-final"
  }
 },
 "nbformat": 4,
 "nbformat_minor": 4
}