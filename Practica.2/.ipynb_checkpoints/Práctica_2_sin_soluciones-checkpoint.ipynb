{
 "cells": [
  {
   "cell_type": "markdown",
   "metadata": {},
   "source": [
    "# Práctica 2"
   ]
  },
  {
   "cell_type": "markdown",
   "metadata": {},
   "source": [
    "## Descripción"
   ]
  },
  {
   "cell_type": "markdown",
   "metadata": {},
   "source": [
    "Vamos a implementar en Python el algoritmo BFS para el problema del laberinto usado como ejemplo en clase."
   ]
  },
  {
   "cell_type": "markdown",
   "metadata": {},
   "source": [
    "## Código"
   ]
  },
  {
   "cell_type": "markdown",
   "metadata": {},
   "source": [
    "### Cargar librerías"
   ]
  },
  {
   "cell_type": "markdown",
   "metadata": {},
   "source": [
    "1) Es necesario importar el contenedor *deque* del módulo *collections*. Se trata de una lista tipo FIFO de alto rendimiento [info](https://docs.python.org/3.8/library/collections.html)."
   ]
  },
  {
   "cell_type": "code",
   "execution_count": null,
   "metadata": {},
   "outputs": [],
   "source": []
  },
  {
   "cell_type": "markdown",
   "metadata": {},
   "source": [
    "2) También tendremos que implementar el entorno, es decir, el laberinto. ¡Buenas noticias! Ya está hecho. Se encuentra en el script *maze_world.py* que te has descargado junto con esta práctica. Puedes abrirlo con tu IDE favorito para ver cómo es su implementación. \n",
    "\n",
    "Si lo haces, verás que existen dos clases:\n",
    "\n",
    "- _MazeWorld_, que contiene la mecánica del laberinto a través de la definición del mapa (por medio de una lista con distintos elementos), y una serie de funciones que sirven para: obtener la posición actual, los vecinos y las posiciones visitadas de forma visual.\n",
    "\n",
    "\n",
    "    WALL = '#'\n",
    "    EMPTY = '_'\n",
    "    GOAL = '*'\n",
    "\n",
    "    ['*0000',\n",
    "    '0###0',\n",
    "    '0#0#0',\n",
    "    '0#000',\n",
    "    '00000']\n",
    "\n",
    "\n",
    "- _Point_, que define la idea de posición. Vemos que cada instancia de posición tiene un padre, un coste y una coordenada x e y. \n",
    "\n",
    "\n",
    "    def __init__(self, x=0, y=0):\n",
    "        self.x = x\n",
    "        self.y = y\n",
    "        self.parent = None\n",
    "        self.cost = math.inf\n",
    "\n",
    "Y además, una serie de funciones para determinar el camino seleccionado por el algoritmo, su longitud, su coste, el coste de cada movimiento y el tipo de movimiento. Cada movimiento norte-sur o sur-norte cuesta 5, el resto de movimientos solamente 1.\n",
    "\n",
    "Importa este script como si fuese un módulo más."
   ]
  },
  {
   "cell_type": "code",
   "execution_count": null,
   "metadata": {},
   "outputs": [],
   "source": []
  },
  {
   "cell_type": "markdown",
   "metadata": {},
   "source": [
    "###  Funciones"
   ]
  },
  {
   "cell_type": "markdown",
   "metadata": {},
   "source": [
    "3) Vamos a implementar dos funciones: \n",
    "\n",
    "- _ejecutar_bfs_: Cuyos argumentos serán el laberinto, la posición inicial y los nodos vistados.\n",
    "- _es_visitado_: Determina si el nodo ha sido visitado o no. Sus argumentos serán la posición actual y la lista de nodos visitados."
   ]
  },
  {
   "cell_type": "markdown",
   "metadata": {},
   "source": [
    "#### ejecutar_bfs"
   ]
  },
  {
   "cell_type": "markdown",
   "metadata": {},
   "source": [
    "3.1) Para que resulte más sencillo, se incluye la función con ciertas partes del código que tendrás que completar. Estas partes vienen precedidas del comentario TODO."
   ]
  },
  {
   "cell_type": "code",
   "execution_count": null,
   "metadata": {},
   "outputs": [],
   "source": [
    "def ejecutar_bfs(laberinto, posicion_actual, posiciones_visitadas):\n",
    "    \n",
    "    # deque es un tipo de cola FIFO de alto rendimiento \n",
    "    cola_fifo = deque()\n",
    "    \n",
    "    # TODO es necesario añadir la posicion_actual a la cola\n",
    "    cola_fifo.append()\n",
    "    # TODO es necesario añadir la posicion_actual a las posiciones visitadas\n",
    "    \n",
    "    # Es necesario buscar mientras haya elementos en la cola_fifo\n",
    "    while cola_fifo:\n",
    "        # Obtenemos el primer elemento de la cola\n",
    "        posicion_actual = cola_fifo.popleft()\n",
    "        \n",
    "        # Obtenemos los vecinos de la posicion actual\n",
    "        vecinos = laberinto.get_neighbors(posicion_actual)\n",
    "        \n",
    "        # TODO recorremos cada vecino de la variable vecinos utilizando un bucle for \n",
    "        \n",
    "            # TODO comprobamos que NO ha sido visitado -> llamamos a la función es_visitado\n",
    "            \n",
    "                # En caso de no haber sido visitado, establecemos que el padre del nodo es la posición actual.\n",
    "                vecino.set_parent(posicion_actual)\n",
    "                \n",
    "                # TODO Lo añadimos a la cola_fifo para procesar sus vecinos con posterioridad.\n",
    "\n",
    "                # TODO Lo añadimos a la posiciones_visitadas para procesar sus vecinos con posterioridad.\n",
    "\n",
    "                # De acuerdo con el modelado del mundo, * es la meta, en ese caso devolvemos vecino\n",
    "                if laberinto.get_current_point_value(vecino) == '*':\n",
    "                    return vecino\n",
    "    # Si recorremos todo el laberinto y no encontramos solución, devolvemos el siguiente mensaje:\n",
    "    return 'No se ha encontrado ninguna solución.'"
   ]
  },
  {
   "cell_type": "markdown",
   "metadata": {},
   "source": [
    "#### es_visitado"
   ]
  },
  {
   "cell_type": "markdown",
   "metadata": {},
   "source": [
    "3.2) En el código anterior hemos llamado a la función *es_visitado*, que todavía no existe. Vamos a implementarla. Se incluye la función con ciertas partes del código que tendrás que completar. Estas partes vienen precedidas del comentario TODO"
   ]
  },
  {
   "cell_type": "code",
   "execution_count": null,
   "metadata": {},
   "outputs": [],
   "source": [
    "def es_visitado(posicion_actual, posiciones_vistadas):\n",
    "    # TODO recorremos cada elemento en la lista de posiciones_vistadas\n",
    "\n",
    "        # TODO Si el argumento x e y de la posición es el mismo que para la posicion_actual, devolvemos True\n",
    "        \n",
    "        \n",
    "    # En caso contrario devolvemos False\n",
    "    return False"
   ]
  },
  {
   "cell_type": "markdown",
   "metadata": {},
   "source": [
    "### Función main"
   ]
  },
  {
   "cell_type": "markdown",
   "metadata": {},
   "source": [
    "4) Con el objetivo de aprovechar el dinamismo de los *notebooks*, vamos a escribir la función mail utilizando las celdas de código."
   ]
  },
  {
   "cell_type": "markdown",
   "metadata": {},
   "source": [
    "4.1) Creamos una instancia de la clase MazeWorld. Hay que instanciar la clase MazeWorld() del módulo maze_world.py que hemos importado al inicio."
   ]
  },
  {
   "cell_type": "code",
   "execution_count": null,
   "metadata": {},
   "outputs": [],
   "source": []
  },
  {
   "cell_type": "markdown",
   "metadata": {},
   "source": [
    "4.2) Creamos una  instancia de la clase Point para determinar la posición de salida. Hay que instanciar la clase *Point()* del módulo *maze_world.py* que hemos importado al inicio. Lo iniciaremos en el punto 2, 2.\n"
   ]
  },
  {
   "cell_type": "code",
   "execution_count": null,
   "metadata": {},
   "outputs": [],
   "source": []
  },
  {
   "cell_type": "markdown",
   "metadata": {},
   "source": [
    "4.3) Asignamos a la variable salida la función *ejecutar_bfs* que hemos implementado anteriormente. Hay que pasarle como parámetros la instanciación de la clase 4.1 (nuestro laberinto), la instanciación de la clase 4.2 (nuestra posición inicial) y la lista de posiciones visitadas ([]).\n"
   ]
  },
  {
   "cell_type": "code",
   "execution_count": null,
   "metadata": {},
   "outputs": [],
   "source": []
  },
  {
   "cell_type": "markdown",
   "metadata": {},
   "source": [
    "4.4) Para obtener el camino seguido, usaremos la función *get_path* que se encuentra en el módulo *maze_world.py* que hemos importado al inicio, pasándole como argumento salida."
   ]
  },
  {
   "cell_type": "code",
   "execution_count": null,
   "metadata": {},
   "outputs": [],
   "source": []
  },
  {
   "cell_type": "markdown",
   "metadata": {},
   "source": [
    "4.5) Imprimiremos la longitud del camino seguido haciendo un simple *len* de la variable obtenida en 4.4).\n"
   ]
  },
  {
   "cell_type": "code",
   "execution_count": null,
   "metadata": {},
   "outputs": [],
   "source": []
  },
  {
   "cell_type": "markdown",
   "metadata": {},
   "source": [
    "4.6) Ejecutaremos el método *overlay_points_on_map* de la clase *MazeWorld()* que hemos instanciado al inicio, pasándole como argumento el camino seguido obtenido en 4.4).\n"
   ]
  },
  {
   "cell_type": "code",
   "execution_count": null,
   "metadata": {},
   "outputs": [],
   "source": [
    "\n"
   ]
  },
  {
   "cell_type": "markdown",
   "metadata": {},
   "source": [
    "4.7) Imprimiremos el coste de la ejecución del algoritmo, para ello ejecutaremos el método *get_path_cost* de la clase *MazeWorld()*, pasándole como argumento nuestra variable *salida*. Es necesario imprimirlo.\n"
   ]
  },
  {
   "cell_type": "code",
   "execution_count": null,
   "metadata": {},
   "outputs": [],
   "source": []
  },
  {
   "cell_type": "markdown",
   "metadata": {},
   "source": [
    "4.8) Por último, imprimiremos todos los puntos existentes en nuestro camino seleccionado. Utilizaremos un bucle *for* y accederemos a los atributos x e y de cada elemento. No olvides imprimir cada uno de ellos."
   ]
  },
  {
   "cell_type": "code",
   "execution_count": null,
   "metadata": {},
   "outputs": [],
   "source": []
  }
 ],
 "metadata": {
  "kernelspec": {
   "display_name": "Python 3",
   "language": "python",
   "name": "python3"
  },
  "language_info": {
   "codemirror_mode": {
    "name": "ipython",
    "version": 3
   },
   "file_extension": ".py",
   "mimetype": "text/x-python",
   "name": "python",
   "nbconvert_exporter": "python",
   "pygments_lexer": "ipython3",
   "version": "3.8.3"
  }
 },
 "nbformat": 4,
 "nbformat_minor": 4
}
