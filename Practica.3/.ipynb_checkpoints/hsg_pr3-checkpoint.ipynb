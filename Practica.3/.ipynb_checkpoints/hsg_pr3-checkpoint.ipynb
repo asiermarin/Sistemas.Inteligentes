{
 "cells": [
  {
   "cell_type": "markdown",
   "metadata": {},
   "source": [
    "# Práctica 3"
   ]
  },
  {
   "cell_type": "markdown",
   "metadata": {},
   "source": [
    "## Descripción"
   ]
  },
  {
   "cell_type": "markdown",
   "metadata": {},
   "source": [
    "Vamos a implementar en Python el algoritmo DFS para el problema del laberinto usado como ejemplo en clase."
   ]
  },
  {
   "cell_type": "markdown",
   "metadata": {},
   "source": [
    "## Código"
   ]
  },
  {
   "cell_type": "markdown",
   "metadata": {},
   "source": [
    "### Cargar librerías"
   ]
  },
  {
   "cell_type": "markdown",
   "metadata": {},
   "source": [
    "1) En este caso la cola LIFO usará una lista, por lo que no es necesario importar nada."
   ]
  },
  {
   "cell_type": "markdown",
   "metadata": {},
   "source": [
    "2) También tendremos que implementar el laberinto que se encuentra en el script maze_world.py que te has descargado junto con esta práctica. Puedes abrirlo con tu IDE favorito o consultar la Práctica 2 para obtener más información.\n",
    "\n",
    "Importa este script como si fuese un módulo más."
   ]
  },
  {
   "cell_type": "code",
   "execution_count": 29,
   "metadata": {},
   "outputs": [],
   "source": [
    "import maze_world as mzw \n",
    "from maze_world import Point, MazeWorld"
   ]
  },
  {
   "cell_type": "markdown",
   "metadata": {},
   "source": [
    "###  Funciones"
   ]
  },
  {
   "cell_type": "markdown",
   "metadata": {},
   "source": [
    "3) Vamos a implementar dos funciones: \n",
    "\n",
    "- ejecutar_dfs: Cuyos argumentos serán el laberinto y la posición inicial.\n",
    "- es_visitado: Determina si el nodo ha sido visitado o no. Sus argumentos serán la posición actual y la lista de nodos visitados."
   ]
  },
  {
   "cell_type": "markdown",
   "metadata": {},
   "source": [
    "#### ejecutar_dfs"
   ]
  },
  {
   "cell_type": "markdown",
   "metadata": {},
   "source": [
    "3.1) implementa la función ejecutar bfs"
   ]
  },
  {
   "cell_type": "code",
   "execution_count": 30,
   "metadata": {},
   "outputs": [],
   "source": [
    "def ejecutar_dfs(laberinto, posicion_actual, posiciones_visitadas):\n",
    "    posiciones_visitadas = []\n",
    "    cola = [posicion_actual]\n",
    "    while cola:\n",
    "        proximo_punto = cola.pop()\n",
    "        if not es_visitado(proximo_punto, posiciones_visitadas):\n",
    "            posiciones_visitadas.append(proximo_punto)\n",
    "            if laberinto.get_current_point_value(proximo_punto) == '*':\n",
    "                return proximo_punto\n",
    "            else:\n",
    "                puntos_alrededores = laberinto.get_neighbors(proximo_punto)\n",
    "                for punto_alrededor in puntos_alrededores:\n",
    "                    punto_alrededor.set_parent(proximo_punto)\n",
    "                    cola.append(punto_alrededor)\n",
    "    return 'No se ha encontrado ninguna solucion.'"
   ]
  },
  {
   "cell_type": "markdown",
   "metadata": {},
   "source": [
    "#### es_visitado"
   ]
  },
  {
   "cell_type": "markdown",
   "metadata": {},
   "source": [
    "3.2) Esta función es idéntica a la de la Práctica 2."
   ]
  },
  {
   "cell_type": "code",
   "execution_count": 31,
   "metadata": {},
   "outputs": [],
   "source": [
    "def es_visitado(posicion_actual, posiciones_visitadas):\n",
    "    # TODO recorremos cada elemento en la lista de posiciones_vistadas\n",
    "    for posicion_visitada in posiciones_visitadas:\n",
    "        # TODO Si el argumento x e y de la posición es el mismo que para la posicion_actual, devolvemos True\n",
    "        if ((posicion_actual.x == posicion_visitada.x) and (posicion_actual.y == posicion_visitada.y)):\n",
    "            return True\n",
    "    # En caso contrario devolvemos False\n",
    "    return False"
   ]
  },
  {
   "cell_type": "markdown",
   "metadata": {},
   "source": [
    "### Función main"
   ]
  },
  {
   "cell_type": "markdown",
   "metadata": {},
   "source": [
    "4) Con el objetivo de aprovechar el dinamismo de los notebooks, vamos a escribir la función mail utilizando las celdas de código\n"
   ]
  },
  {
   "cell_type": "markdown",
   "metadata": {},
   "source": [
    "4.1) Creamos una instancia de la clase MazeWorld. Hay que instanciar la clase MazeWorld() del módulo maze_world.py que hemos importado al inicio."
   ]
  },
  {
   "cell_type": "code",
   "execution_count": 32,
   "metadata": {},
   "outputs": [],
   "source": [
    "laberinto = MazeWorld()"
   ]
  },
  {
   "cell_type": "markdown",
   "metadata": {},
   "source": [
    "4.2) Creamos una  instancia de la clase Point para determinar la posición de salida. Hay que instanciar la clase Point() del módulo maze_world.py que hemos importado al inicio. Lo iniciaremos en el punto 2, 2.\n"
   ]
  },
  {
   "cell_type": "code",
   "execution_count": 33,
   "metadata": {},
   "outputs": [],
   "source": [
    "posicion = Point(2, 2) "
   ]
  },
  {
   "cell_type": "markdown",
   "metadata": {},
   "source": [
    "4.3) Asignamos a la variable salida la función ejecutar_bfs que hemos implementado anteriormente. Hay que pasarle como parámetros la instanciación de la clase 4.1 (nuestro laberinto), la instanciación de la clase 4.2 (nuestra posición inicial) y la lista de posiciones visitadas ([]).\n"
   ]
  },
  {
   "cell_type": "code",
   "execution_count": 34,
   "metadata": {},
   "outputs": [
    {
     "name": "stdout",
     "output_type": "stream",
     "text": [
      "<maze_world.Point object at 0x0000016E345C1910>\n"
     ]
    }
   ],
   "source": [
    "posiciones_visitadas = []\n",
    "salida = ejecutar_dfs(laberinto, posicion, posiciones_visitadas)\n",
    "print(salida)"
   ]
  },
  {
   "cell_type": "markdown",
   "metadata": {},
   "source": [
    "4.4) Para obtener el camino seguido, usaremos la función get_path que se encuentra en el módulo maze_world.py que hemos importado al inicio, pasándole como argumento salida."
   ]
  },
  {
   "cell_type": "code",
   "execution_count": 35,
   "metadata": {},
   "outputs": [
    {
     "name": "stdout",
     "output_type": "stream",
     "text": [
      "[<maze_world.Point object at 0x0000016E345C1910>, <maze_world.Point object at 0x0000016E345C1C40>, <maze_world.Point object at 0x0000016E345C10D0>, <maze_world.Point object at 0x0000016E345C1940>, <maze_world.Point object at 0x0000016E345C1430>, <maze_world.Point object at 0x0000016E345C19D0>, <maze_world.Point object at 0x0000016E345C1160>, <maze_world.Point object at 0x0000016E345C1E80>]\n"
     ]
    }
   ],
   "source": [
    "path = mzw.get_path(salida)\n",
    "print(path)"
   ]
  },
  {
   "cell_type": "markdown",
   "metadata": {},
   "source": [
    "4.5) Imprimiremos la longitud del camino seguido haciendo un simple len de la variable obtenida en 4.4).\n"
   ]
  },
  {
   "cell_type": "code",
   "execution_count": 36,
   "metadata": {},
   "outputs": [
    {
     "data": {
      "text/plain": [
       "8"
      ]
     },
     "execution_count": 36,
     "metadata": {},
     "output_type": "execute_result"
    }
   ],
   "source": [
    "len(path)"
   ]
  },
  {
   "cell_type": "markdown",
   "metadata": {},
   "source": [
    "4.6) Ejecutaremos el método *overlay_points_on_map* de la clase MazeWorld() que hemos instanciando al inicio, pasándole como argumento el camino seguido obtenidoa en 4.4).\n"
   ]
  },
  {
   "cell_type": "code",
   "execution_count": 37,
   "metadata": {},
   "outputs": [
    {
     "name": "stdout",
     "output_type": "stream",
     "text": [
      "@0000\n",
      "@###0\n",
      "@#0#0\n",
      "@#@00\n",
      "@@@00\n",
      "\n"
     ]
    }
   ],
   "source": [
    "x = laberinto.overlay_points_on_map(path)"
   ]
  },
  {
   "cell_type": "markdown",
   "metadata": {},
   "source": [
    "4.7) Imprimiremos el coste de la ejecución del algoritmo, para ello ejecutaremos el método *get_path_cost* de la clase MazeWorld() pasándole como argumento nuestra variable salida. Es necesario imprimirlo.\n"
   ]
  },
  {
   "cell_type": "code",
   "execution_count": 38,
   "metadata": {},
   "outputs": [],
   "source": [
    "camino = mzw.get_path_cost(salida)"
   ]
  },
  {
   "cell_type": "markdown",
   "metadata": {},
   "source": [
    "4.8) Por último, imprimiremos todos los puntos existentes en nuestro camino seleccionado. Utilizaremos un bucle for y accederemos a los atributos x e y de cada elemento. No olvides imprimir cada elemento."
   ]
  },
  {
   "cell_type": "code",
   "execution_count": 39,
   "metadata": {},
   "outputs": [
    {
     "name": "stdout",
     "output_type": "stream",
     "text": [
      "0 , 0\n",
      "x: 0\n",
      "y: 0\n",
      "------------\n",
      "1 , 0\n",
      "x: 1\n",
      "y: 0\n",
      "------------\n",
      "2 , 0\n",
      "x: 2\n",
      "y: 0\n",
      "------------\n",
      "3 , 0\n",
      "x: 3\n",
      "y: 0\n",
      "------------\n",
      "4 , 0\n",
      "x: 4\n",
      "y: 0\n",
      "------------\n",
      "4 , 1\n",
      "x: 4\n",
      "y: 1\n",
      "------------\n",
      "4 , 2\n",
      "x: 4\n",
      "y: 2\n",
      "------------\n",
      "3 , 2\n",
      "x: 3\n",
      "y: 2\n",
      "------------\n"
     ]
    }
   ],
   "source": [
    "  for i in path:\n",
    "    i.print()\n",
    "    print(f\"x: {i.x}\")\n",
    "    print(f\"y: {i.y}\")\n",
    "    print(\"------------\")"
   ]
  },
  {
   "cell_type": "code",
   "execution_count": null,
   "metadata": {},
   "outputs": [],
   "source": []
  },
  {
   "cell_type": "code",
   "execution_count": null,
   "metadata": {},
   "outputs": [],
   "source": []
  },
  {
   "cell_type": "code",
   "execution_count": null,
   "metadata": {},
   "outputs": [],
   "source": []
  },
  {
   "cell_type": "code",
   "execution_count": null,
   "metadata": {},
   "outputs": [],
   "source": []
  },
  {
   "cell_type": "code",
   "execution_count": null,
   "metadata": {},
   "outputs": [],
   "source": []
  }
 ],
 "metadata": {
  "kernelspec": {
   "display_name": "Python 3",
   "language": "python",
   "name": "python3"
  },
  "language_info": {
   "codemirror_mode": {
    "name": "ipython",
    "version": 3
   },
   "file_extension": ".py",
   "mimetype": "text/x-python",
   "name": "python",
   "nbconvert_exporter": "python",
   "pygments_lexer": "ipython3",
   "version": "3.8.3"
  }
 },
 "nbformat": 4,
 "nbformat_minor": 4
}
