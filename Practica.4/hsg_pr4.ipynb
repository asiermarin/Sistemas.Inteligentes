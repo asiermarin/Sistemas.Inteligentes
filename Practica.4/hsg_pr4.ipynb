{
 "cells": [
  {
   "cell_type": "markdown",
   "metadata": {},
   "source": [
    "# Práctica 4"
   ]
  },
  {
   "cell_type": "markdown",
   "metadata": {},
   "source": [
    "## Descripción"
   ]
  },
  {
   "cell_type": "markdown",
   "metadata": {},
   "source": [
    "Vamos a implementar en Python el algoritmo A* para el problema del laberinto usado como ejemplo en clase."
   ]
  },
  {
   "cell_type": "markdown",
   "metadata": {},
   "source": [
    "## Código"
   ]
  },
  {
   "cell_type": "markdown",
   "metadata": {},
   "source": [
    "### Cargar librerías"
   ]
  },
  {
   "cell_type": "markdown",
   "metadata": {},
   "source": [
    "1) En este caso la cola será una lista."
   ]
  },
  {
   "cell_type": "markdown",
   "metadata": {},
   "source": [
    "2) También tendremos que implementar el laberinto que se encuentra en el script *maze_world.py* que te has descargado junto con esta práctica.\n",
    "\n",
    "Importa este script como si fuese un módulo más."
   ]
  },
  {
   "cell_type": "code",
   "execution_count": 37,
   "metadata": {},
   "outputs": [],
   "source": [
    "import maze_world as mzw \n",
    "from maze_world import Point, MazeWorld"
   ]
  },
  {
   "cell_type": "markdown",
   "metadata": {},
   "source": [
    "###  Funciones"
   ]
  },
  {
   "cell_type": "markdown",
   "metadata": {},
   "source": [
    "3) Vamos a implementar dos funciones: \n",
    "\n",
    "- **ejecutar_a_star**: Cuyos argumentos serán el laberinto y la posición inicial.\n",
    "- **determinar_coste**: Determina el coste bsado en la distancia a la raíz."
   ]
  },
  {
   "cell_type": "markdown",
   "metadata": {},
   "source": [
    "#### ejecutar_a_star"
   ]
  },
  {
   "cell_type": "markdown",
   "metadata": {},
   "source": [
    "3.1) Implementa la función **ejecutar_a_star**."
   ]
  },
  {
   "cell_type": "code",
   "execution_count": 38,
   "metadata": {},
   "outputs": [],
   "source": [
    "def ejecutar_a_star(laberinto, posicion_actual):\n",
    "    cola = [posicion_actual]\n",
    "    while cola:\n",
    "        proximo_punto = cola.pop()\n",
    "        if laberinto.get_current_point_value(proximo_punto) == '*':\n",
    "            return proximo_punto\n",
    "        else:\n",
    "            puntos_alrededores = laberinto.get_neighbors(proximo_punto)\n",
    "            for punto_alrededor in puntos_alrededores:\n",
    "                punto_alrededor.set_parent(proximo_punto)\n",
    "                punto_alrededor.cost = determinar_coste(proximo_punto, punto_alrededor)\n",
    "        cola.extend(puntos_alrededores)\n",
    "        cola.sort(key=lambda x: x.cost, reverse=True)\n",
    "    return \"No hay camino\""
   ]
  },
  {
   "cell_type": "markdown",
   "metadata": {},
   "source": [
    "#### determinar_coste"
   ]
  },
  {
   "cell_type": "markdown",
   "metadata": {},
   "source": [
    "3.2) Esta función determina el coste basado en la distancia desde la raíz (*get_path_length*) y el coste de recorrer el nodo (*get_move_cost*)."
   ]
  },
  {
   "cell_type": "code",
   "execution_count": 39,
   "metadata": {},
   "outputs": [],
   "source": [
    "def determinar_coste(origen, punto_objetivo):\n",
    "    distancia_objetivo = mzw.get_path_length(punto_objetivo)\n",
    "    coste = mzw.get_move_cost(origen, punto_objetivo)\n",
    "    coste_calculado = distancia_objetivo + coste\n",
    "    return coste_calculado"
   ]
  },
  {
   "cell_type": "markdown",
   "metadata": {},
   "source": [
    "### Función main"
   ]
  },
  {
   "cell_type": "markdown",
   "metadata": {},
   "source": [
    "4) Con el objetivo de aprovechar el dinamismo de los *notebooks*, vamos a escribir la función mail utilizando las celdas de código\n"
   ]
  },
  {
   "cell_type": "markdown",
   "metadata": {},
   "source": [
    "4.1) Creamos una instancia de la clase MazeWorld. Hay que instanciar la clase *MazeWorld() del módulo maze_world.py que hemos importado al inicio."
   ]
  },
  {
   "cell_type": "code",
   "execution_count": 40,
   "metadata": {},
   "outputs": [],
   "source": [
    "laberinto = MazeWorld()"
   ]
  },
  {
   "cell_type": "markdown",
   "metadata": {},
   "source": [
    "4.2) Creamos una  instancia de la clase Point para determinar la posición de salida. Hay que instanciar la clase Point() del módulo maze_world.py que hemos importado al inicio. Lo iniciaremos en el punto 2, 2.\n"
   ]
  },
  {
   "cell_type": "code",
   "execution_count": 41,
   "metadata": {},
   "outputs": [],
   "source": [
    "posicion_actual = Point(2, 2) "
   ]
  },
  {
   "cell_type": "markdown",
   "metadata": {},
   "source": [
    "4.3) Asignamos a la variable salida la función **ejecutar_a_star** que hemos implementado anteriormente. Hay que pasarle como parámetros la instanciación de la clase 4.1 (nuestro laberinto) y la instanciación de la clase 4.2 (nuestra posición inicial))."
   ]
  },
  {
   "cell_type": "code",
   "execution_count": 42,
   "metadata": {},
   "outputs": [],
   "source": [
    "# No es necesario pasarle los parametros por que las variables ya estan definidas a nivel campo\n",
    "salida = ejecutar_a_star(laberinto, posicion_actual)"
   ]
  },
  {
   "cell_type": "markdown",
   "metadata": {},
   "source": [
    "4.4) Para obtener el camino seguido, usaremos la función *get_path* que se encuentra en el módulo *maze_world.py* que hemos importado al inicio, pasándole como argumento salida. Después,imprimiremos todos los puntos existentes en nuestro camino seleccionado. Utilizaremos un bucle for y accederemos a los atributos x e y de cada elemento. No olvides imprimir cada elemento."
   ]
  },
  {
   "cell_type": "code",
   "execution_count": 43,
   "metadata": {},
   "outputs": [
    {
     "name": "stdout",
     "output_type": "stream",
     "text": [
      "0 , 0\n",
      "x: 0\n",
      "y: 0\n",
      "------------\n",
      "1 , 0\n",
      "x: 1\n",
      "y: 0\n",
      "------------\n",
      "2 , 0\n",
      "x: 2\n",
      "y: 0\n",
      "------------\n",
      "3 , 0\n",
      "x: 3\n",
      "y: 0\n",
      "------------\n",
      "4 , 0\n",
      "x: 4\n",
      "y: 0\n",
      "------------\n",
      "4 , 1\n",
      "x: 4\n",
      "y: 1\n",
      "------------\n",
      "4 , 2\n",
      "x: 4\n",
      "y: 2\n",
      "------------\n",
      "3 , 2\n",
      "x: 3\n",
      "y: 2\n",
      "------------\n"
     ]
    }
   ],
   "source": [
    "path = mzw.get_path(salida)\n",
    "for i in path:\n",
    "    i.print()\n",
    "    print(f\"x: {i.x}\")\n",
    "    print(f\"y: {i.y}\")\n",
    "    print(\"------------\")"
   ]
  },
  {
   "cell_type": "markdown",
   "metadata": {},
   "source": [
    "4.5) Imprimiremos la longitud del camino seguido a través de la función *get_path_length* que se encuentra en el módulo *maze_world.py*, usando la variable obtenida en 4.3).\n"
   ]
  },
  {
   "cell_type": "code",
   "execution_count": 44,
   "metadata": {},
   "outputs": [
    {
     "name": "stdout",
     "output_type": "stream",
     "text": [
      "Tamanio 8\n"
     ]
    }
   ],
   "source": [
    "tamanio = mzw.get_path_length(salida)\n",
    "print(f\"Tamanio {tamanio}\")"
   ]
  },
  {
   "cell_type": "markdown",
   "metadata": {},
   "source": [
    "4.6) Ejecutaremos el método *overlay_points_on_map* de la clase *MazeWorld()^* que hemos instanciando al inicio, pasándole como argumento el camino seguido obtenido en 4.4).\n"
   ]
  },
  {
   "cell_type": "code",
   "execution_count": 45,
   "metadata": {},
   "outputs": [
    {
     "name": "stdout",
     "output_type": "stream",
     "text": [
      "@0000\n",
      "@###0\n",
      "@#0#0\n",
      "@#@00\n",
      "@@@00\n",
      "\n"
     ]
    }
   ],
   "source": [
    "x = laberinto.overlay_points_on_map(path)"
   ]
  },
  {
   "cell_type": "markdown",
   "metadata": {},
   "source": [
    "4.7) Imprimiremos el coste de la ejecución del algoritmo, para ello ejecutaremos la función *get_path_cost*  que se encuentra en el módulo maze_world.py pasándole como argumento nuestra variable salida. Es necesario imprimirlo.\n"
   ]
  },
  {
   "cell_type": "code",
   "execution_count": 46,
   "metadata": {},
   "outputs": [
    {
     "name": "stdout",
     "output_type": "stream",
     "text": [
      "Coste: 16\n"
     ]
    }
   ],
   "source": [
    "coste = mzw.get_path_cost(salida)\n",
    "print(f\"Coste: {coste}\")"
   ]
  },
  {
   "cell_type": "code",
   "execution_count": null,
   "metadata": {},
   "outputs": [],
   "source": []
  },
  {
   "cell_type": "code",
   "execution_count": null,
   "metadata": {},
   "outputs": [],
   "source": []
  },
  {
   "cell_type": "code",
   "execution_count": null,
   "metadata": {},
   "outputs": [],
   "source": []
  }
 ],
 "metadata": {
  "kernelspec": {
   "display_name": "Python 3",
   "language": "python",
   "name": "python3"
  },
  "language_info": {
   "codemirror_mode": {
    "name": "ipython",
    "version": 3
   },
   "file_extension": ".py",
   "mimetype": "text/x-python",
   "name": "python",
   "nbconvert_exporter": "python",
   "pygments_lexer": "ipython3",
   "version": "3.8.3"
  }
 },
 "nbformat": 4,
 "nbformat_minor": 4
}
