{
 "cells": [
  {
   "cell_type": "markdown",
   "metadata": {},
   "source": [
    "# Práctica 5"
   ]
  },
  {
   "cell_type": "markdown",
   "metadata": {},
   "source": [
    "## Descripción"
   ]
  },
  {
   "cell_type": "markdown",
   "metadata": {},
   "source": [
    "Para comprobar la utilidad de los algoritmos genéticos, vamos a intentar genera el string \"Industria 4.0\" utilizando un string aleatorio de la misma longitud.\n",
    "\n",
    "Es decir, partiremos de una población de strings aleatorios con la misma longitud (ej. \"AAAAAAAAABA.A\"), que irá evolucionando hasta que la mayoría de ellos se parezcan a \"Industria 4.0\".\n",
    "\n",
    "- Los genes disponibles son: \" abcdefghijklmnñopqrstuvwxyzABCDEFGHIJKLMNÑOPQRSTUVWXYZ1234567890,.-;:_¿?¡!\"\n",
    "\n",
    "- El tamaño de la población es 100\n",
    "\n",
    "- La reproducción será realizada por el 50% de los individuos más aptos que generarán el 90% de la nueva población.\n",
    "\n",
    "- Utiliza el método de reproducción que consideres.\n",
    "\n",
    "- Utiliza algún método de mutación.\n",
    "\n",
    "- La nueva población estará formada por el 10% más apto de la generación anterior más los nuevos descendientes."
   ]
  },
  {
   "cell_type": "markdown",
   "metadata": {},
   "source": [
    "## Instrucciones"
   ]
  },
  {
   "cell_type": "markdown",
   "metadata": {},
   "source": [
    "Podemos resumir el algoritmo en el siguiente pseudocódigo:\n",
    "\n",
    "1) Inicializar población aleatoria.\n",
    "\n",
    "2) Determinar la aptitud de la población.\n",
    "\n",
    "3) Hasta que la condición de parada sea TRUE:\n",
    "\n",
    "      a) Escoger padres.\n",
    "      \n",
    "      b) Cruzar y generar nueva población.\n",
    "      \n",
    "      c) Realizar mutación en la población\n",
    "      \n",
    "      d) Determinar la aptitud de la población.\n",
    "      \n",
    "      \n",
    "La condición de parada será que el mejor individuo tenga una aptitud del 100%"
   ]
  },
  {
   "cell_type": "markdown",
   "metadata": {},
   "source": [
    "## Solución"
   ]
  },
  {
   "cell_type": "code",
   "execution_count": null,
   "metadata": {},
   "outputs": [],
   "source": [
    "import random \n"
   ]
  }
 ],
 "metadata": {
  "kernelspec": {
   "display_name": "Python 3",
   "language": "python",
   "name": "python3"
  },
  "language_info": {
   "codemirror_mode": {
    "name": "ipython",
    "version": 3
   },
   "file_extension": ".py",
   "mimetype": "text/x-python",
   "name": "python",
   "nbconvert_exporter": "python",
   "pygments_lexer": "ipython3",
   "version": "3.8.3"
  }
 },
 "nbformat": 4,
 "nbformat_minor": 4
}
