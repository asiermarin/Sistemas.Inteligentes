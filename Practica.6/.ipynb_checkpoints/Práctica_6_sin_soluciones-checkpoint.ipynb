{
 "cells": [
  {
   "cell_type": "markdown",
   "metadata": {},
   "source": [
    "# Práctica 6"
   ]
  },
  {
   "cell_type": "markdown",
   "metadata": {},
   "source": [
    "## Descripción"
   ]
  },
  {
   "cell_type": "markdown",
   "metadata": {},
   "source": [
    "Vamos a utilizar una librería de CSP para platear y solucionar tres ejercicios."
   ]
  },
  {
   "cell_type": "markdown",
   "metadata": {},
   "source": [
    "## Instrucciones"
   ]
  },
  {
   "cell_type": "markdown",
   "metadata": {},
   "source": [
    "1) La librería a utilizar se llama [python-constraint](https://pypi.org/project/python-constraint/). Tenéis una serie de [ejemplos](https://pypi.org/project/python-constraint/#Examples) y la documentación completa en este [enlace](http://labix.org/doc/constraint/)."
   ]
  },
  {
   "cell_type": "markdown",
   "metadata": {},
   "source": [
    "1.1) El flujo de ejecución básico incluye las siguientes operaciones:\n",
    "- Generamos problemas CSP con la instanciación de la clase Problem().\n",
    "- Añadimos variables con el método de la clase Problem addVariable(variable, dominio) or AddVariables(variables, dominios).\n",
    "- Añadimos restricciones con el método de la clase Problem addConstraint(restricción, variables_afectadas).\n",
    "- Obtenemos soluciones con el método de la clase Problem getSolutions()."
   ]
  },
  {
   "cell_type": "markdown",
   "metadata": {},
   "source": [
    "1.2) Además esta librería incorpora los algoritmos vistos en clase (backtracking solver) así como otros."
   ]
  },
  {
   "cell_type": "markdown",
   "metadata": {},
   "source": [
    "1.3) Por último, incluye restricciones predefinidas como:\n",
    "- FunctionConstraint\n",
    "- AllDifferentConstraint\n",
    "- AllEqualConstraint\n",
    "- ExactSumConstraint\n",
    "- MaxSumConstraint\n",
    "- MinSumConstraint\n",
    "- InSetConstraint\n",
    "- NotInSetConstraint\n",
    "- SomeInSetConstraint\n",
    "- SomeNotInSetConstraint\n"
   ]
  },
  {
   "cell_type": "markdown",
   "metadata": {},
   "source": [
    "**Nota:** Es importante que leáis la documentación para obtener más detalles sobre cada método: variables, retornos, usos, etc."
   ]
  },
  {
   "cell_type": "markdown",
   "metadata": {},
   "source": [
    "2) Para instalar la librería, busca en inicio \"*Anaconda Powershell prompt*\" e inserta \"*pip install python-constraint*\"."
   ]
  },
  {
   "cell_type": "markdown",
   "metadata": {},
   "source": [
    "3) Comprueba que todo es correcto ejecutando la siguiente celda."
   ]
  },
  {
   "cell_type": "code",
   "execution_count": 1,
   "metadata": {},
   "outputs": [],
   "source": [
    "from constraint import *"
   ]
  },
  {
   "cell_type": "markdown",
   "metadata": {},
   "source": [
    "## Problema 1"
   ]
  },
  {
   "cell_type": "markdown",
   "metadata": {},
   "source": [
    "En el primer problema resolveremos el cuadrado mágico visto en clase.\n"
   ]
  },
  {
   "cell_type": "code",
   "execution_count": null,
   "metadata": {},
   "outputs": [],
   "source": [
    "\n",
    "\n"
   ]
  },
  {
   "cell_type": "markdown",
   "metadata": {},
   "source": [
    "## Problema 2"
   ]
  },
  {
   "cell_type": "markdown",
   "metadata": {},
   "source": [
    "Ahora vamos a resolver el problema de las 8 reinas."
   ]
  },
  {
   "cell_type": "code",
   "execution_count": null,
   "metadata": {},
   "outputs": [],
   "source": []
  },
  {
   "cell_type": "markdown",
   "metadata": {},
   "source": [
    "### Problema 3"
   ]
  },
  {
   "cell_type": "markdown",
   "metadata": {},
   "source": [
    "Dado el siguiente mapa, colorealo teniendo en cuenta las siguientes restricciones:\n",
    "- Los territorios adyacentes no pueden tener el mismo color.\n",
    "- Los territorios con más de una palabra no pueden ser azules.\n",
    "- El dominio puede ser azul, verde, rojo, naranja, negro, morado, gris y rosa."
   ]
  },
  {
   "cell_type": "code",
   "execution_count": 2,
   "metadata": {},
   "outputs": [
    {
     "data": {
      "text/html": [
       "<img src=\"http://mapasenpdf.com/maps/educational/espana/previews/mapa-autonomc3adas.jpg\"/>"
      ],
      "text/plain": [
       "<IPython.core.display.Image object>"
      ]
     },
     "execution_count": 2,
     "metadata": {},
     "output_type": "execute_result"
    }
   ],
   "source": [
    "from IPython.display import Image\n",
    "from IPython.core.display import HTML \n",
    "Image(url= \"http://mapasenpdf.com/maps/educational/espana/previews/mapa-autonomc3adas.jpg\")"
   ]
  },
  {
   "cell_type": "markdown",
   "metadata": {},
   "source": [
    "### Vuestra solución"
   ]
  },
  {
   "cell_type": "code",
   "execution_count": null,
   "metadata": {},
   "outputs": [],
   "source": []
  },
  {
   "cell_type": "code",
   "execution_count": null,
   "metadata": {},
   "outputs": [],
   "source": []
  }
 ],
 "metadata": {
  "kernelspec": {
   "display_name": "Python 3",
   "language": "python",
   "name": "python3"
  },
  "language_info": {
   "codemirror_mode": {
    "name": "ipython",
    "version": 3
   },
   "file_extension": ".py",
   "mimetype": "text/x-python",
   "name": "python",
   "nbconvert_exporter": "python",
   "pygments_lexer": "ipython3",
   "version": "3.8.3"
  }
 },
 "nbformat": 4,
 "nbformat_minor": 4
}
