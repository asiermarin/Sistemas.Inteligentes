{
 "cells": [
  {
   "cell_type": "markdown",
   "metadata": {},
   "source": [
    "# Práctica 6"
   ]
  },
  {
   "cell_type": "markdown",
   "metadata": {},
   "source": [
    "## Descripción"
   ]
  },
  {
   "cell_type": "markdown",
   "metadata": {},
   "source": [
    "Vamos a utilizar una librería de CSP para platear y solucionar tres ejercicios."
   ]
  },
  {
   "cell_type": "markdown",
   "metadata": {},
   "source": [
    "## Instrucciones"
   ]
  },
  {
   "cell_type": "markdown",
   "metadata": {},
   "source": [
    "1) La librería a utilizar se llama [python-constraint](https://pypi.org/project/python-constraint/). Tenéis una serie de [ejemplos](https://pypi.org/project/python-constraint/#Examples) y la documentación completa en este [enlace](http://labix.org/doc/constraint/)."
   ]
  },
  {
   "cell_type": "markdown",
   "metadata": {},
   "source": [
    "1.1) El flujo de ejecución básico incluye las siguientes operaciones:\n",
    "- Generamos problemas CSP con la instanciación de la clase Problem().\n",
    "- Añadimos variables con el método de la clase Problem addVariable(variable, dominio) or AddVariables(variables, dominios).\n",
    "- Añadimos restricciones con el método de la clase Problem addConstraint(restricción, variables_afectadas).\n",
    "- Obtenemos soluciones con el método de la clase Problem getSolutions()."
   ]
  },
  {
   "cell_type": "markdown",
   "metadata": {},
   "source": [
    "1.2) Además esta librería incorpora los algoritmos vistos en clase (backtracking solver) así como otros."
   ]
  },
  {
   "cell_type": "markdown",
   "metadata": {},
   "source": [
    "1.3) Por último, incluye restricciones predefinidas como:\n",
    "- FunctionConstraint\n",
    "- AllDifferentConstraint\n",
    "- AllEqualConstraint\n",
    "- ExactSumConstraint\n",
    "- MaxSumConstraint\n",
    "- MinSumConstraint\n",
    "- InSetConstraint\n",
    "- NotInSetConstraint\n",
    "- SomeInSetConstraint\n",
    "- SomeNotInSetConstraint\n"
   ]
  },
  {
   "cell_type": "markdown",
   "metadata": {},
   "source": [
    "**Nota:** Es importante que leáis la documentación para obtener más detalles sobre cada método: variables, retornos, usos, etc."
   ]
  },
  {
   "cell_type": "markdown",
   "metadata": {},
   "source": [
    "2) Para instalar la librería, busca en inicio \"*Anaconda Powershell prompt*\" e inserta \"*pip install python-constraint*\"."
   ]
  },
  {
   "cell_type": "markdown",
   "metadata": {},
   "source": [
    "3) Comprueba que todo es correcto ejecutando la siguiente celda."
   ]
  },
  {
   "cell_type": "code",
   "execution_count": 1,
   "metadata": {},
   "outputs": [],
   "source": [
    "from constraint import *"
   ]
  },
  {
   "cell_type": "markdown",
   "metadata": {},
   "source": [
    "## Problema 1"
   ]
  },
  {
   "cell_type": "markdown",
   "metadata": {},
   "source": [
    "En el primer problema resolveremos el cuadrado mágico visto en clase.\n"
   ]
  },
  {
   "cell_type": "code",
   "execution_count": 2,
   "metadata": {},
   "outputs": [
    {
     "name": "stdout",
     "output_type": "stream",
     "text": [
      "PROBLEMA 1\n",
      "rowws -------\n",
      "0\n",
      "[0, 1, 2]\n",
      "1\n",
      "[3, 4, 5]\n",
      "2\n",
      "[6, 7, 8]\n",
      "columnas -------\n",
      "0\n",
      "[0, 3, 6]\n",
      "1\n",
      "[1, 4, 7]\n",
      "2\n",
      "[2, 5, 8]\n",
      "{0: 3, 4: 2, 8: 1, 1: 1, 2: 2, 3: 1, 5: 3, 6: 2, 7: 3}\n"
     ]
    }
   ],
   "source": [
    "\n",
    "# Problema 1\n",
    "print(\"PROBLEMA 1\")\n",
    "problem = Problem()\n",
    "\"\"\"\n",
    "Variables:\n",
    "0 1 2\n",
    "3 4 5 \n",
    "6 7 8\n",
    "Dominio: {1, 2, 3}\n",
    "\"\"\"\n",
    "problem.addVariables(range(0, 9), range(1, 3 + 1))\n",
    "problem.addConstraint(ExactSumConstraint(6), [0, 4, 8]) # diagonal\n",
    "print(\"rowws -------\")\n",
    "for row in range(3):  # rows\n",
    "    print(row)\n",
    "    problem.addConstraint(AllDifferentConstraint(), [row * 3 + i for i in range(3)])  # todas diferentes en rows\n",
    "    problem.addConstraint(ExactSumConstraint(6), [row * 3 + i for i in range(3)])\n",
    "    print([row * 3 + i for i in range(3)])\n",
    "print(\"columnas -------\")\n",
    "for col in range(3):   # columnas\n",
    "    print(col)\n",
    "    problem.addConstraint(AllDifferentConstraint(), [col * 3 + i for i in range(3)]) # todas diferentes en columnas\n",
    "    problem.addConstraint(ExactSumConstraint(6), [col + 3 * i for i in range(3)])\n",
    "    print([col + 3 * i for i in range(3)])\n",
    "\n",
    "solutions1 = problem.getSolution()\n",
    "print(solutions1)\n"
   ]
  },
  {
   "cell_type": "markdown",
   "metadata": {},
   "source": [
    "## Problema 2"
   ]
  },
  {
   "cell_type": "markdown",
   "metadata": {},
   "source": [
    "Ahora vamos a resolver el problema de las 8 reinas."
   ]
  },
  {
   "cell_type": "code",
   "execution_count": 3,
   "metadata": {},
   "outputs": [
    {
     "name": "stdout",
     "output_type": "stream",
     "text": [
      "PROBLEMA 2\n",
      "{1: 8, 2: 4, 3: 1, 4: 3, 7: 7, 5: 6, 6: 2, 8: 5}\n"
     ]
    }
   ],
   "source": [
    "# Problema 2\n",
    "print(\"PROBLEMA 2\")\n",
    "\"\"\" \n",
    "Comentario\n",
    "\"\"\"\n",
    "problem2 = Problem()\n",
    "variables = range(1,9)\t\n",
    "dominios = range(1,9)\t\n",
    "problem2.addVariables(variables, dominios)\t# aniadir todass las variables\n",
    "\n",
    "# cada reina tiene que estar en una columna separada\n",
    "# conforme evoluciona el bucle se aniaden las restricciones\n",
    "for columna1 in variables:\n",
    "    for columna2 in variables:\n",
    "        if columna1 < columna2:\n",
    "            problem2.addConstraint(lambda row1, row2, columna1=columna1, columna2=columna2:\n",
    "                abs(row1-row2) != abs(columna1-columna2) and\t# revision diagonas\n",
    "                row1 != row2, (columna1, columna2))\t\t\t\t# revision horizontal\n",
    "\n",
    "solution2 = problem2.getSolution()\n",
    "print(solution2)"
   ]
  },
  {
   "cell_type": "markdown",
   "metadata": {},
   "source": [
    "### Problema 3"
   ]
  },
  {
   "cell_type": "markdown",
   "metadata": {},
   "source": [
    "Dado el siguiente mapa, colorealo teniendo en cuenta las siguientes restricciones:\n",
    "- Los territorios adyacentes no pueden tener el mismo color.\n",
    "- Los territorios con más de una palabra no pueden ser azules.\n",
    "- El dominio puede ser azul, verde, rojo, naranja, negro, morado, gris y rosa."
   ]
  },
  {
   "cell_type": "code",
   "execution_count": 4,
   "metadata": {},
   "outputs": [
    {
     "data": {
      "text/html": [
       "<img src=\"http://mapasenpdf.com/maps/educational/espana/previews/mapa-autonomc3adas.jpg\"/>"
      ],
      "text/plain": [
       "<IPython.core.display.Image object>"
      ]
     },
     "execution_count": 4,
     "metadata": {},
     "output_type": "execute_result"
    }
   ],
   "source": [
    "from IPython.display import Image\n",
    "from IPython.core.display import HTML \n",
    "Image(url= \"http://mapasenpdf.com/maps/educational/espana/previews/mapa-autonomc3adas.jpg\")"
   ]
  },
  {
   "cell_type": "markdown",
   "metadata": {},
   "source": [
    "### Vuestra solución"
   ]
  },
  {
   "cell_type": "code",
   "execution_count": 5,
   "metadata": {},
   "outputs": [
    {
     "name": "stdout",
     "output_type": "stream",
     "text": [
      "PROBLEMA 3\n",
      "{0: 3, 4: 2, 8: 1, 1: 1, 2: 2, 3: 1, 5: 3, 6: 2, 7: 3}\n"
     ]
    }
   ],
   "source": [
    "# Problema 3\n",
    "print(\"PROBLEMA 3\")\n",
    "\"\"\" \n",
    "Al principio intente hacerlo con una matriz pero era imposible representar el mapa. Introduzco las variables y los dominios.\n",
    "Variables: \"GALICIA\", \"ASTURIAS\", \"CANTABRIA\", \"EUSKADI\", \"NAVARRA\", \"LA RIOJA\", \"ARAGON\", \"CATALONIA\",\n",
    "\"CASTILLA LEON\", \"MADRID\", \"CASTILLA MANCHA\", \"VALENCIA\", \"BALEARES\", \"EXTREMADURA\", \"ANDALUCIA\", \"MURCIA\", \"CANARIAS\"\n",
    "Dominios: \"rojo\", \"naranja\", \"verde\"\n",
    "He comprobado que con solo tres colores ya funciona.\n",
    "\"\"\"\n",
    "problem3 = Problem()\n",
    "problem3.addVariables([\"GALICIA\", \"ASTURIAS\", \"CANTABRIA\", \"EUSKADI\", \"NAVARRA\", \"LA RIOJA\", \"ARAGON\", \"CATALONIA\",\n",
    "\"CASTILLA LEON\", \"MADRID\", \"CASTILLA MANCHA\", \"VALENCIA\", \"BALEARES\", \"EXTREMADURA\", \"ANDALUCIA\", \"MURCIA\", \"CANARIAS\"], [\"rojo\", \"naranja\", \"verde\"])\n",
    "\n",
    "problem3.addConstraint(AllDifferentConstraint(), [\"GALICIA\", \"ASTURIAS\", \"CASTILLA LEON\"]) \n",
    "problem3.addConstraint(AllDifferentConstraint(), [\"CANTABRIA\", \"ASTURIAS\", \"CASTILLA LEON\"]) \n",
    "\n",
    "problem3.addConstraint(AllDifferentConstraint(), [\"EUSKADI\", \"CANTABRIA\", \"CASTILLA LEON\"]) \n",
    "problem3.addConstraint(AllDifferentConstraint(), [\"EUSKADI\", \"LA RIOJA\", \"CASTILLA LEON\"]) \n",
    "problem3.addConstraint(AllDifferentConstraint(), [\"EUSKADI\", \"LA RIOJA\", \"NAVARRA\"]) \n",
    "\n",
    "problem3.addConstraint(AllDifferentConstraint(), [\"LA RIOJA\", \"CASTILLA LEON\", \"ARAGON\"]) \n",
    "\n",
    "problem3.addConstraint(AllDifferentConstraint(), [\"NAVARRA\", \"LA RIOJA\", \"ARAGON\"]) \n",
    "\n",
    "problem3.addConstraint(AllDifferentConstraint(), [\"ARAGON\", \"CATALONIA\", \"NAVARRA\"])\n",
    "problem3.addConstraint(AllDifferentConstraint(), [\"ARAGON\", \"CASTILLA LEON\", \"CASTILLA MANCHA\"])\n",
    "problem3.addConstraint(AllDifferentConstraint(), [\"ARAGON\", \"CATALONIA\", \"VALENCIA\"])\n",
    "problem3.addConstraint(AllDifferentConstraint(), [\"ARAGON\", \"CASTILLA MANCHA\", \"VALENCIA\"])\n",
    "\n",
    "problem3.addConstraint(AllDifferentConstraint(), [\"CASTILLA MANCHA\", \"MURCIA\", \"VALENCIA\"])\n",
    "problem3.addConstraint(AllDifferentConstraint(), [\"CASTILLA MANCHA\", \"MADRID\", \"CASTILLA LEON\"])\n",
    "\n",
    "problem3.addConstraint(AllDifferentConstraint(), [\"EXTREMADURA\", \"CASTILLA MANCHA\", \"CASTILLA LEON\"])\n",
    "problem3.addConstraint(AllDifferentConstraint(), [\"EXTREMADURA\", \"CASTILLA MANCHA\", \"ANDALUCIA\"])\n",
    "\n",
    "problem3.addConstraint(AllDifferentConstraint(), [\"ANDALUCIA\", \"CASTILLA MANCHA\", \"MURCIA\"])\n",
    "\n",
    "solution3 = problem.getSolution()\n",
    "print(solution3)"
   ]
  },
  {
   "cell_type": "code",
   "execution_count": null,
   "metadata": {},
   "outputs": [],
   "source": []
  },
  {
   "cell_type": "code",
   "execution_count": null,
   "metadata": {},
   "outputs": [],
   "source": []
  },
  {
   "cell_type": "code",
   "execution_count": null,
   "metadata": {},
   "outputs": [],
   "source": []
  },
  {
   "cell_type": "code",
   "execution_count": null,
   "metadata": {},
   "outputs": [],
   "source": []
  }
 ],
 "metadata": {
  "kernelspec": {
   "display_name": "Python 3",
   "language": "python",
   "name": "python3"
  },
  "language_info": {
   "codemirror_mode": {
    "name": "ipython",
    "version": 3
   },
   "file_extension": ".py",
   "mimetype": "text/x-python",
   "name": "python",
   "nbconvert_exporter": "python",
   "pygments_lexer": "ipython3",
   "version": "3.8.3"
  }
 },
 "nbformat": 4,
 "nbformat_minor": 4
}
