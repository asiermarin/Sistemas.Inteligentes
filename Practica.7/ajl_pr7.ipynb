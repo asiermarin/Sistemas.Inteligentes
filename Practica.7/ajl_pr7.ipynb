{
 "cells": [
  {
   "cell_type": "markdown",
   "metadata": {},
   "source": [
    "# Práctica  7"
   ]
  },
  {
   "cell_type": "markdown",
   "metadata": {},
   "source": [
    "## Descripción "
   ]
  },
  {
   "cell_type": "markdown",
   "metadata": {},
   "source": [
    "Tras las prácticas en grupos 2 y 3, la siguiente práctica resultará muy sencilla. Simplemente hay que aplicar el algoritmo de clasificación usando árboles de decisión ([DecisionTreeRegressor](https://scikit-learn.org/stable/modules/generated/sklearn.tree.DecisionTreeRegressor.html). Seguimos interesados solamente en dos variables, **precio** y **carat**."
   ]
  },
  {
   "cell_type": "markdown",
   "metadata": {},
   "source": [
    "## Pistas"
   ]
  },
  {
   "cell_type": "markdown",
   "metadata": {},
   "source": [
    "1. En este caso, no es necesario realziar las conversiones en los datos, solo vamos a usar las dos variables que nos interesan.\n",
    "2. Divide tu dataset (*train* y *test*).\n",
    "3. Crea una instancia del clasificador.\n",
    "4. Haz *fit* con los datos de entrenamiento.\n",
    "5. Mide la predicción utilizando *cross_val_score* de *sklearn.model_selection*."
   ]
  },
  {
   "cell_type": "markdown",
   "metadata": {},
   "source": [
    "## Solución"
   ]
  },
  {
   "cell_type": "code",
   "execution_count": 3,
   "metadata": {},
   "outputs": [
    {
     "output_type": "stream",
     "name": "stdout",
     "text": [
      "[-1.24699116 -0.39144331  0.50601728 -2.08610016 -0.65583379]\n0.8650409507610721\n"
     ]
    }
   ],
   "source": [
    "from sklearn.tree import DecisionTreeRegressor\n",
    "import pandas as pd\n",
    "from sklearn.model_selection import train_test_split\n",
    "from sklearn.model_selection import cross_val_score \n",
    "#1-cogemos precio y carat\n",
    "df=pd.read_csv('diamonds_example.csv')\n",
    "#variable independiente\n",
    "X=df[['carat']]\n",
    "#variable dependiente\n",
    "Y=df[['price']]\n",
    "#2-divido el dataset\n",
    "X_train,X_test,Y_train,Y_test=train_test_split(X,Y,test_size=0.80)\n",
    "#3-Creo instancia del clasificador\n",
    "clasificador = DecisionTreeRegressor(random_state=0)\n",
    "clasificador_train_x=X_train.values\n",
    "clasificador_train_y=Y_train.values\n",
    "#4-Hacemos el fit con las variables\n",
    "clasificador = clasificador.fit(clasificador_train_x.reshape(-1,1),clasificador_train_y.reshape(-1,1))\n",
    "#5-Mido la predicción\n",
    "a=cross_val_score(clasificador,X,Y)\n",
    "#Imprimimos los resultados\n",
    "print(a)\n",
    "print(clasificador.score(X_test,Y_test))"
   ]
  },
  {
   "cell_type": "code",
   "execution_count": null,
   "metadata": {},
   "outputs": [],
   "source": []
  }
 ],
 "metadata": {
  "kernelspec": {
   "display_name": "Python 3",
   "language": "python",
   "name": "python3"
  },
  "language_info": {
   "codemirror_mode": {
    "name": "ipython",
    "version": 3
   },
   "file_extension": ".py",
   "mimetype": "text/x-python",
   "name": "python",
   "nbconvert_exporter": "python",
   "pygments_lexer": "ipython3",
   "version": "3.8.3-final"
  }
 },
 "nbformat": 4,
 "nbformat_minor": 4
}