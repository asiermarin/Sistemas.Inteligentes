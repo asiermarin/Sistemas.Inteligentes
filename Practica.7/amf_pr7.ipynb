{
 "cells": [
  {
   "cell_type": "markdown",
   "metadata": {},
   "source": [
    "# Práctica  7"
   ]
  },
  {
   "cell_type": "markdown",
   "metadata": {},
   "source": [
    "## Descripción "
   ]
  },
  {
   "cell_type": "markdown",
   "metadata": {},
   "source": [
    "Tras las prácticas en grupos 2 y 3, la siguiente práctica resultará muy sencilla. Simplemente hay que aplicar el algoritmo de clasificación usando árboles de decisión ([DecisionTreeRegressor](https://scikit-learn.org/stable/modules/generated/sklearn.tree.DecisionTreeRegressor.html). Seguimos interesados solamente en dos variables, **precio** y **carat**."
   ]
  },
  {
   "cell_type": "markdown",
   "metadata": {},
   "source": [
    "## Pistas"
   ]
  },
  {
   "cell_type": "markdown",
   "metadata": {},
   "source": [
    "1. En este caso, no es necesario realziar las conversiones en los datos, solo vamos a usar las dos variables que nos interesan.\n",
    "2. Divide tu dataset (*train* y *test*).\n",
    "3. Crea una instancia del clasificador.\n",
    "4. Haz *fit* con los datos de entrenamiento.\n",
    "5. Mide la predicción utilizando *cross_val_score* de *sklearn.model_selection*."
   ]
  },
  {
   "cell_type": "markdown",
   "metadata": {},
   "source": [
    "## Solución"
   ]
  },
  {
   "cell_type": "code",
   "execution_count": 52,
   "metadata": {},
   "outputs": [],
   "source": [
    "# importar librerias\n",
    "from sklearn.tree import DecisionTreeRegressor\n",
    "import pandas as pd\n",
    "from sklearn.model_selection import train_test_split\n",
    "from sklearn.model_selection import cross_val_score"
   ]
  },
  {
   "cell_type": "code",
   "execution_count": 53,
   "metadata": {},
   "outputs": [
    {
     "output_type": "stream",
     "name": "stdout",
     "text": [
      "       carat\n0       0.23\n1       0.21\n2       0.23\n3       0.29\n4       0.31\n...      ...\n53935   0.72\n53936   0.72\n53937   0.70\n53938   0.86\n53939   0.75\n\n[53940 rows x 1 columns]\n       price\n0        326\n1        326\n2        327\n3        334\n4        335\n...      ...\n53935   2757\n53936   2757\n53937   2757\n53938   2757\n53939   2757\n\n[53940 rows x 1 columns]\n"
     ]
    }
   ],
   "source": [
    "# 1-cogemos precio y carat\n",
    "df=pd.read_csv('diamonds_example.csv')\n",
    "\n",
    "# escogo variable independiente\n",
    "X = df[['carat']]\n",
    "print(X)\n",
    "\n",
    "# escogo variable dependiente\n",
    "Y = df[['price']]\n",
    "print(Y)"
   ]
  },
  {
   "cell_type": "code",
   "execution_count": 54,
   "metadata": {},
   "outputs": [
    {
     "output_type": "stream",
     "name": "stdout",
     "text": [
      "       carat\n47598   0.62\n31313   0.32\n4093    1.02\n50878   0.70\n9427    0.91\n...      ...\n25256   1.69\n19354   0.30\n32404   0.37\n14515   1.00\n50263   0.61\n\n[43152 rows x 1 columns]\n       carat\n43036   0.55\n1115    0.73\n52253   0.72\n3664    1.00\n6364    0.32\n...      ...\n18233   1.13\n45373   0.58\n9835    1.01\n46589   0.64\n26035   0.32\n\n[10788 rows x 1 columns]\n"
     ]
    }
   ],
   "source": [
    "# 2-divido el dataset\n",
    "# defino variables de test y entrenamiento\n",
    "# los datos de test seran un 20% y de entramiento 80%\n",
    "X_train,X_test,Y_train,Y_test = train_test_split(X,Y,test_size=0.20)\n",
    "print(X_train)\n",
    "print(X_test)"
   ]
  },
  {
   "cell_type": "code",
   "execution_count": 55,
   "metadata": {},
   "outputs": [],
   "source": [
    "# 3-Creo instancia del clasificador\n",
    "clasificador = DecisionTreeRegressor(random_state=0)\n",
    "clasificador_train_x = X_train.values\n",
    "clasificador_train_y =Y_train.values"
   ]
  },
  {
   "cell_type": "code",
   "execution_count": 56,
   "metadata": {},
   "outputs": [],
   "source": [
    "#  4-Hacemos el fit con las variables\n",
    "clasificador = clasificador.fit(clasificador_train_x.reshape(-1,1), clasificador_train_y.reshape(-1,1))"
   ]
  },
  {
   "cell_type": "code",
   "execution_count": 57,
   "metadata": {},
   "outputs": [],
   "source": [
    "#5-Mido la predicción\n",
    "prediction = cross_val_score(clasificador,X,Y)"
   ]
  },
  {
   "cell_type": "code",
   "execution_count": 58,
   "metadata": {},
   "outputs": [
    {
     "output_type": "stream",
     "name": "stdout",
     "text": [
      "[-1.24699116 -0.39144331  0.50601728 -2.08610016 -0.65583379]\n0.8671823713163737\n"
     ]
    }
   ],
   "source": [
    "# imprimir resultados\n",
    "print(prediction)\n",
    "print(clasificador.score(X_test,Y_test))"
   ]
  }
 ],
 "metadata": {
  "kernelspec": {
   "display_name": "Python 3",
   "language": "python",
   "name": "python3"
  },
  "language_info": {
   "codemirror_mode": {
    "name": "ipython",
    "version": 3
   },
   "file_extension": ".py",
   "mimetype": "text/x-python",
   "name": "python",
   "nbconvert_exporter": "python",
   "pygments_lexer": "ipython3",
   "version": "3.8.3-final"
  }
 },
 "nbformat": 4,
 "nbformat_minor": 4
}