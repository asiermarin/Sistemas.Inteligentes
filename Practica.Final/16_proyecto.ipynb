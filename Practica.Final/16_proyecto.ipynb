{
 "cells": [
  {
   "cell_type": "code",
   "execution_count": 2,
   "metadata": {},
   "outputs": [],
   "source": [
    "import pandas as pd\n",
    "df = pd.read_csv('IPL Ball-by-Ball 2008-2020.csv')"
   ]
  },
  {
   "cell_type": "code",
   "execution_count": 3,
   "metadata": {},
   "outputs": [
    {
     "output_type": "stream",
     "name": "stdout",
     "text": [
      "       id  inning  over  ball      batsman  non_striker     bowler  \\\n0  335982       1     6     5   RT Ponting  BB McCullum  AA Noffke   \n1  335982       1     6     6  BB McCullum   RT Ponting  AA Noffke   \n2  335982       1     7     1  BB McCullum   RT Ponting     Z Khan   \n3  335982       1     7     2  BB McCullum   RT Ponting     Z Khan   \n4  335982       1     7     3   RT Ponting  BB McCullum     Z Khan   \n\n   batsman_runs  extra_runs  total_runs  non_boundary  is_wicket  \\\n0             1           0           1             0          0   \n1             1           0           1             0          0   \n2             0           0           0             0          0   \n3             1           0           1             0          0   \n4             1           0           1             0          0   \n\n  dismissal_kind player_dismissed fielder extras_type           batting_team  \\\n0            NaN              NaN     NaN         NaN  Kolkata Knight Riders   \n1            NaN              NaN     NaN         NaN  Kolkata Knight Riders   \n2            NaN              NaN     NaN         NaN  Kolkata Knight Riders   \n3            NaN              NaN     NaN         NaN  Kolkata Knight Riders   \n4            NaN              NaN     NaN         NaN  Kolkata Knight Riders   \n\n                  bowling_team  \n0  Royal Challengers Bangalore  \n1  Royal Challengers Bangalore  \n2  Royal Challengers Bangalore  \n3  Royal Challengers Bangalore  \n4  Royal Challengers Bangalore  \n"
     ]
    },
    {
     "output_type": "execute_result",
     "data": {
      "text/plain": [
       "            batsman  non_striker           bowler dismissal_kind  \\\n",
       "0        RT Ponting  BB McCullum        AA Noffke            NaN   \n",
       "1       BB McCullum   RT Ponting        AA Noffke            NaN   \n",
       "2       BB McCullum   RT Ponting           Z Khan            NaN   \n",
       "3       BB McCullum   RT Ponting           Z Khan            NaN   \n",
       "4        RT Ponting  BB McCullum           Z Khan            NaN   \n",
       "...             ...          ...              ...            ...   \n",
       "193463      RR Pant      SS Iyer  NM Coulter-Nile            NaN   \n",
       "193464      RR Pant      SS Iyer  NM Coulter-Nile            NaN   \n",
       "193465      RR Pant      SS Iyer        KH Pandya            NaN   \n",
       "193466      RR Pant      SS Iyer        KH Pandya            NaN   \n",
       "193467      SS Iyer      RR Pant        KH Pandya            NaN   \n",
       "\n",
       "       player_dismissed fielder extras_type           batting_team  \\\n",
       "0                   NaN     NaN         NaN  Kolkata Knight Riders   \n",
       "1                   NaN     NaN         NaN  Kolkata Knight Riders   \n",
       "2                   NaN     NaN         NaN  Kolkata Knight Riders   \n",
       "3                   NaN     NaN         NaN  Kolkata Knight Riders   \n",
       "4                   NaN     NaN         NaN  Kolkata Knight Riders   \n",
       "...                 ...     ...         ...                    ...   \n",
       "193463              NaN     NaN         NaN         Delhi Capitals   \n",
       "193464              NaN     NaN         NaN         Delhi Capitals   \n",
       "193465              NaN     NaN       wides         Delhi Capitals   \n",
       "193466              NaN     NaN         NaN         Delhi Capitals   \n",
       "193467              NaN     NaN         NaN         Delhi Capitals   \n",
       "\n",
       "                       bowling_team  \n",
       "0       Royal Challengers Bangalore  \n",
       "1       Royal Challengers Bangalore  \n",
       "2       Royal Challengers Bangalore  \n",
       "3       Royal Challengers Bangalore  \n",
       "4       Royal Challengers Bangalore  \n",
       "...                             ...  \n",
       "193463               Mumbai Indians  \n",
       "193464               Mumbai Indians  \n",
       "193465               Mumbai Indians  \n",
       "193466               Mumbai Indians  \n",
       "193467               Mumbai Indians  \n",
       "\n",
       "[193468 rows x 9 columns]"
      ],
      "text/html": "<div>\n<style scoped>\n    .dataframe tbody tr th:only-of-type {\n        vertical-align: middle;\n    }\n\n    .dataframe tbody tr th {\n        vertical-align: top;\n    }\n\n    .dataframe thead th {\n        text-align: right;\n    }\n</style>\n<table border=\"1\" class=\"dataframe\">\n  <thead>\n    <tr style=\"text-align: right;\">\n      <th></th>\n      <th>batsman</th>\n      <th>non_striker</th>\n      <th>bowler</th>\n      <th>dismissal_kind</th>\n      <th>player_dismissed</th>\n      <th>fielder</th>\n      <th>extras_type</th>\n      <th>batting_team</th>\n      <th>bowling_team</th>\n    </tr>\n  </thead>\n  <tbody>\n    <tr>\n      <th>0</th>\n      <td>RT Ponting</td>\n      <td>BB McCullum</td>\n      <td>AA Noffke</td>\n      <td>NaN</td>\n      <td>NaN</td>\n      <td>NaN</td>\n      <td>NaN</td>\n      <td>Kolkata Knight Riders</td>\n      <td>Royal Challengers Bangalore</td>\n    </tr>\n    <tr>\n      <th>1</th>\n      <td>BB McCullum</td>\n      <td>RT Ponting</td>\n      <td>AA Noffke</td>\n      <td>NaN</td>\n      <td>NaN</td>\n      <td>NaN</td>\n      <td>NaN</td>\n      <td>Kolkata Knight Riders</td>\n      <td>Royal Challengers Bangalore</td>\n    </tr>\n    <tr>\n      <th>2</th>\n      <td>BB McCullum</td>\n      <td>RT Ponting</td>\n      <td>Z Khan</td>\n      <td>NaN</td>\n      <td>NaN</td>\n      <td>NaN</td>\n      <td>NaN</td>\n      <td>Kolkata Knight Riders</td>\n      <td>Royal Challengers Bangalore</td>\n    </tr>\n    <tr>\n      <th>3</th>\n      <td>BB McCullum</td>\n      <td>RT Ponting</td>\n      <td>Z Khan</td>\n      <td>NaN</td>\n      <td>NaN</td>\n      <td>NaN</td>\n      <td>NaN</td>\n      <td>Kolkata Knight Riders</td>\n      <td>Royal Challengers Bangalore</td>\n    </tr>\n    <tr>\n      <th>4</th>\n      <td>RT Ponting</td>\n      <td>BB McCullum</td>\n      <td>Z Khan</td>\n      <td>NaN</td>\n      <td>NaN</td>\n      <td>NaN</td>\n      <td>NaN</td>\n      <td>Kolkata Knight Riders</td>\n      <td>Royal Challengers Bangalore</td>\n    </tr>\n    <tr>\n      <th>...</th>\n      <td>...</td>\n      <td>...</td>\n      <td>...</td>\n      <td>...</td>\n      <td>...</td>\n      <td>...</td>\n      <td>...</td>\n      <td>...</td>\n      <td>...</td>\n    </tr>\n    <tr>\n      <th>193463</th>\n      <td>RR Pant</td>\n      <td>SS Iyer</td>\n      <td>NM Coulter-Nile</td>\n      <td>NaN</td>\n      <td>NaN</td>\n      <td>NaN</td>\n      <td>NaN</td>\n      <td>Delhi Capitals</td>\n      <td>Mumbai Indians</td>\n    </tr>\n    <tr>\n      <th>193464</th>\n      <td>RR Pant</td>\n      <td>SS Iyer</td>\n      <td>NM Coulter-Nile</td>\n      <td>NaN</td>\n      <td>NaN</td>\n      <td>NaN</td>\n      <td>NaN</td>\n      <td>Delhi Capitals</td>\n      <td>Mumbai Indians</td>\n    </tr>\n    <tr>\n      <th>193465</th>\n      <td>RR Pant</td>\n      <td>SS Iyer</td>\n      <td>KH Pandya</td>\n      <td>NaN</td>\n      <td>NaN</td>\n      <td>NaN</td>\n      <td>wides</td>\n      <td>Delhi Capitals</td>\n      <td>Mumbai Indians</td>\n    </tr>\n    <tr>\n      <th>193466</th>\n      <td>RR Pant</td>\n      <td>SS Iyer</td>\n      <td>KH Pandya</td>\n      <td>NaN</td>\n      <td>NaN</td>\n      <td>NaN</td>\n      <td>NaN</td>\n      <td>Delhi Capitals</td>\n      <td>Mumbai Indians</td>\n    </tr>\n    <tr>\n      <th>193467</th>\n      <td>SS Iyer</td>\n      <td>RR Pant</td>\n      <td>KH Pandya</td>\n      <td>NaN</td>\n      <td>NaN</td>\n      <td>NaN</td>\n      <td>NaN</td>\n      <td>Delhi Capitals</td>\n      <td>Mumbai Indians</td>\n    </tr>\n  </tbody>\n</table>\n<p>193468 rows × 9 columns</p>\n</div>"
     },
     "metadata": {},
     "execution_count": 3
    }
   ],
   "source": [
    "print(df.head()) \n",
    "\n",
    "categorical_feature_mask = df.dtypes==object\n",
    "categorical_cols = df.columns[categorical_feature_mask].tolist()\n",
    "\n",
    "df[categorical_cols] \n"
   ]
  },
  {
   "cell_type": "code",
   "execution_count": 4,
   "metadata": {},
   "outputs": [
    {
     "output_type": "execute_result",
     "data": {
      "text/plain": [
       "id                  193468\n",
       "inning              193468\n",
       "over                193468\n",
       "ball                193468\n",
       "batsman             193468\n",
       "non_striker         193468\n",
       "bowler              193468\n",
       "batsman_runs        193468\n",
       "extra_runs          193468\n",
       "total_runs          193468\n",
       "non_boundary        193468\n",
       "is_wicket           193468\n",
       "dismissal_kind        9495\n",
       "player_dismissed      9495\n",
       "fielder               6784\n",
       "extras_type          10233\n",
       "batting_team        193468\n",
       "bowling_team        193277\n",
       "dtype: int64"
      ]
     },
     "metadata": {},
     "execution_count": 4
    }
   ],
   "source": [
    "df.count()"
   ]
  },
  {
   "cell_type": "code",
   "execution_count": 5,
   "metadata": {},
   "outputs": [
    {
     "output_type": "execute_result",
     "data": {
      "text/plain": [
       "       id  inning  over  ball      batsman  non_striker     bowler  \\\n",
       "0  335982       1     6     5   RT Ponting  BB McCullum  AA Noffke   \n",
       "1  335982       1     6     6  BB McCullum   RT Ponting  AA Noffke   \n",
       "2  335982       1     7     1  BB McCullum   RT Ponting     Z Khan   \n",
       "3  335982       1     7     2  BB McCullum   RT Ponting     Z Khan   \n",
       "4  335982       1     7     3   RT Ponting  BB McCullum     Z Khan   \n",
       "\n",
       "   batsman_runs  extra_runs  total_runs  non_boundary  is_wicket  \\\n",
       "0             1           0           1             0          0   \n",
       "1             1           0           1             0          0   \n",
       "2             0           0           0             0          0   \n",
       "3             1           0           1             0          0   \n",
       "4             1           0           1             0          0   \n",
       "\n",
       "            batting_team                 bowling_team  \n",
       "0  Kolkata Knight Riders  Royal Challengers Bangalore  \n",
       "1  Kolkata Knight Riders  Royal Challengers Bangalore  \n",
       "2  Kolkata Knight Riders  Royal Challengers Bangalore  \n",
       "3  Kolkata Knight Riders  Royal Challengers Bangalore  \n",
       "4  Kolkata Knight Riders  Royal Challengers Bangalore  "
      ],
      "text/html": "<div>\n<style scoped>\n    .dataframe tbody tr th:only-of-type {\n        vertical-align: middle;\n    }\n\n    .dataframe tbody tr th {\n        vertical-align: top;\n    }\n\n    .dataframe thead th {\n        text-align: right;\n    }\n</style>\n<table border=\"1\" class=\"dataframe\">\n  <thead>\n    <tr style=\"text-align: right;\">\n      <th></th>\n      <th>id</th>\n      <th>inning</th>\n      <th>over</th>\n      <th>ball</th>\n      <th>batsman</th>\n      <th>non_striker</th>\n      <th>bowler</th>\n      <th>batsman_runs</th>\n      <th>extra_runs</th>\n      <th>total_runs</th>\n      <th>non_boundary</th>\n      <th>is_wicket</th>\n      <th>batting_team</th>\n      <th>bowling_team</th>\n    </tr>\n  </thead>\n  <tbody>\n    <tr>\n      <th>0</th>\n      <td>335982</td>\n      <td>1</td>\n      <td>6</td>\n      <td>5</td>\n      <td>RT Ponting</td>\n      <td>BB McCullum</td>\n      <td>AA Noffke</td>\n      <td>1</td>\n      <td>0</td>\n      <td>1</td>\n      <td>0</td>\n      <td>0</td>\n      <td>Kolkata Knight Riders</td>\n      <td>Royal Challengers Bangalore</td>\n    </tr>\n    <tr>\n      <th>1</th>\n      <td>335982</td>\n      <td>1</td>\n      <td>6</td>\n      <td>6</td>\n      <td>BB McCullum</td>\n      <td>RT Ponting</td>\n      <td>AA Noffke</td>\n      <td>1</td>\n      <td>0</td>\n      <td>1</td>\n      <td>0</td>\n      <td>0</td>\n      <td>Kolkata Knight Riders</td>\n      <td>Royal Challengers Bangalore</td>\n    </tr>\n    <tr>\n      <th>2</th>\n      <td>335982</td>\n      <td>1</td>\n      <td>7</td>\n      <td>1</td>\n      <td>BB McCullum</td>\n      <td>RT Ponting</td>\n      <td>Z Khan</td>\n      <td>0</td>\n      <td>0</td>\n      <td>0</td>\n      <td>0</td>\n      <td>0</td>\n      <td>Kolkata Knight Riders</td>\n      <td>Royal Challengers Bangalore</td>\n    </tr>\n    <tr>\n      <th>3</th>\n      <td>335982</td>\n      <td>1</td>\n      <td>7</td>\n      <td>2</td>\n      <td>BB McCullum</td>\n      <td>RT Ponting</td>\n      <td>Z Khan</td>\n      <td>1</td>\n      <td>0</td>\n      <td>1</td>\n      <td>0</td>\n      <td>0</td>\n      <td>Kolkata Knight Riders</td>\n      <td>Royal Challengers Bangalore</td>\n    </tr>\n    <tr>\n      <th>4</th>\n      <td>335982</td>\n      <td>1</td>\n      <td>7</td>\n      <td>3</td>\n      <td>RT Ponting</td>\n      <td>BB McCullum</td>\n      <td>Z Khan</td>\n      <td>1</td>\n      <td>0</td>\n      <td>1</td>\n      <td>0</td>\n      <td>0</td>\n      <td>Kolkata Knight Riders</td>\n      <td>Royal Challengers Bangalore</td>\n    </tr>\n  </tbody>\n</table>\n</div>"
     },
     "metadata": {},
     "execution_count": 5
    }
   ],
   "source": [
    "df = df.drop(columns=['dismissal_kind', 'player_dismissed', 'fielder', 'extras_type'],axis=1)\n",
    "df = df.dropna(how='any')\n",
    "df.shape\n",
    "df.head()\n"
   ]
  },
  {
   "cell_type": "code",
   "execution_count": 6,
   "metadata": {},
   "outputs": [
    {
     "output_type": "execute_result",
     "data": {
      "text/plain": [
       "id              193277\n",
       "inning          193277\n",
       "over            193277\n",
       "ball            193277\n",
       "batsman         193277\n",
       "non_striker     193277\n",
       "bowler          193277\n",
       "batsman_runs    193277\n",
       "extra_runs      193277\n",
       "total_runs      193277\n",
       "non_boundary    193277\n",
       "is_wicket       193277\n",
       "batting_team    193277\n",
       "bowling_team    193277\n",
       "dtype: int64"
      ]
     },
     "metadata": {},
     "execution_count": 6
    }
   ],
   "source": [
    "df.count()"
   ]
  },
  {
   "cell_type": "markdown",
   "metadata": {},
   "source": [
    "2.3) Ahora hay que transformar los datos categóricos. Si recordáis, existen dos técnicas principales, one-hot encoding y label encoding. Label encoding solo es válido para variables que denotan notas o valoraciones, one-hot encoding para todos los casos.\n",
    "\n",
    "Para homogeneizar los resultados, vamos a utilizar label encoding con *cut* y one-hot encoding con *color* y *clarity*.\n",
    "\n",
    "A continuación, completa las líneas comentadas con TODO con tu propio código:"
   ]
  },
  {
   "cell_type": "code",
   "execution_count": 7,
   "metadata": {},
   "outputs": [
    {
     "output_type": "stream",
     "name": "stdout",
     "text": [
      "         id  inning  over  ball      batsman  non_striker     bowler  \\\n0  335982.0     1.0   6.0   4.0   RT Ponting  BB McCullum  AA Noffke   \n1  335982.0     1.0   6.0   5.0  BB McCullum   RT Ponting  AA Noffke   \n2  335982.0     1.0   7.0   0.0  BB McCullum   RT Ponting     Z Khan   \n3  335982.0     1.0   7.0   1.0  BB McCullum   RT Ponting     Z Khan   \n4  335982.0     1.0   7.0   2.0   RT Ponting  BB McCullum     Z Khan   \n\n   batsman_runs  extra_runs  total_runs  ...  over_10  over_11 over_12  \\\n0           1.0         0.0         1.0  ...      0.0      0.0     0.0   \n1           1.0         0.0         1.0  ...      0.0      0.0     0.0   \n2           0.0         0.0         0.0  ...      0.0      0.0     0.0   \n3           1.0         0.0         1.0  ...      0.0      0.0     0.0   \n4           1.0         0.0         1.0  ...      0.0      0.0     0.0   \n\n  over_13  over_14  over_15  over_16  over_17  over_18  over_19  \n0     0.0      0.0      0.0      0.0      0.0      0.0      0.0  \n1     0.0      0.0      0.0      0.0      0.0      0.0      0.0  \n2     0.0      0.0      0.0      0.0      0.0      0.0      0.0  \n3     0.0      0.0      0.0      0.0      0.0      0.0      0.0  \n4     0.0      0.0      0.0      0.0      0.0      0.0      0.0  \n\n[5 rows x 34 columns]\n-----------------------------------------------------------------\n"
     ]
    }
   ],
   "source": [
    "from sklearn import preprocessing\n",
    "import numpy as np\n",
    "\n",
    "# Cargamos el label encoder\n",
    "label_encoder = preprocessing.LabelEncoder()\n",
    "\n",
    "# Lo aplicamos sobre la la columna 'cut' -> le.fit_transform()\n",
    "#TODO\n",
    "df['ball']= label_encoder.fit_transform(df['ball']) \n",
    "\n",
    "# Ahora vamos a transformar la variable 'color'\n",
    "df['over']= label_encoder.fit_transform(df['over']) \n",
    "\n",
    "# Cargamos el one-hot encoder\n",
    "hot_encoder=preprocessing.OneHotEncoder(sparse=False)\n",
    "\n",
    "# ¿Qué significa el atributo sparse? Proporciona la respuesta por medio de un comentario\n",
    "# TODO Hacer una matriz dispersa. Clasificar las temáticas de los datos que se reunen.\n",
    "# Para hacer una mmatriz dispersa. Se puede poner en true o no.\n",
    "\n",
    "# Para simplificar el proceso, vamos a realizar las operaciones en un nuevo DataFrame formado por los datos a modificar\n",
    "# Aplicamos el encoder la columna 'color' -> hot_encoder.fit_transform()\n",
    "#TODO\n",
    "datos_color = hot_encoder.fit_transform(df[['over']]) \n",
    "\n",
    "# Para obtener un nuevo DataFrame ->  pd.DataFrame (resultado_anterior)\n",
    "#TODO color_data = \n",
    "color_data = pd.DataFrame(datos_color)\n",
    "\n",
    "# Para que los nombres de las nuevas columnas tengan sentido, utilizaremos al siguiente función\n",
    "#TODO color_data.columns = hot_encoder.get_feature_names(['NOMBRE_DE_VARIABLE'])\n",
    "color_data.columns = hot_encoder.get_feature_names(['over'])\n",
    "\n",
    "# Eliminamos la variable color de nuestro dataset original\n",
    "#TODO\n",
    "df.drop(columns=[\"over\"], axis = 1)\n",
    "\n",
    "#Y le añadimos el nuevo DataFrame con el comando concat de Pandas\n",
    "#TODO\n",
    "df = pd.concat([df, color_data], axis = 1)\n",
    "\n",
    "#Observa que el DataFrame original ha cambiado\n",
    "print(df.head())\n",
    "print(\"-----------------------------------------------------------------\")\n"
   ]
  },
  {
   "cell_type": "markdown",
   "metadata": {},
   "source": [
    "3) Ahora que tenemos los datos listos, podemos construir el modelo de ML utilizando regresión lineal y entrenarlo. Es decir, comenzamos la fase 3. \n",
    "\n",
    "Al igual que en el punto anterior, completa las líneas comentadas con TODO con tu propio código:"
   ]
  },
  {
   "cell_type": "code",
   "execution_count": 8,
   "metadata": {},
   "outputs": [
    {
     "output_type": "stream",
     "name": "stdout",
     "text": [
      "        ball\n0        4.0\n1        5.0\n2        0.0\n3        1.0\n4        2.0\n...      ...\n193463   4.0\n193464   5.0\n193465   0.0\n193466   1.0\n193467   2.0\n\n[193468 rows x 1 columns]\n        over\n0        6.0\n1        6.0\n2        7.0\n3        7.0\n4        7.0\n...      ...\n193463  12.0\n193464  12.0\n193465  13.0\n193466  13.0\n193467  13.0\n\n[193468 rows x 1 columns]\n"
     ]
    },
    {
     "output_type": "error",
     "ename": "ValueError",
     "evalue": "Input contains NaN, infinity or a value too large for dtype('float64').",
     "traceback": [
      "\u001b[1;31m---------------------------------------------------------------------------\u001b[0m",
      "\u001b[1;31mValueError\u001b[0m                                Traceback (most recent call last)",
      "\u001b[1;32m<ipython-input-8-5f6311d387c4>\u001b[0m in \u001b[0;36m<module>\u001b[1;34m\u001b[0m\n\u001b[0;32m     16\u001b[0m \u001b[0mregression_train_y\u001b[0m \u001b[1;33m=\u001b[0m \u001b[0my_train\u001b[0m\u001b[1;33m.\u001b[0m\u001b[0mvalues\u001b[0m\u001b[1;33m\u001b[0m\u001b[1;33m\u001b[0m\u001b[0m\n\u001b[0;32m     17\u001b[0m \u001b[1;31m# Entrenamos el modelo\u001b[0m\u001b[1;33m\u001b[0m\u001b[1;33m\u001b[0m\u001b[1;33m\u001b[0m\u001b[0m\n\u001b[1;32m---> 18\u001b[1;33m \u001b[0mregression\u001b[0m \u001b[1;33m=\u001b[0m \u001b[0mregression\u001b[0m\u001b[1;33m.\u001b[0m\u001b[0mfit\u001b[0m\u001b[1;33m(\u001b[0m\u001b[0mregression_train_x\u001b[0m\u001b[1;33m.\u001b[0m\u001b[0mreshape\u001b[0m\u001b[1;33m(\u001b[0m\u001b[1;33m-\u001b[0m\u001b[1;36m1\u001b[0m\u001b[1;33m,\u001b[0m \u001b[1;36m1\u001b[0m\u001b[1;33m)\u001b[0m\u001b[1;33m,\u001b[0m \u001b[0mregression_train_y\u001b[0m\u001b[1;33m.\u001b[0m\u001b[0mreshape\u001b[0m\u001b[1;33m(\u001b[0m\u001b[1;33m-\u001b[0m\u001b[1;36m1\u001b[0m\u001b[1;33m,\u001b[0m \u001b[1;36m1\u001b[0m\u001b[1;33m)\u001b[0m\u001b[1;33m)\u001b[0m\u001b[1;33m\u001b[0m\u001b[1;33m\u001b[0m\u001b[0m\n\u001b[0m",
      "\u001b[1;32mC:\\ProgramData\\Anaconda3\\lib\\site-packages\\sklearn\\linear_model\\_base.py\u001b[0m in \u001b[0;36mfit\u001b[1;34m(self, X, y, sample_weight)\u001b[0m\n\u001b[0;32m    503\u001b[0m \u001b[1;33m\u001b[0m\u001b[0m\n\u001b[0;32m    504\u001b[0m         \u001b[0mn_jobs_\u001b[0m \u001b[1;33m=\u001b[0m \u001b[0mself\u001b[0m\u001b[1;33m.\u001b[0m\u001b[0mn_jobs\u001b[0m\u001b[1;33m\u001b[0m\u001b[1;33m\u001b[0m\u001b[0m\n\u001b[1;32m--> 505\u001b[1;33m         X, y = self._validate_data(X, y, accept_sparse=['csr', 'csc', 'coo'],\n\u001b[0m\u001b[0;32m    506\u001b[0m                                    y_numeric=True, multi_output=True)\n\u001b[0;32m    507\u001b[0m \u001b[1;33m\u001b[0m\u001b[0m\n",
      "\u001b[1;32mC:\\ProgramData\\Anaconda3\\lib\\site-packages\\sklearn\\base.py\u001b[0m in \u001b[0;36m_validate_data\u001b[1;34m(self, X, y, reset, validate_separately, **check_params)\u001b[0m\n\u001b[0;32m    430\u001b[0m                 \u001b[0my\u001b[0m \u001b[1;33m=\u001b[0m \u001b[0mcheck_array\u001b[0m\u001b[1;33m(\u001b[0m\u001b[0my\u001b[0m\u001b[1;33m,\u001b[0m \u001b[1;33m**\u001b[0m\u001b[0mcheck_y_params\u001b[0m\u001b[1;33m)\u001b[0m\u001b[1;33m\u001b[0m\u001b[1;33m\u001b[0m\u001b[0m\n\u001b[0;32m    431\u001b[0m             \u001b[1;32melse\u001b[0m\u001b[1;33m:\u001b[0m\u001b[1;33m\u001b[0m\u001b[1;33m\u001b[0m\u001b[0m\n\u001b[1;32m--> 432\u001b[1;33m                 \u001b[0mX\u001b[0m\u001b[1;33m,\u001b[0m \u001b[0my\u001b[0m \u001b[1;33m=\u001b[0m \u001b[0mcheck_X_y\u001b[0m\u001b[1;33m(\u001b[0m\u001b[0mX\u001b[0m\u001b[1;33m,\u001b[0m \u001b[0my\u001b[0m\u001b[1;33m,\u001b[0m \u001b[1;33m**\u001b[0m\u001b[0mcheck_params\u001b[0m\u001b[1;33m)\u001b[0m\u001b[1;33m\u001b[0m\u001b[1;33m\u001b[0m\u001b[0m\n\u001b[0m\u001b[0;32m    433\u001b[0m             \u001b[0mout\u001b[0m \u001b[1;33m=\u001b[0m \u001b[0mX\u001b[0m\u001b[1;33m,\u001b[0m \u001b[0my\u001b[0m\u001b[1;33m\u001b[0m\u001b[1;33m\u001b[0m\u001b[0m\n\u001b[0;32m    434\u001b[0m \u001b[1;33m\u001b[0m\u001b[0m\n",
      "\u001b[1;32mC:\\ProgramData\\Anaconda3\\lib\\site-packages\\sklearn\\utils\\validation.py\u001b[0m in \u001b[0;36minner_f\u001b[1;34m(*args, **kwargs)\u001b[0m\n\u001b[0;32m     71\u001b[0m                           FutureWarning)\n\u001b[0;32m     72\u001b[0m         \u001b[0mkwargs\u001b[0m\u001b[1;33m.\u001b[0m\u001b[0mupdate\u001b[0m\u001b[1;33m(\u001b[0m\u001b[1;33m{\u001b[0m\u001b[0mk\u001b[0m\u001b[1;33m:\u001b[0m \u001b[0marg\u001b[0m \u001b[1;32mfor\u001b[0m \u001b[0mk\u001b[0m\u001b[1;33m,\u001b[0m \u001b[0marg\u001b[0m \u001b[1;32min\u001b[0m \u001b[0mzip\u001b[0m\u001b[1;33m(\u001b[0m\u001b[0msig\u001b[0m\u001b[1;33m.\u001b[0m\u001b[0mparameters\u001b[0m\u001b[1;33m,\u001b[0m \u001b[0margs\u001b[0m\u001b[1;33m)\u001b[0m\u001b[1;33m}\u001b[0m\u001b[1;33m)\u001b[0m\u001b[1;33m\u001b[0m\u001b[1;33m\u001b[0m\u001b[0m\n\u001b[1;32m---> 73\u001b[1;33m         \u001b[1;32mreturn\u001b[0m \u001b[0mf\u001b[0m\u001b[1;33m(\u001b[0m\u001b[1;33m**\u001b[0m\u001b[0mkwargs\u001b[0m\u001b[1;33m)\u001b[0m\u001b[1;33m\u001b[0m\u001b[1;33m\u001b[0m\u001b[0m\n\u001b[0m\u001b[0;32m     74\u001b[0m     \u001b[1;32mreturn\u001b[0m \u001b[0minner_f\u001b[0m\u001b[1;33m\u001b[0m\u001b[1;33m\u001b[0m\u001b[0m\n\u001b[0;32m     75\u001b[0m \u001b[1;33m\u001b[0m\u001b[0m\n",
      "\u001b[1;32mC:\\ProgramData\\Anaconda3\\lib\\site-packages\\sklearn\\utils\\validation.py\u001b[0m in \u001b[0;36mcheck_X_y\u001b[1;34m(X, y, accept_sparse, accept_large_sparse, dtype, order, copy, force_all_finite, ensure_2d, allow_nd, multi_output, ensure_min_samples, ensure_min_features, y_numeric, estimator)\u001b[0m\n\u001b[0;32m    794\u001b[0m         \u001b[1;32mraise\u001b[0m \u001b[0mValueError\u001b[0m\u001b[1;33m(\u001b[0m\u001b[1;34m\"y cannot be None\"\u001b[0m\u001b[1;33m)\u001b[0m\u001b[1;33m\u001b[0m\u001b[1;33m\u001b[0m\u001b[0m\n\u001b[0;32m    795\u001b[0m \u001b[1;33m\u001b[0m\u001b[0m\n\u001b[1;32m--> 796\u001b[1;33m     X = check_array(X, accept_sparse=accept_sparse,\n\u001b[0m\u001b[0;32m    797\u001b[0m                     \u001b[0maccept_large_sparse\u001b[0m\u001b[1;33m=\u001b[0m\u001b[0maccept_large_sparse\u001b[0m\u001b[1;33m,\u001b[0m\u001b[1;33m\u001b[0m\u001b[1;33m\u001b[0m\u001b[0m\n\u001b[0;32m    798\u001b[0m                     \u001b[0mdtype\u001b[0m\u001b[1;33m=\u001b[0m\u001b[0mdtype\u001b[0m\u001b[1;33m,\u001b[0m \u001b[0morder\u001b[0m\u001b[1;33m=\u001b[0m\u001b[0morder\u001b[0m\u001b[1;33m,\u001b[0m \u001b[0mcopy\u001b[0m\u001b[1;33m=\u001b[0m\u001b[0mcopy\u001b[0m\u001b[1;33m,\u001b[0m\u001b[1;33m\u001b[0m\u001b[1;33m\u001b[0m\u001b[0m\n",
      "\u001b[1;32mC:\\ProgramData\\Anaconda3\\lib\\site-packages\\sklearn\\utils\\validation.py\u001b[0m in \u001b[0;36minner_f\u001b[1;34m(*args, **kwargs)\u001b[0m\n\u001b[0;32m     71\u001b[0m                           FutureWarning)\n\u001b[0;32m     72\u001b[0m         \u001b[0mkwargs\u001b[0m\u001b[1;33m.\u001b[0m\u001b[0mupdate\u001b[0m\u001b[1;33m(\u001b[0m\u001b[1;33m{\u001b[0m\u001b[0mk\u001b[0m\u001b[1;33m:\u001b[0m \u001b[0marg\u001b[0m \u001b[1;32mfor\u001b[0m \u001b[0mk\u001b[0m\u001b[1;33m,\u001b[0m \u001b[0marg\u001b[0m \u001b[1;32min\u001b[0m \u001b[0mzip\u001b[0m\u001b[1;33m(\u001b[0m\u001b[0msig\u001b[0m\u001b[1;33m.\u001b[0m\u001b[0mparameters\u001b[0m\u001b[1;33m,\u001b[0m \u001b[0margs\u001b[0m\u001b[1;33m)\u001b[0m\u001b[1;33m}\u001b[0m\u001b[1;33m)\u001b[0m\u001b[1;33m\u001b[0m\u001b[1;33m\u001b[0m\u001b[0m\n\u001b[1;32m---> 73\u001b[1;33m         \u001b[1;32mreturn\u001b[0m \u001b[0mf\u001b[0m\u001b[1;33m(\u001b[0m\u001b[1;33m**\u001b[0m\u001b[0mkwargs\u001b[0m\u001b[1;33m)\u001b[0m\u001b[1;33m\u001b[0m\u001b[1;33m\u001b[0m\u001b[0m\n\u001b[0m\u001b[0;32m     74\u001b[0m     \u001b[1;32mreturn\u001b[0m \u001b[0minner_f\u001b[0m\u001b[1;33m\u001b[0m\u001b[1;33m\u001b[0m\u001b[0m\n\u001b[0;32m     75\u001b[0m \u001b[1;33m\u001b[0m\u001b[0m\n",
      "\u001b[1;32mC:\\ProgramData\\Anaconda3\\lib\\site-packages\\sklearn\\utils\\validation.py\u001b[0m in \u001b[0;36mcheck_array\u001b[1;34m(array, accept_sparse, accept_large_sparse, dtype, order, copy, force_all_finite, ensure_2d, allow_nd, ensure_min_samples, ensure_min_features, estimator)\u001b[0m\n\u001b[0;32m    643\u001b[0m \u001b[1;33m\u001b[0m\u001b[0m\n\u001b[0;32m    644\u001b[0m         \u001b[1;32mif\u001b[0m \u001b[0mforce_all_finite\u001b[0m\u001b[1;33m:\u001b[0m\u001b[1;33m\u001b[0m\u001b[1;33m\u001b[0m\u001b[0m\n\u001b[1;32m--> 645\u001b[1;33m             _assert_all_finite(array,\n\u001b[0m\u001b[0;32m    646\u001b[0m                                allow_nan=force_all_finite == 'allow-nan')\n\u001b[0;32m    647\u001b[0m \u001b[1;33m\u001b[0m\u001b[0m\n",
      "\u001b[1;32mC:\\ProgramData\\Anaconda3\\lib\\site-packages\\sklearn\\utils\\validation.py\u001b[0m in \u001b[0;36m_assert_all_finite\u001b[1;34m(X, allow_nan, msg_dtype)\u001b[0m\n\u001b[0;32m     95\u001b[0m                 not allow_nan and not np.isfinite(X).all()):\n\u001b[0;32m     96\u001b[0m             \u001b[0mtype_err\u001b[0m \u001b[1;33m=\u001b[0m \u001b[1;34m'infinity'\u001b[0m \u001b[1;32mif\u001b[0m \u001b[0mallow_nan\u001b[0m \u001b[1;32melse\u001b[0m \u001b[1;34m'NaN, infinity'\u001b[0m\u001b[1;33m\u001b[0m\u001b[1;33m\u001b[0m\u001b[0m\n\u001b[1;32m---> 97\u001b[1;33m             raise ValueError(\n\u001b[0m\u001b[0;32m     98\u001b[0m                     \u001b[0mmsg_err\u001b[0m\u001b[1;33m.\u001b[0m\u001b[0mformat\u001b[0m\u001b[1;33m\u001b[0m\u001b[1;33m\u001b[0m\u001b[0m\n\u001b[0;32m     99\u001b[0m                     (type_err,\n",
      "\u001b[1;31mValueError\u001b[0m: Input contains NaN, infinity or a value too large for dtype('float64')."
     ]
    }
   ],
   "source": [
    "from sklearn.model_selection import train_test_split\n",
    "\n",
    "X = df[['ball']]\n",
    "y = df[['over']]\n",
    "\n",
    "print(X)\n",
    "print(y)\n",
    "\n",
    "X_train,X_test,y_train,y_test = train_test_split(X,y,test_size=0.20)\n",
    "\n",
    "from sklearn import linear_model\n",
    "\n",
    "regression = linear_model.LinearRegression()\n",
    "\n",
    "regression_train_x = X_train.values\n",
    "regression_train_y = y_train.values\n",
    "# Entrenamos el modelo\n",
    "regression = regression.fit(regression_train_x.reshape(-1, 1), regression_train_y.reshape(-1, 1))\n"
   ]
  },
  {
   "cell_type": "markdown",
   "metadata": {},
   "source": [
    "4) Llegamos a la fase 4. ¿Será bueno nuestro modelo? \n",
    "\n",
    "Vamos a emplear diversas estadísticas y a visualizar los resultados\n",
    "\n",
    "Al igual que en los punto anteriores, completa las líneas comentadas con TODO con tu propio código:"
   ]
  },
  {
   "cell_type": "code",
   "execution_count": 101,
   "metadata": {},
   "outputs": [
    {
     "ename": "NotFittedError",
     "evalue": "This LinearRegression instance is not fitted yet. Call 'fit' with appropriate arguments before using this estimator.",
     "output_type": "error",
     "traceback": [
      "\u001b[1;31m---------------------------------------------------------------------------\u001b[0m",
      "\u001b[1;31mNotFittedError\u001b[0m                            Traceback (most recent call last)",
      "\u001b[1;32m<ipython-input-101-f955d1f64762>\u001b[0m in \u001b[0;36m<module>\u001b[1;34m\u001b[0m\n\u001b[0;32m      9\u001b[0m \u001b[1;31m# En lugar de utilizar la función fit, vamos a utilizar la función predict. No olvides hacer el reshape.\u001b[0m\u001b[1;33m\u001b[0m\u001b[1;33m\u001b[0m\u001b[1;33m\u001b[0m\u001b[0m\n\u001b[0;32m     10\u001b[0m \u001b[1;31m#TODO\u001b[0m\u001b[1;33m\u001b[0m\u001b[1;33m\u001b[0m\u001b[1;33m\u001b[0m\u001b[0m\n\u001b[1;32m---> 11\u001b[1;33m \u001b[0mpredictions\u001b[0m \u001b[1;33m=\u001b[0m \u001b[0mregression\u001b[0m\u001b[1;33m.\u001b[0m\u001b[0mpredict\u001b[0m\u001b[1;33m(\u001b[0m\u001b[0mregression_test_x\u001b[0m\u001b[1;33m.\u001b[0m\u001b[0mreshape\u001b[0m\u001b[1;33m(\u001b[0m\u001b[1;33m-\u001b[0m\u001b[1;36m1\u001b[0m\u001b[1;33m,\u001b[0m \u001b[1;36m1\u001b[0m\u001b[1;33m)\u001b[0m\u001b[1;33m)\u001b[0m\u001b[1;33m\u001b[0m\u001b[1;33m\u001b[0m\u001b[0m\n\u001b[0m\u001b[0;32m     12\u001b[0m \u001b[1;33m\u001b[0m\u001b[0m\n\u001b[0;32m     13\u001b[0m \u001b[1;31m# Ahora imprimiremos los coeficientes de la regresión, la media de los mínimos cuadrados y el R^2\u001b[0m\u001b[1;33m\u001b[0m\u001b[1;33m\u001b[0m\u001b[1;33m\u001b[0m\u001b[0m\n",
      "\u001b[1;32mC:\\ProgramData\\Anaconda3\\lib\\site-packages\\sklearn\\linear_model\\_base.py\u001b[0m in \u001b[0;36mpredict\u001b[1;34m(self, X)\u001b[0m\n\u001b[0;32m    234\u001b[0m             \u001b[0mReturns\u001b[0m \u001b[0mpredicted\u001b[0m \u001b[0mvalues\u001b[0m\u001b[1;33m.\u001b[0m\u001b[1;33m\u001b[0m\u001b[1;33m\u001b[0m\u001b[0m\n\u001b[0;32m    235\u001b[0m         \"\"\"\n\u001b[1;32m--> 236\u001b[1;33m         \u001b[1;32mreturn\u001b[0m \u001b[0mself\u001b[0m\u001b[1;33m.\u001b[0m\u001b[0m_decision_function\u001b[0m\u001b[1;33m(\u001b[0m\u001b[0mX\u001b[0m\u001b[1;33m)\u001b[0m\u001b[1;33m\u001b[0m\u001b[1;33m\u001b[0m\u001b[0m\n\u001b[0m\u001b[0;32m    237\u001b[0m \u001b[1;33m\u001b[0m\u001b[0m\n\u001b[0;32m    238\u001b[0m     \u001b[0m_preprocess_data\u001b[0m \u001b[1;33m=\u001b[0m \u001b[0mstaticmethod\u001b[0m\u001b[1;33m(\u001b[0m\u001b[0m_preprocess_data\u001b[0m\u001b[1;33m)\u001b[0m\u001b[1;33m\u001b[0m\u001b[1;33m\u001b[0m\u001b[0m\n",
      "\u001b[1;32mC:\\ProgramData\\Anaconda3\\lib\\site-packages\\sklearn\\linear_model\\_base.py\u001b[0m in \u001b[0;36m_decision_function\u001b[1;34m(self, X)\u001b[0m\n\u001b[0;32m    214\u001b[0m \u001b[1;33m\u001b[0m\u001b[0m\n\u001b[0;32m    215\u001b[0m     \u001b[1;32mdef\u001b[0m \u001b[0m_decision_function\u001b[0m\u001b[1;33m(\u001b[0m\u001b[0mself\u001b[0m\u001b[1;33m,\u001b[0m \u001b[0mX\u001b[0m\u001b[1;33m)\u001b[0m\u001b[1;33m:\u001b[0m\u001b[1;33m\u001b[0m\u001b[1;33m\u001b[0m\u001b[0m\n\u001b[1;32m--> 216\u001b[1;33m         \u001b[0mcheck_is_fitted\u001b[0m\u001b[1;33m(\u001b[0m\u001b[0mself\u001b[0m\u001b[1;33m)\u001b[0m\u001b[1;33m\u001b[0m\u001b[1;33m\u001b[0m\u001b[0m\n\u001b[0m\u001b[0;32m    217\u001b[0m \u001b[1;33m\u001b[0m\u001b[0m\n\u001b[0;32m    218\u001b[0m         \u001b[0mX\u001b[0m \u001b[1;33m=\u001b[0m \u001b[0mcheck_array\u001b[0m\u001b[1;33m(\u001b[0m\u001b[0mX\u001b[0m\u001b[1;33m,\u001b[0m \u001b[0maccept_sparse\u001b[0m\u001b[1;33m=\u001b[0m\u001b[1;33m[\u001b[0m\u001b[1;34m'csr'\u001b[0m\u001b[1;33m,\u001b[0m \u001b[1;34m'csc'\u001b[0m\u001b[1;33m,\u001b[0m \u001b[1;34m'coo'\u001b[0m\u001b[1;33m]\u001b[0m\u001b[1;33m)\u001b[0m\u001b[1;33m\u001b[0m\u001b[1;33m\u001b[0m\u001b[0m\n",
      "\u001b[1;32mC:\\ProgramData\\Anaconda3\\lib\\site-packages\\sklearn\\utils\\validation.py\u001b[0m in \u001b[0;36minner_f\u001b[1;34m(*args, **kwargs)\u001b[0m\n\u001b[0;32m     71\u001b[0m                           FutureWarning)\n\u001b[0;32m     72\u001b[0m         \u001b[0mkwargs\u001b[0m\u001b[1;33m.\u001b[0m\u001b[0mupdate\u001b[0m\u001b[1;33m(\u001b[0m\u001b[1;33m{\u001b[0m\u001b[0mk\u001b[0m\u001b[1;33m:\u001b[0m \u001b[0marg\u001b[0m \u001b[1;32mfor\u001b[0m \u001b[0mk\u001b[0m\u001b[1;33m,\u001b[0m \u001b[0marg\u001b[0m \u001b[1;32min\u001b[0m \u001b[0mzip\u001b[0m\u001b[1;33m(\u001b[0m\u001b[0msig\u001b[0m\u001b[1;33m.\u001b[0m\u001b[0mparameters\u001b[0m\u001b[1;33m,\u001b[0m \u001b[0margs\u001b[0m\u001b[1;33m)\u001b[0m\u001b[1;33m}\u001b[0m\u001b[1;33m)\u001b[0m\u001b[1;33m\u001b[0m\u001b[1;33m\u001b[0m\u001b[0m\n\u001b[1;32m---> 73\u001b[1;33m         \u001b[1;32mreturn\u001b[0m \u001b[0mf\u001b[0m\u001b[1;33m(\u001b[0m\u001b[1;33m**\u001b[0m\u001b[0mkwargs\u001b[0m\u001b[1;33m)\u001b[0m\u001b[1;33m\u001b[0m\u001b[1;33m\u001b[0m\u001b[0m\n\u001b[0m\u001b[0;32m     74\u001b[0m     \u001b[1;32mreturn\u001b[0m \u001b[0minner_f\u001b[0m\u001b[1;33m\u001b[0m\u001b[1;33m\u001b[0m\u001b[0m\n\u001b[0;32m     75\u001b[0m \u001b[1;33m\u001b[0m\u001b[0m\n",
      "\u001b[1;32mC:\\ProgramData\\Anaconda3\\lib\\site-packages\\sklearn\\utils\\validation.py\u001b[0m in \u001b[0;36mcheck_is_fitted\u001b[1;34m(estimator, attributes, msg, all_or_any)\u001b[0m\n\u001b[0;32m   1018\u001b[0m \u001b[1;33m\u001b[0m\u001b[0m\n\u001b[0;32m   1019\u001b[0m     \u001b[1;32mif\u001b[0m \u001b[1;32mnot\u001b[0m \u001b[0mattrs\u001b[0m\u001b[1;33m:\u001b[0m\u001b[1;33m\u001b[0m\u001b[1;33m\u001b[0m\u001b[0m\n\u001b[1;32m-> 1020\u001b[1;33m         \u001b[1;32mraise\u001b[0m \u001b[0mNotFittedError\u001b[0m\u001b[1;33m(\u001b[0m\u001b[0mmsg\u001b[0m \u001b[1;33m%\u001b[0m \u001b[1;33m{\u001b[0m\u001b[1;34m'name'\u001b[0m\u001b[1;33m:\u001b[0m \u001b[0mtype\u001b[0m\u001b[1;33m(\u001b[0m\u001b[0mestimator\u001b[0m\u001b[1;33m)\u001b[0m\u001b[1;33m.\u001b[0m\u001b[0m__name__\u001b[0m\u001b[1;33m}\u001b[0m\u001b[1;33m)\u001b[0m\u001b[1;33m\u001b[0m\u001b[1;33m\u001b[0m\u001b[0m\n\u001b[0m\u001b[0;32m   1021\u001b[0m \u001b[1;33m\u001b[0m\u001b[0m\n\u001b[0;32m   1022\u001b[0m \u001b[1;33m\u001b[0m\u001b[0m\n",
      "\u001b[1;31mNotFittedError\u001b[0m: This LinearRegression instance is not fitted yet. Call 'fit' with appropriate arguments before using this estimator."
     ]
    }
   ],
   "source": [
    "from sklearn import metrics\n",
    "import matplotlib.pyplot as plt\n",
    "\n",
    "# Replica los pasos anteriores para crear regression_test_x  y regression_test_y\n",
    "#TODO\n",
    "regression_test_x = X_test.values\n",
    "regression_test_y = y_test.values\n",
    "\n",
    "# En lugar de utilizar la función fit, vamos a utilizar la función predict. No olvides hacer el reshape.\n",
    "#TODO\n",
    "predictions = regression.predict(regression_test_x.reshape(-1, 1))\n",
    "\n",
    "# Ahora imprimiremos los coeficientes de la regresión, la media de los mínimos cuadrados y el R^2 \n",
    "#TODO imprime y explica qué significan cada uno de ellos\n",
    "# Muestra el coeficiente la función \n",
    "print(regression.coef_)\n",
    "\n",
    "# Muestra la perdida de regresion del error cuadratico medio\n",
    "print(metrics.mean_squared_error(regression_test_y, predictions))\n",
    "\n",
    "# Puntuamos la regresion como criterio de evaluacion para R^2 (la mejor puntuacion posible es 1.0)\n",
    "print(regression.score(X, y))\n",
    "\n",
    "# Vamos a mostrar el resultado en una gráfica\n",
    "plt.scatter(regression_test_x, regression_test_y,  color='black')\n",
    "plt.plot(regression_test_x, predictions, color='red', linewidth=3)\n",
    "plt.show()\n",
    "\n",
    "# TODO ¿Cómo interpretas los datos de la misma?\n",
    "#Clara agrupacion de los datos entre 0 y 2,5, tendencia alcista del precio, \n",
    "#en 1 de carat se observa una clara subida de precio, de 1 a 5 de carat el valor maximo del precio se mantiene"
   ]
  },
  {
   "cell_type": "markdown",
   "metadata": {},
   "source": [
    "5) Hemos obetenido una precisión del 85%. Mejora estos resultados como parte del paso 5."
   ]
  },
  {
   "cell_type": "code",
   "execution_count": 14,
   "metadata": {},
   "outputs": [
    {
     "name": "stdout",
     "output_type": "stream",
     "text": [
      "[[3091.75556747]]\n",
      "3438139.484166623\n",
      "0.7819971821799456\n"
     ]
    },
    {
     "data": {
      "image/png": "[encoded data removed]",
      "text/plain": [
       "<Figure size 432x288 with 1 Axes>"
      ]
     },
     "metadata": {
      "needs_background": "light"
     },
     "output_type": "display_data"
    }
   ],
   "source": [
    "#TODO INTENTO MEJORA 1 (OTRA VARIABLE INDEPENDIENTE)\n",
    "from sklearn.model_selection import train_test_split\n",
    "from sklearn import linear_model\n",
    "import matplotlib.pyplot as plt\n",
    "\n",
    "X = df[['x size']] #Si modificamos la variable el algoritmo no mejora\n",
    "y = df[['price']]\n",
    "\n",
    "X_train,X_test,y_train,y_test = train_test_split(X,y,test_size=0.80)\n",
    "\n",
    "regression = linear_model.LinearRegression()\n",
    "regression_train_x = X_train.values\n",
    "regression_train_y = y_train.values\n",
    "regression = regression.fit(regression_train_x.reshape(-1, 1), regression_train_y.reshape(-1, 1))\n",
    "regression_test_x = X_test.values\n",
    "regression_test_y = y_test.values\n",
    "\n",
    "\n",
    "predictions = regression.predict(regression_test_x.reshape(-1, 1))\n",
    "\n",
    "print(regression.coef_)\n",
    "\n",
    "print(metrics.mean_squared_error(regression_test_y, predictions))\n",
    "\n",
    "print(regression.score(X, y))\n",
    "\n",
    "plt.scatter(regression_test_x, regression_test_y,  color='black')\n",
    "plt.plot(regression_test_x, predictions, color='red', linewidth=3)\n",
    "plt.show()\n",
    "\n",
    "#En el punto 5 para la mejora del algoritmo me he basado en el cambio de variable independiente, el cual he cambiado 'carat' \n",
    "#por 'x size', se observa que el algoritmo no mejora."
   ]
  },
  {
   "cell_type": "code",
   "execution_count": 15,
   "metadata": {},
   "outputs": [
    {
     "name": "stdout",
     "output_type": "stream",
     "text": [
      "[[7765.07173716]]\n",
      "2395289.29709408\n",
      "0.8493277708330876\n"
     ]
    },
    {
     "data": {
      "image/png": "[encoded data removed]",
      "text/plain": [
       "<Figure size 432x288 with 1 Axes>"
      ]
     },
     "metadata": {
      "needs_background": "light"
     },
     "output_type": "display_data"
    }
   ],
   "source": [
    "#TODO INTENTO MEJORA 2 (RECOLECTAR MAS DATOS)\n",
    "from sklearn.model_selection import train_test_split\n",
    "from sklearn import linear_model\n",
    "import matplotlib.pyplot as plt\n",
    "\n",
    "X = df[['carat']] \n",
    "y = df[['price']]\n",
    "\n",
    "X_train,X_test,y_train,y_test = train_test_split(X,y,test_size=0.95)\n",
    "#Si modificas el porcentaje de datos para el entrenamiento tampoco mejora el algoritmo\n",
    "\n",
    "regression = linear_model.LinearRegression()\n",
    "regression_train_x = X_train.values\n",
    "regression_train_y = y_train.values\n",
    "regression = regression.fit(regression_train_x.reshape(-1, 1), regression_train_y.reshape(-1, 1))\n",
    "regression_test_x = X_test.values\n",
    "regression_test_y = y_test.values\n",
    "\n",
    "\n",
    "predictions = regression.predict(regression_test_x.reshape(-1, 1))\n",
    "\n",
    "print(regression.coef_)\n",
    "\n",
    "print(metrics.mean_squared_error(regression_test_y, predictions))\n",
    "\n",
    "print(regression.score(X, y))\n",
    "\n",
    "plt.scatter(regression_test_x, regression_test_y,  color='black')\n",
    "plt.plot(regression_test_x, predictions, color='red', linewidth=3)\n",
    "plt.show()\n",
    "\n",
    "# Tambien he optado por recolectar mas datos modificando el porcentaje de numero de datos de entrenamiento que se va a usar, \n",
    "# en el primer casoutilizamos un 80% y cambiandolo a un 90% se observa que el algoritmo no mejora.\n",
    "# (Sigue siendo un 85% practicamente)"
   ]
  },
  {
   "cell_type": "code",
   "execution_count": null,
   "metadata": {},
   "outputs": [],
   "source": []
  }
 ],
 "metadata": {
  "kernelspec": {
   "display_name": "Python 3",
   "language": "python",
   "name": "python3"
  },
  "language_info": {
   "codemirror_mode": {
    "name": "ipython",
    "version": 3
   },
   "file_extension": ".py",
   "mimetype": "text/x-python",
   "name": "python",
   "nbconvert_exporter": "python",
   "pygments_lexer": "ipython3",
   "version": "3.8.3-final"
  }
 },
 "nbformat": 4,
 "nbformat_minor": 4
}