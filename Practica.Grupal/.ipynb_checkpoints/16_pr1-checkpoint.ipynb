{
 "cells": [
  {
   "cell_type": "markdown",
   "metadata": {},
   "source": [
    "# Práctica grupal 1"
   ]
  },
  {
   "cell_type": "markdown",
   "metadata": {},
   "source": [
    "## Descripción"
   ]
  },
  {
   "cell_type": "markdown",
   "metadata": {},
   "source": [
    "Se dispone de la siguiente matriz donde cada elemento puede ser un número positivo, negativo o cero. \n",
    "\n",
    "\tmat = [\n",
    "\t\t[-1, -9, 0, -1, 0],\n",
    "\t\t[-8, -3, -2, 9, -7],\n",
    "\t\t[2, 0, 0, -6, 0],\n",
    "\t\t[0, -7, -3, 5, -4]\n",
    "\t]\n",
    "\n",
    "Determina el número mínimo de movimientos necesarios para convertir todos los números negativos en positivos. Solo existe una regla:\n",
    "\n",
    "- Las celdas con números positivos  pueden convertir A números negativos en sus celdas adyacentes (i-1, j), (i+1, j), (i, j-1) e (i, j+1) (Arriba, abajo, izquierda y derecha).\n",
    "\n",
    "Aplica el algoritmo BFS para solucionarlo"
   ]
  },
  {
   "cell_type": "markdown",
   "metadata": {},
   "source": [
    "## Instrucciones"
   ]
  },
  {
   "cell_type": "markdown",
   "metadata": {},
   "source": [
    "1) Crear una cola q1 y encola las coordenadas de todos los números positivos de la matriz. # q1 es para las coordenadas que faltan por descubrir\n",
    "\n",
    "2) Crea otra cola q2 para separar los números positivos del paso actual de los del paso anterior.\n",
    "\n",
    "3) Mientras q1 no es vacía:\n",
    "    \n",
    "    Copia los contenidos de la cola original q1 a la cola q2 y vacía q1\n",
    "    \n",
    "    Realizar hasta que q2 esté vacía # hasta que todos son positivos\n",
    "       \n",
    "       Obten el primer elemento de la cola q2 y comprueba las cuatro celdas adyacentes.\n",
    "       \n",
    "       Si alguna de las 4 celdas adyacentes es negativa, la hacemos positiva y pasamos su nuevo valor a la cola q1\n",
    "    \n",
    "    Incrementa el número de pasos en 1\n",
    "    \n",
    "4) Si todos los elementos de la cola son procesados, devolvemos el número de pasos."
   ]
  },
  {
   "cell_type": "markdown",
   "metadata": {},
   "source": [
    "## Pistas"
   ]
  },
  {
   "cell_type": "markdown",
   "metadata": {},
   "source": [
    "- Podemos encontrar todas las celdas adyacentes  simplemente almacenando la posición relativa del movimiento desde cualquier posicion de la matriz. Desde cualquier posición (x,y) podemos movernos a:\n",
    "   (x - 1, y)\n",
    "   (x, y - 1)\n",
    "   (x, y + 1)\n",
    "   (x + 1, y)"
   ]
  },
  {
   "cell_type": "markdown",
   "metadata": {},
   "source": [
    "##  Vuestra solución"
   ]
  },
  {
   "cell_type": "code",
   "execution_count": null,
   "metadata": {},
   "outputs": [],
   "source": [
    "from collections import deque\n",
    "import math \n",
    "\n",
    "mat = [\n",
    "    [-1, -9, 0, -1, 0],\n",
    "    [-8, -3, -2, 9, -7],\n",
    "    [2, 0, 0, -6, 0],\n",
    "    [0, -7, -3, 5, -4]\n",
    "]\n",
    "q1 = []\n",
    "anchura = 0\n",
    "altura = 0\n",
    "for i in mat:\n",
    "    anchura = 0\n",
    "    for j in i:\n",
    "        if j > 0:\n",
    "            q1.append([anchura,altura])\n",
    "        anchura = anchura+1\n",
    "    altura = altura+1\n",
    "q2 = q1\n",
    "q1 = []\n",
    "while q2 != []:\n",
    "    primer_valor = q2[0]\n",
    "    if primer_valor[0]-1 >= 0:\n",
    "        if mat[primer_valor[0]-1][primer_valor[1]]<0:\n",
    "            mat[primer_valor[0]-1][primer_valor[1]] = abs(mat[primer_valor[0]-1][primer_valor[1]])\n",
    "            q1.append([primer_valor[0]-1, primer_valor[1]])\n",
    "    if primer_valor[0]+1 < len(mat):\n",
    "        if mat[primer_valor[0]+1][primer_valor[1]]<0:\n",
    "            mat[primer_valor[0]+1][primer_valor[1]] = abs(mat[primer_valor[0]+1][primer_valor[1]])\n",
    "            q1.append([primer_valor[0]+1, primer_valor[1]])\n",
    "    if primer_valor[1]-1 >= 0:\n",
    "        if mat[primer_valor[0]][primer_valor[1]-1]<0:\n",
    "            mat[primer_valor[0]][primer_valor[1]-1] = abs(mat[primer_valor[0]][primer_valor[1]-1])\n",
    "            q1.append([primer_valor[0], primer_valor[1]-1])\n",
    "    if primer_valor[1]+1 < len(mat):\n",
    "        if mat[primer_valor[0]][primer_valor[1]+1]<0:\n",
    "            mat[primer_valor[0]][primer_valor[1]+1] = abs(mat[primer_valor[0]][primer_valor[1]+1])\n",
    "            q1.append([primer_valor[0], primer_valor[1]+1])\n",
    "if q1 == []:\n",
    "    print(pasos)\n",
    "    pasos= pasos - 1\n",
    "pasos = pasos + 1"
   ]
  },
  {
   "cell_type": "markdown",
   "metadata": {},
   "source": [
    "¿Cuál es la complejidad de la operación en notación Big O?"
   ]
  },
  {
   "cell_type": "markdown",
   "metadata": {},
   "source": []
  },
  {
   "cell_type": "code",
   "execution_count": null,
   "metadata": {},
   "outputs": [],
   "source": []
  },
  {
   "cell_type": "code",
   "execution_count": null,
   "metadata": {},
   "outputs": [],
   "source": []
  },
  {
   "cell_type": "code",
   "execution_count": null,
   "metadata": {},
   "outputs": [],
   "source": []
  },
  {
   "cell_type": "code",
   "execution_count": null,
   "metadata": {},
   "outputs": [],
   "source": []
  }
 ],
 "metadata": {
  "kernelspec": {
   "display_name": "Python 3",
   "language": "python",
   "name": "python3"
  },
  "language_info": {
   "codemirror_mode": {
    "name": "ipython",
    "version": 3
   },
   "file_extension": ".py",
   "mimetype": "text/x-python",
   "name": "python",
   "nbconvert_exporter": "python",
   "pygments_lexer": "ipython3",
   "version": "3.8.3"
  }
 },
 "nbformat": 4,
 "nbformat_minor": 4
}
