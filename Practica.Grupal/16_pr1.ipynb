{
 "cells": [
  {
   "cell_type": "markdown",
   "metadata": {},
   "source": [
    "# Práctica grupal 1"
   ]
  },
  {
   "cell_type": "markdown",
   "metadata": {},
   "source": [
    "## Descripción"
   ]
  },
  {
   "cell_type": "markdown",
   "metadata": {},
   "source": [
    "Se dispone de la siguiente matriz donde cada elemento puede ser un número positivo, negativo o cero. \n",
    "\n",
    "\tmat = [\n",
    "\t\t[-1, -9, 0, -1, 0],\n",
    "\t\t[-8, -3, -2, 9, -7],\n",
    "\t\t[2, 0, 0, -6, 0],\n",
    "\t\t[0, -7, -3, 5, -4]\n",
    "\t]\n",
    "\n",
    "Determina el número mínimo de movimientos necesarios para convertir todos los números negativos en positivos. Solo existe una regla:\n",
    "\n",
    "- Las celdas con números positivos  pueden convertir A números negativos en sus celdas adyacentes (i-1, j), (i+1, j), (i, j-1) e (i, j+1) (Arriba, abajo, izquierda y derecha).\n",
    "\n",
    "Aplica el algoritmo BFS para solucionarlo"
   ]
  },
  {
   "cell_type": "markdown",
   "metadata": {},
   "source": [
    "## Instrucciones"
   ]
  },
  {
   "cell_type": "markdown",
   "metadata": {},
   "source": [
    "1) Crear una cola q1 y encola las coordenadas de todos los números positivos de la matriz. # q1 es para las coordenadas que faltan por descubrir\n",
    "\n",
    "2) Crea otra cola q2 para separar los números positivos del paso actual de los del paso anterior.\n",
    "\n",
    "3) Mientras q1 no es vacía:\n",
    "    \n",
    "    Copia los contenidos de la cola original q1 a la cola q2 y vacía q1\n",
    "    \n",
    "    Realizar hasta que q2 esté vacía # hasta que todos son positivos\n",
    "       \n",
    "       Obten el primer elemento de la cola q2 y comprueba las cuatro celdas adyacentes.\n",
    "       \n",
    "       Si alguna de las 4 celdas adyacentes es negativa, la hacemos positiva y pasamos su nuevo valor a la cola q1\n",
    "    \n",
    "    Incrementa el número de pasos en 1\n",
    "    \n",
    "4) Si todos los elementos de la cola son procesados, devolvemos el número de pasos."
   ]
  },
  {
   "cell_type": "markdown",
   "metadata": {},
   "source": [
    "## Pistas"
   ]
  },
  {
   "cell_type": "markdown",
   "metadata": {},
   "source": [
    "- Podemos encontrar todas las celdas adyacentes  simplemente almacenando la posición relativa del movimiento desde cualquier posicion de la matriz. Desde cualquier posición (x,y) podemos movernos a:\n",
    "   (x - 1, y)\n",
    "   (x, y - 1)\n",
    "   (x, y + 1)\n",
    "   (x + 1, y)"
   ]
  },
  {
   "cell_type": "markdown",
   "metadata": {},
   "source": [
    "##  Vuestra solución"
   ]
  },
  {
   "cell_type": "code",
   "execution_count": 1,
   "metadata": {},
   "outputs": [
    {
     "output_type": "stream",
     "name": "stdout",
     "text": [
      "[[-1 -9  0 -1  0]\n [-8 -3 -2  9 -7]\n [ 2  0  0 -6  0]\n [ 0 -7 -3  5 -4]]\nResultado: \n[[-1 -9  0  1  0]\n [-8 -3  2  9  7]\n [ 2  0  0  6  0]\n [ 0 -7  3  5  4]]\nPasos: 1\nResultado: \n[[-1 -9  0  1  0]\n [-8 -3  2  9  7]\n [ 2  0  0  6  0]\n [ 0 -7  3  5  4]]\nPasos: 2\nResultado: \n[[-1 -9  0  1  0]\n [-8 -3  2  9  7]\n [ 2  0  0  6  0]\n [ 0 -7  3  5  4]]\nPasos: 3\nResultado: \n[[-1 -9  0  1  0]\n [-8 -3  2  9  7]\n [ 2  0  0  6  0]\n [ 0 -7  3  5  4]]\nPasos: 4\nResultado: \n[[-1 -9  0  1  0]\n [-8 -3  2  9  7]\n [ 2  0  0  6  0]\n [ 0 -7  3  5  4]]\nPasos: 5\n"
     ]
    }
   ],
   "source": [
    "from collections import deque\n",
    "import math\n",
    "import numpy as np\n",
    "\n",
    "mat = [\n",
    "    [-1, -9, 0, -1, 0],\n",
    "    [-8, -3, -2, 9, -7],\n",
    "    [2, 0, 0, -6, 0],\n",
    "    [0, -7, -3, 5, -4]\n",
    "]\n",
    "\n",
    "print(np.matrix(mat))\n",
    "\n",
    "class Point:\n",
    "    \n",
    "    def __init__(self, x, y, mat):\n",
    "        self.x = x\n",
    "        self.y = y\n",
    "        self.valor = mat[x][y]\n",
    "        self.cost = math.inf\n",
    "\n",
    "    def actualizar_valor(self, valor):\n",
    "        self.valor = valor\n",
    "\n",
    "    def set_cost(self, c):\n",
    "        self.cost = c\n",
    "\n",
    "    def print(self):\n",
    "        print(self.x, ',', self.y)\n",
    "\n",
    "NORTH = Point(0, 1, mat)\n",
    "SOUTH = Point(0, -1, mat)\n",
    "EAST = Point(1, 0, mat)\n",
    "WEST = Point(-1, 0, mat)\n",
    "\n",
    "class Aplicar_teorema:\n",
    "\n",
    "    def __init__(self, anchura_matriz, altura_matriz, mat):\n",
    "        self.anchura_matriz = anchura_matriz\n",
    "        self.altura_matriz = altura_matriz\n",
    "        self._mat = mat\n",
    "        self.ejercutar_busqueda_dfs()\n",
    "\n",
    "    def ejercutar_busqueda_dfs(self):\n",
    "        pasos = 0\n",
    "        cola_puntos = deque()\n",
    "        positivo1 = Point(2, 0, self._mat)\n",
    "        positivo2 = Point(1, 3, self._mat)\n",
    "        positivo3 = Point(3, 3, self._mat)\n",
    "        cola_puntos.append(positivo1)\n",
    "        cola_puntos.append(positivo2)\n",
    "        cola_puntos.append(positivo3)\n",
    "\n",
    "        cola_puntos_intento = deque()\n",
    "        while pasos < 5:\n",
    "            cola_puntos_intento = cola_puntos.copy()\n",
    "            puntos_alrededores_positivos = []\n",
    "            for punto in cola_puntos:    \n",
    "                puntos_alrededores_positivos = self.devolver_puntos_alrededores_positivos(punto)\n",
    "                for punto_alrededor in puntos_alrededores_positivos:\n",
    "                    cola_puntos_intento.append(punto_alrededor)\n",
    "            cola_puntos.clear()\n",
    "            cola_puntos = cola_puntos_intento.copy()\n",
    "            cola_puntos_intento.clear()\n",
    "            pasos = pasos + 1\n",
    "            print(\"Resultado: \")\n",
    "            print(np.matrix(self._mat))\n",
    "            print(f\"Pasos: {pasos}\")\n",
    "\n",
    "\n",
    "    def devolver_puntos_alrededores_positivos(self, punto_actual):\n",
    "        posiciones_alrededores = []\n",
    "        posibles_alrededores = [[NORTH.x, NORTH.y], [SOUTH.x, SOUTH.y], [EAST.x, EAST.y], [WEST.x, WEST.y]]\n",
    "        for punto_alrededor in posibles_alrededores: # Norte el ultimo\n",
    "            if (punto_actual.x + punto_alrededor[0] <= 3 and punto_actual.y + punto_alrededor[1] <= 4):\n",
    "                punto_cardinal = Point(punto_actual.x + punto_alrededor[0], punto_actual.y + punto_alrededor[1], self._mat)\n",
    "                if (0 <= punto_cardinal.x < self.anchura_matriz and 0 <= punto_cardinal.y < self.altura_matriz):\n",
    "                    if (self.obtener_posicion_matriz(punto_cardinal) < 0 and self.modulo_punto_actual_mayor_que_cardinal(\n",
    "                        punto_actual = punto_actual, punto_cardinal = punto_cardinal) == True):\n",
    "                        nuevo_valor = self.sustituir_valor_matriz(punto_cardinal)\n",
    "                        punto_cardinal.actualizar_valor(nuevo_valor)\n",
    "                        posiciones_alrededores.append(punto_cardinal)\n",
    "        return posiciones_alrededores\n",
    "\n",
    "    def modulo_punto_actual_mayor_que_cardinal(self, punto_actual, punto_cardinal):\n",
    "        if(abs(self.obtener_posicion_matriz(punto_cardinal)) < abs(self.obtener_posicion_matriz(punto_actual))):\n",
    "            return True\n",
    "        else:\n",
    "            return False\n",
    "\n",
    "    def obtener_posicion_matriz(self, current_point):\n",
    "        return self._mat[current_point.x][current_point.y]\n",
    "    \n",
    "    def sustituir_valor_matriz(self, punto_cardinal):\n",
    "            self._mat[punto_cardinal.x][punto_cardinal.y] = abs(self._mat[punto_cardinal.x][punto_cardinal.y])\n",
    "            return self._mat[punto_cardinal.x][punto_cardinal.y]\n",
    "\n",
    "aplicar_dfs = Aplicar_teorema(4, 5, mat)"
   ]
  },
  {
   "cell_type": "markdown",
   "metadata": {},
   "source": [
    "¿Cuál es la complejidad de la operación en notación Big O?"
   ]
  },
  {
   "cell_type": "markdown",
   "metadata": {},
   "source": []
  },
  {
   "cell_type": "code",
   "execution_count": null,
   "metadata": {},
   "outputs": [],
   "source": []
  },
  {
   "cell_type": "code",
   "execution_count": null,
   "metadata": {},
   "outputs": [],
   "source": []
  },
  {
   "cell_type": "code",
   "execution_count": null,
   "metadata": {},
   "outputs": [],
   "source": []
  },
  {
   "cell_type": "code",
   "execution_count": null,
   "metadata": {},
   "outputs": [],
   "source": []
  }
 ],
 "metadata": {
  "kernelspec": {
   "display_name": "Python 3",
   "language": "python",
   "name": "python3"
  },
  "language_info": {
   "codemirror_mode": {
    "name": "ipython",
    "version": 3
   },
   "file_extension": ".py",
   "mimetype": "text/x-python",
   "name": "python",
   "nbconvert_exporter": "python",
   "pygments_lexer": "ipython3",
   "version": "3.8.3-final"
  }
 },
 "nbformat": 4,
 "nbformat_minor": 4
}