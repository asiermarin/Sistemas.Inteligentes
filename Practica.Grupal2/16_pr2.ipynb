{
 "cells": [
  {
   "cell_type": "markdown",
   "metadata": {},
   "source": [
    "# Práctica Grupos 2"
   ]
  },
  {
   "cell_type": "markdown",
   "metadata": {},
   "source": [
    "## Descripción "
   ]
  },
  {
   "cell_type": "markdown",
   "metadata": {},
   "source": [
    "Vamos a analizar visualmente los datos de los diamantes que hemos visto en clase."
   ]
  },
  {
   "cell_type": "markdown",
   "metadata": {},
   "source": [
    "## Guion"
   ]
  },
  {
   "cell_type": "markdown",
   "metadata": {},
   "source": [
    "1) Las librerías que vamos a utilizar son las siguientes:"
   ]
  },
  {
   "cell_type": "code",
   "execution_count": 1,
   "metadata": {},
   "outputs": [],
   "source": [
    "import pandas as pd\n",
    "import matplotlib.pyplot as plt"
   ]
  },
  {
   "cell_type": "markdown",
   "metadata": {},
   "source": [
    "2) Cargamos el archivo *diamonds_example.csv* con la función *read_csv()*."
   ]
  },
  {
   "cell_type": "code",
   "execution_count": 2,
   "metadata": {},
   "outputs": [
    {
     "name": "stdout",
     "output_type": "stream",
     "text": [
      "          no  carat        cut color clarity  depth  table  price  x size  \\\n",
      "0          1   0.23      Ideal     E     SI2   61.5   55.0    326    3.95   \n",
      "1          2   0.21    Premium     E     SI1   59.8   61.0    326    3.89   \n",
      "2          3   0.23       Good     E     VS1   56.9   65.0    327    4.05   \n",
      "3          4   0.29    Premium     I     VS2   62.4   58.0    334    4.20   \n",
      "4          5   0.31       Good     J     SI2   63.3   58.0    335    4.34   \n",
      "...      ...    ...        ...   ...     ...    ...    ...    ...     ...   \n",
      "53935  53936   0.72      Ideal     D     SI1   60.8   57.0   2757    5.75   \n",
      "53936  53937   0.72       Good     D     SI1   63.1   55.0   2757    5.69   \n",
      "53937  53938   0.70  Very Good     D     SI1   62.8   60.0   2757    5.66   \n",
      "53938  53939   0.86    Premium     H     SI2   61.0   58.0   2757    6.15   \n",
      "53939  53940   0.75      Ideal     D     SI2   62.2   55.0   2757    5.83   \n",
      "\n",
      "       y size  z size  \n",
      "0        3.98    2.43  \n",
      "1        3.84    2.31  \n",
      "2        4.07    2.31  \n",
      "3        4.23    2.63  \n",
      "4        4.35    2.75  \n",
      "...       ...     ...  \n",
      "53935    5.76    3.50  \n",
      "53936    5.75    3.61  \n",
      "53937    5.68    3.56  \n",
      "53938    6.12    3.74  \n",
      "53939    5.87    3.64  \n",
      "\n",
      "[53940 rows x 11 columns]\n"
     ]
    }
   ],
   "source": [
    "datos = pd.read_csv(\"diamonds_example.csv\")\n",
    "print(datos)"
   ]
  },
  {
   "cell_type": "markdown",
   "metadata": {},
   "source": [
    "3) Define las características en las que estás interesado como caracteristica_x y caracteristica_y. Como variable independiente utilizaremos price."
   ]
  },
  {
   "cell_type": "code",
   "execution_count": 3,
   "metadata": {},
   "outputs": [],
   "source": [
    "datos.head()\n",
    "feature_y = \"price\"\n",
    "feature_x = \"carat\""
   ]
  },
  {
   "cell_type": "markdown",
   "metadata": {},
   "source": [
    "4) Nos interesa filtrar los datos para cada tipo de corte. Para ello simplemente utiliza la expresión:\n",
    "\n",
    "    datos[datos['cut'] == \"TIPODECORTE\"]\n",
    "    \n",
    "Para cada uno de los tipos de corte existentes."
   ]
  },
  {
   "cell_type": "code",
   "execution_count": 4,
   "metadata": {},
   "outputs": [
    {
     "name": "stdout",
     "output_type": "stream",
     "text": [
      "          no  carat    cut color clarity  depth  table  price  x size  y size  \\\n",
      "0          1   0.23  Ideal     E     SI2   61.5   55.0    326    3.95    3.98   \n",
      "11        12   0.23  Ideal     J     VS1   62.8   56.0    340    3.93    3.90   \n",
      "13        14   0.31  Ideal     J     SI2   62.2   54.0    344    4.35    4.37   \n",
      "16        17   0.30  Ideal     I     SI2   62.0   54.0    348    4.31    4.34   \n",
      "39        40   0.33  Ideal     I     SI2   61.8   55.0    403    4.49    4.51   \n",
      "...      ...    ...    ...   ...     ...    ...    ...    ...     ...     ...   \n",
      "53925  53926   0.79  Ideal     I     SI1   61.6   56.0   2756    5.95    5.97   \n",
      "53926  53927   0.71  Ideal     E     SI1   61.9   56.0   2756    5.71    5.73   \n",
      "53929  53930   0.71  Ideal     G     VS1   61.4   56.0   2756    5.76    5.73   \n",
      "53935  53936   0.72  Ideal     D     SI1   60.8   57.0   2757    5.75    5.76   \n",
      "53939  53940   0.75  Ideal     D     SI2   62.2   55.0   2757    5.83    5.87   \n",
      "\n",
      "       z size  \n",
      "0        2.43  \n",
      "11       2.46  \n",
      "13       2.71  \n",
      "16       2.68  \n",
      "39       2.78  \n",
      "...       ...  \n",
      "53925    3.67  \n",
      "53926    3.54  \n",
      "53929    3.53  \n",
      "53935    3.50  \n",
      "53939    3.64  \n",
      "\n",
      "[21551 rows x 11 columns]\n",
      "          no  carat      cut color clarity  depth  table  price  x size  \\\n",
      "1          2   0.21  Premium     E     SI1   59.8   61.0    326    3.89   \n",
      "3          4   0.29  Premium     I     VS2   62.4   58.0    334    4.20   \n",
      "12        13   0.22  Premium     F     SI1   60.4   61.0    342    3.88   \n",
      "14        15   0.20  Premium     E     SI2   60.2   62.0    345    3.79   \n",
      "15        16   0.32  Premium     E      I1   60.9   58.0    345    4.38   \n",
      "...      ...    ...      ...   ...     ...    ...    ...    ...     ...   \n",
      "53928  53929   0.79  Premium     E     SI2   61.4   58.0   2756    6.03   \n",
      "53930  53931   0.71  Premium     E     SI1   60.5   55.0   2756    5.79   \n",
      "53931  53932   0.71  Premium     F     SI1   59.8   62.0   2756    5.74   \n",
      "53934  53935   0.72  Premium     D     SI1   62.7   59.0   2757    5.69   \n",
      "53938  53939   0.86  Premium     H     SI2   61.0   58.0   2757    6.15   \n",
      "\n",
      "       y size  z size  \n",
      "1        3.84    2.31  \n",
      "3        4.23    2.63  \n",
      "12       3.84    2.33  \n",
      "14       3.75    2.27  \n",
      "15       4.42    2.68  \n",
      "...       ...     ...  \n",
      "53928    5.96    3.68  \n",
      "53930    5.74    3.49  \n",
      "53931    5.73    3.43  \n",
      "53934    5.73    3.58  \n",
      "53938    6.12    3.74  \n",
      "\n",
      "[13791 rows x 11 columns]\n",
      "          no  carat   cut color clarity  depth  table  price  x size  y size  \\\n",
      "2          3   0.23  Good     E     VS1   56.9   65.0    327    4.05    4.07   \n",
      "4          5   0.31  Good     J     SI2   63.3   58.0    335    4.34    4.35   \n",
      "10        11   0.30  Good     J     SI1   64.0   55.0    339    4.25    4.28   \n",
      "17        18   0.30  Good     J     SI1   63.4   54.0    351    4.23    4.29   \n",
      "18        19   0.30  Good     J     SI1   63.8   56.0    351    4.23    4.26   \n",
      "...      ...    ...   ...   ...     ...    ...    ...    ...     ...     ...   \n",
      "53913  53914   0.80  Good     G     VS2   64.2   58.0   2753    5.84    5.81   \n",
      "53914  53915   0.84  Good     I     VS1   63.7   59.0   2753    5.94    5.90   \n",
      "53916  53917   0.74  Good     D     SI1   63.1   59.0   2753    5.71    5.74   \n",
      "53927  53928   0.79  Good     F     SI1   58.1   59.0   2756    6.06    6.13   \n",
      "53936  53937   0.72  Good     D     SI1   63.1   55.0   2757    5.69    5.75   \n",
      "\n",
      "       z size  \n",
      "2        2.31  \n",
      "4        2.75  \n",
      "10       2.73  \n",
      "17       2.70  \n",
      "18       2.71  \n",
      "...       ...  \n",
      "53913    3.74  \n",
      "53914    3.77  \n",
      "53916    3.61  \n",
      "53927    3.54  \n",
      "53936    3.61  \n",
      "\n",
      "[4906 rows x 11 columns]\n",
      "          no  carat        cut color clarity  depth  table  price  x size  \\\n",
      "5          6   0.24  Very Good     J    VVS2   62.8   57.0    336    3.94   \n",
      "6          7   0.24  Very Good     I    VVS1   62.3   57.0    336    3.95   \n",
      "7          8   0.26  Very Good     H     SI1   61.9   55.0    337    4.07   \n",
      "9         10   0.23  Very Good     H     VS1   59.4   61.0    338    4.00   \n",
      "19        20   0.30  Very Good     J     SI1   62.7   59.0    351    4.21   \n",
      "...      ...    ...        ...   ...     ...    ...    ...    ...     ...   \n",
      "53921  53922   0.70  Very Good     E     VS2   62.8   60.0   2755    5.59   \n",
      "53922  53923   0.70  Very Good     D     VS1   63.1   59.0   2755    5.67   \n",
      "53932  53933   0.70  Very Good     E     VS2   60.5   59.0   2757    5.71   \n",
      "53933  53934   0.70  Very Good     E     VS2   61.2   59.0   2757    5.69   \n",
      "53937  53938   0.70  Very Good     D     SI1   62.8   60.0   2757    5.66   \n",
      "\n",
      "       y size  z size  \n",
      "5        3.96    2.48  \n",
      "6        3.98    2.47  \n",
      "7        4.11    2.53  \n",
      "9        4.05    2.39  \n",
      "19       4.27    2.66  \n",
      "...       ...     ...  \n",
      "53921    5.65    3.53  \n",
      "53922    5.58    3.55  \n",
      "53932    5.76    3.47  \n",
      "53933    5.72    3.49  \n",
      "53937    5.68    3.56  \n",
      "\n",
      "[12082 rows x 11 columns]\n"
     ]
    }
   ],
   "source": [
    "corte_ideal = datos[datos['cut'] == \"Ideal\"]\n",
    "print(corte_ideal)\n",
    "corte_premium = datos[datos['cut'] == \"Premium\"]\n",
    "print(corte_premium)\n",
    "corte_good = datos[datos['cut'] == \"Good\"]\n",
    "print(corte_good)\n",
    "corte_very_good = datos[datos['cut'] == \"Very Good\"]\n",
    "print(corte_very_good)"
   ]
  },
  {
   "cell_type": "markdown",
   "metadata": {},
   "source": [
    "5) A continuación:\n",
    "\n",
    "- Inicializa la variable *figura* con la función *figure()*.\n",
    "\n",
    "- Pon un título a la *figura* con la función *title()*.\n",
    "\n",
    "- Queremos mostrar las variables caracteristica_x y caracteristica_y para cada tipo de corte. Todo ello en la misma gráfica, que será de tipo *scatter*.\n",
    "    - Ej.\n",
    "    \n",
    "    \n",
    "    plt.scatter(fair_diamonds[feature_x], fair_diamonds[feature_y], label=\"Fair\", s=1.8)\n",
    "\n",
    "\n",
    "\n",
    "- Inserta la siguiente leyenda y etiquetas: \n",
    "\n",
    "\n",
    "\n",
    "    plt.legend(bbox_to_anchor=(1.05, 1), loc=2, borderaxespad=0.) \n",
    "    plt.xlabel(feature_x) \n",
    "    plt.ylabel(feature_y) \n",
    "    \n",
    "    \n",
    "    \n",
    "- Por último, muestra la gráfica con la función *show()*.\n"
   ]
  },
  {
   "cell_type": "code",
   "execution_count": 8,
   "metadata": {},
   "outputs": [
    {
     "data": {
      "image/png": "[encoded data removed]",
      "text/plain": [
       "<Figure size 432x288 with 1 Axes>"
      ]
     },
     "metadata": {
      "needs_background": "light"
     },
     "output_type": "display_data"
    }
   ],
   "source": [
    "figura = plt.figure()\n",
    "# figura.title('Figura')\n",
    "plt.title(\"Carat vs price\")\n",
    "plt.scatter(datos[feature_x], datos[feature_y], label=\"Fair\", s=1.8)\n",
    "plt.scatter(corte_good[feature_x], corte_good[feature_y], label=\"Good\", s=1.8)\n",
    "plt.scatter(corte_very_good[feature_x], corte_very_good[feature_y], label=\"Very Good\", s=1.8)\n",
    "plt.scatter(corte_premium[feature_x], corte_premium[feature_y], label=\"Premium\", s=1.8)\n",
    "plt.scatter(corte_ideal[feature_x], corte_ideal[feature_y], label=\"Ideal\", s=1.8)\n",
    "plt.legend(bbox_to_anchor=(1.05, 1), loc=2, borderaxespad=0.) \n",
    "plt.xlabel(feature_x) \n",
    "plt.ylabel(feature_y) \n",
    "plt.show()"
   ]
  },
  {
   "cell_type": "markdown",
   "metadata": {},
   "source": [
    "6) Otro tipo de gráfica muy útil para ver correlaciones entre las variables es el mapa de calor o heatmap. En este caso utilizaremos la librería seaborn."
   ]
  },
  {
   "cell_type": "code",
   "execution_count": 6,
   "metadata": {},
   "outputs": [],
   "source": [
    "import seaborn as sns"
   ]
  },
  {
   "cell_type": "markdown",
   "metadata": {},
   "source": [
    "7) Ahora queremos ver cómo se interrelacionan todas las variables entre sí. Pero hay un problema, tenemos variables categóricas. Para mostrarlas en la gráfica simplemente las convertirmos en números (todavía no es necesario utiliar las conversiones vistas en clase para su incorporación en los algoritmos).\n",
    "\n",
    "Para codificar las categorías utiliza la siguiente expresión:\n",
    "\n",
    "    encoding_categories = {\n",
    "                        'cut': {'Fair': 1, 'Good': 2, 'Very Good': 3, 'Premium': 4, 'Ideal': 5},\n",
    "                       'color': {'D': 7, 'E': 6, 'F': 5, 'G': 4, 'H': 3, 'I': 2, 'J': 1},\n",
    "                       'clarity': {'FL': 11, 'IF': 10, 'VVS1': 9, 'VVS2': 8, 'VS1': 7, 'VS2': 6, 'SI1': 5, 'SI2': 4,                                        'I1': 3, 'I2': 2, 'I3': 1}\n",
    "                       }\n",
    "\n",
    "\n",
    "Reemplazalos en los datos cargados."
   ]
  },
  {
   "cell_type": "code",
   "execution_count": 9,
   "metadata": {},
   "outputs": [],
   "source": [
    "encoding_categories = {\n",
    "                    'cut': {'Fair': 1, 'Good': 2, 'Very Good': 3, 'Premium': 4, 'Ideal': 5},\n",
    "                   'color': {'D': 7, 'E': 6, 'F': 5, 'G': 4, 'H': 3, 'I': 2, 'J': 1},\n",
    "                   'clarity': {'FL': 11, 'IF': 10, 'VVS1': 9, 'VVS2': 8, 'VS1': 7, 'VS2': 6, 'SI1': 5, 'SI2': 4,                                        'I1': 3, 'I2': 2, 'I3': 1}\n",
    "                   }\n",
    "datos = datos.replace(encoding_categories)"
   ]
  },
  {
   "cell_type": "markdown",
   "metadata": {},
   "source": [
    "8) Por último, mostramos el heatmap. Ejecuta el siguiente código:"
   ]
  },
  {
   "cell_type": "code",
   "execution_count": 10,
   "metadata": {},
   "outputs": [
    {
     "data": {
      "image/png": "[encoded data removed]",
      "text/plain": [
       "<Figure size 432x288 with 2 Axes>"
      ]
     },
     "metadata": {
      "needs_background": "light"
     },
     "output_type": "display_data"
    }
   ],
   "source": [
    "data_subset = datos[['carat', 'cut', 'color', 'clarity', 'depth', 'table', 'price', 'x size', 'y size', 'z size']]\n",
    "cor = data_subset.corr()\n",
    "sns.heatmap(cor, square=True)\n",
    "plt.show()"
   ]
  },
  {
   "cell_type": "markdown",
   "metadata": {},
   "source": [
    "9) ¿Qué observas en la gráfica del apartado 5)?"
   ]
  },
  {
   "cell_type": "markdown",
   "metadata": {},
   "source": [
    "Precio mayor conforme se aumenta el peso (quilates). Cuanto menor peso el corte (cut) es mejor.\n",
    "La mayoria es un corte ideal y la mayoría de diamates están entre 1 y 2. A partir de 3 quilates la calidad de corte es menor."
   ]
  },
  {
   "cell_type": "markdown",
   "metadata": {},
   "source": [
    "10) ¿Qué observas en la gráfica del apartado 8)?"
   ]
  },
  {
   "cell_type": "markdown",
   "metadata": {},
   "source": [
    "*Tu solución*"
   ]
  }
 ],
 "metadata": {
  "kernelspec": {
   "display_name": "Python 3",
   "language": "python",
   "name": "python3"
  },
  "language_info": {
   "codemirror_mode": {
    "name": "ipython",
    "version": 3
   },
   "file_extension": ".py",
   "mimetype": "text/x-python",
   "name": "python",
   "nbconvert_exporter": "python",
   "pygments_lexer": "ipython3",
   "version": "3.8.3"
  }
 },
 "nbformat": 4,
 "nbformat_minor": 4
}
